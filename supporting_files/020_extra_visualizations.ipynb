{
 "cells": [
  {
   "cell_type": "code",
   "execution_count": null,
   "metadata": {},
   "outputs": [],
   "source": [
    "# Load the data\n",
    "df = pd.read_csv('../data/cleaned_reddit.csv')\n",
    "\n",
    "# Create a new column that is the length of the selftext\n",
    "df['selftext_length'] = df['selftext'].str.len()\n",
    "\n",
    "# Create a new column that is the number of words in the selftext\n",
    "df['selftext_word_count'] = df['selftext'].str.split().str.len()\n",
    "\n",
    "\n",
    "# Create a new column that is the number of sentences in the selftext\n",
    "df['selftext_sentence_count'] = df['selftext'].str.split('.').str.len()\n",
    "\n",
    "# A column for each letter of the alphabet that is the number of times that letter appears in the selftext\n",
    "for letter in 'abcdefghijklmnopqrstuvwxyz':\n",
    "    df[f'{letter}'] = df['selftext'].str.count(letter)\n",
    "\n",
    "\n",
    "df.head()"
   ]
  },
  {
   "cell_type": "code",
   "execution_count": null,
   "metadata": {},
   "outputs": [],
   "source": [
    "# let's duplicate the previous plot but this time use color to show whether the post is from r/Autism or r/OCD. This will help us see if there are any differences between the two subreddits.\n",
    "\n",
    "# make a figure plotting letters against number of occurances in selftext for each selftext length bin. To avoid the ValueError \"ValueError: num must be 1 <= num <= 16, not 17\" the number of bins is set to 25 instead of 26 (the number of letters in the alphabet). The color of the scatterplot is determined by the subreddit the post is from (the target column). \n",
    "# add a space between the plots to make them easier to read and to make the plot more aesthetically pleasing\n",
    "# for this code block ignore the IndexError\n",
    "\n",
    "fig, axes = plt.subplots(5, 5, figsize=(20,20), sharey=True, sharex=True)\n",
    "fig.subplots_adjust(hspace=0.5, wspace=0.5)\n",
    "# the suptitle should not have so much space between it and the subplots\n",
    "# the x and y labels should be larger\n",
    "for i, letter in enumerate('abcdefghijklmnopqrstuvwxyz'):\n",
    "    try:\n",
    "        ax = axes[i//5, i%5]\n",
    "        ax.scatter(df['selftext_length'], df[f'{letter}'], c=df['target'], alpha=0.5)\n",
    "        ax.set_title(letter)\n",
    "        ax.set_xlabel('Number of Occurances')\n",
    "        ax.set_ylabel('Selftext Length')\n",
    "    except IndexError:\n",
    "        pass\n",
    "\n",
    "fig.suptitle('Letter Occurances in Selftext by Selftext Length', fontsize=20, y=0.92)\n",
    "plt.savefig('../images/letter_histograms_by_subreddit.png')\n",
    "plt.show();"
   ]
  }
 ],
 "metadata": {
  "kernelspec": {
   "display_name": "Python 3.9.6 64-bit",
   "language": "python",
   "name": "python3"
  },
  "language_info": {
   "name": "python",
   "version": "3.9.6"
  },
  "orig_nbformat": 4,
  "vscode": {
   "interpreter": {
    "hash": "7812ea015bdcee6f23a998adcdd2ef97c151c0c241b7b7070987d9313e41299d"
   }
  }
 },
 "nbformat": 4,
 "nbformat_minor": 2
}
