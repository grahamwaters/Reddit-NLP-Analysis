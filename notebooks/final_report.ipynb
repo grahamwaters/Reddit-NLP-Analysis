{
 "cells": [
  {
   "cell_type": "code",
   "execution_count": 5,
   "metadata": {},
   "outputs": [
    {
     "name": "stdout",
     "output_type": "stream",
     "text": [
      "Requirement already satisfied: nltk in /Users/grahamwaters/.local/lib/python3.9/site-packages (3.7)\n",
      "Requirement already satisfied: tqdm in /Users/grahamwaters/.local/lib/python3.9/site-packages (from nltk) (4.64.1)\n",
      "Requirement already satisfied: joblib in /Users/grahamwaters/.local/lib/python3.9/site-packages (from nltk) (1.2.0)\n",
      "Requirement already satisfied: click in /Users/grahamwaters/.local/lib/python3.9/site-packages (from nltk) (8.1.3)\n",
      "Requirement already satisfied: regex>=2021.8.3 in /Users/grahamwaters/.local/lib/python3.9/site-packages (from nltk) (2022.10.31)\n",
      "Requirement already satisfied: bs4 in /Users/grahamwaters/opt/anaconda3/envs/EmersonWriter/envs/master_env_temp/lib/python3.9/site-packages (0.0.1)\n",
      "Requirement already satisfied: beautifulsoup4 in /Users/grahamwaters/opt/anaconda3/envs/EmersonWriter/envs/master_env_temp/lib/python3.9/site-packages (from bs4) (4.11.1)\n",
      "Requirement already satisfied: soupsieve>1.2 in /Users/grahamwaters/opt/anaconda3/envs/EmersonWriter/envs/master_env_temp/lib/python3.9/site-packages (from beautifulsoup4->bs4) (2.3.2.post1)\n",
      "Requirement already satisfied: scipy in /Users/grahamwaters/opt/anaconda3/envs/EmersonWriter/envs/master_env_temp/lib/python3.9/site-packages (1.9.3)\n",
      "Requirement already satisfied: numpy<1.26.0,>=1.18.5 in /Users/grahamwaters/opt/anaconda3/envs/EmersonWriter/envs/master_env_temp/lib/python3.9/site-packages (from scipy) (1.23.4)\n",
      "Requirement already satisfied: sklearn in /Users/grahamwaters/opt/anaconda3/envs/EmersonWriter/envs/master_env_temp/lib/python3.9/site-packages (0.0.post1)\n",
      "Requirement already satisfied: pandas in /Users/grahamwaters/opt/anaconda3/envs/EmersonWriter/envs/master_env_temp/lib/python3.9/site-packages (1.5.1)\n",
      "Requirement already satisfied: python-dateutil>=2.8.1 in /Users/grahamwaters/opt/anaconda3/envs/EmersonWriter/envs/master_env_temp/lib/python3.9/site-packages (from pandas) (2.8.2)\n",
      "Requirement already satisfied: numpy>=1.20.3 in /Users/grahamwaters/opt/anaconda3/envs/EmersonWriter/envs/master_env_temp/lib/python3.9/site-packages (from pandas) (1.23.4)\n",
      "Requirement already satisfied: pytz>=2020.1 in /Users/grahamwaters/opt/anaconda3/envs/EmersonWriter/envs/master_env_temp/lib/python3.9/site-packages (from pandas) (2022.6)\n",
      "Requirement already satisfied: six>=1.5 in /Users/grahamwaters/opt/anaconda3/envs/EmersonWriter/envs/master_env_temp/lib/python3.9/site-packages (from python-dateutil>=2.8.1->pandas) (1.16.0)\n",
      "Requirement already satisfied: requests in /Users/grahamwaters/opt/anaconda3/envs/EmersonWriter/envs/master_env_temp/lib/python3.9/site-packages (2.28.1)\n",
      "Requirement already satisfied: charset-normalizer<3,>=2 in /Users/grahamwaters/opt/anaconda3/envs/EmersonWriter/envs/master_env_temp/lib/python3.9/site-packages (from requests) (2.1.1)\n",
      "Requirement already satisfied: idna<4,>=2.5 in /Users/grahamwaters/opt/anaconda3/envs/EmersonWriter/envs/master_env_temp/lib/python3.9/site-packages (from requests) (3.4)\n",
      "Requirement already satisfied: urllib3<1.27,>=1.21.1 in /Users/grahamwaters/opt/anaconda3/envs/EmersonWriter/envs/master_env_temp/lib/python3.9/site-packages (from requests) (1.26.12)\n",
      "Requirement already satisfied: certifi>=2017.4.17 in /Users/grahamwaters/opt/anaconda3/envs/EmersonWriter/envs/master_env_temp/lib/python3.9/site-packages (from requests) (2022.9.24)\n"
     ]
    },
    {
     "ename": "UnboundLocalError",
     "evalue": "local variable 'child' referenced before assignment",
     "output_type": "error",
     "traceback": [
      "\u001b[0;31m---------------------------------------------------------------------------\u001b[0m",
      "\u001b[0;31mKeyboardInterrupt\u001b[0m                         Traceback (most recent call last)",
      "File \u001b[0;32m~/opt/anaconda3/envs/EmersonWriter/envs/master_env_temp/lib/python3.9/site-packages/IPython/utils/_process_posix.py:148\u001b[0m, in \u001b[0;36mProcessHandler.system\u001b[0;34m(self, cmd)\u001b[0m\n\u001b[1;32m    147\u001b[0m \u001b[39melse\u001b[39;00m:\n\u001b[0;32m--> 148\u001b[0m     child \u001b[39m=\u001b[39m pexpect\u001b[39m.\u001b[39;49mspawn(\u001b[39mself\u001b[39;49m\u001b[39m.\u001b[39;49msh, args\u001b[39m=\u001b[39;49m[\u001b[39m'\u001b[39;49m\u001b[39m-c\u001b[39;49m\u001b[39m'\u001b[39;49m, cmd])  \u001b[39m# Vanilla Pexpect\u001b[39;00m\n\u001b[1;32m    149\u001b[0m flush \u001b[39m=\u001b[39m sys\u001b[39m.\u001b[39mstdout\u001b[39m.\u001b[39mflush\n",
      "File \u001b[0;32m~/opt/anaconda3/envs/EmersonWriter/envs/master_env_temp/lib/python3.9/site-packages/pexpect/pty_spawn.py:205\u001b[0m, in \u001b[0;36mspawn.__init__\u001b[0;34m(self, command, args, timeout, maxread, searchwindowsize, logfile, cwd, env, ignore_sighup, echo, preexec_fn, encoding, codec_errors, dimensions, use_poll)\u001b[0m\n\u001b[1;32m    204\u001b[0m \u001b[39melse\u001b[39;00m:\n\u001b[0;32m--> 205\u001b[0m     \u001b[39mself\u001b[39;49m\u001b[39m.\u001b[39;49m_spawn(command, args, preexec_fn, dimensions)\n\u001b[1;32m    206\u001b[0m \u001b[39mself\u001b[39m\u001b[39m.\u001b[39muse_poll \u001b[39m=\u001b[39m use_poll\n",
      "File \u001b[0;32m~/opt/anaconda3/envs/EmersonWriter/envs/master_env_temp/lib/python3.9/site-packages/pexpect/pty_spawn.py:303\u001b[0m, in \u001b[0;36mspawn._spawn\u001b[0;34m(self, command, args, preexec_fn, dimensions)\u001b[0m\n\u001b[1;32m    300\u001b[0m     \u001b[39mself\u001b[39m\u001b[39m.\u001b[39margs \u001b[39m=\u001b[39m [a \u001b[39mif\u001b[39;00m \u001b[39misinstance\u001b[39m(a, \u001b[39mbytes\u001b[39m) \u001b[39melse\u001b[39;00m a\u001b[39m.\u001b[39mencode(\u001b[39mself\u001b[39m\u001b[39m.\u001b[39mencoding)\n\u001b[1;32m    301\u001b[0m                  \u001b[39mfor\u001b[39;00m a \u001b[39min\u001b[39;00m \u001b[39mself\u001b[39m\u001b[39m.\u001b[39margs]\n\u001b[0;32m--> 303\u001b[0m \u001b[39mself\u001b[39m\u001b[39m.\u001b[39mptyproc \u001b[39m=\u001b[39m \u001b[39mself\u001b[39;49m\u001b[39m.\u001b[39;49m_spawnpty(\u001b[39mself\u001b[39;49m\u001b[39m.\u001b[39;49margs, env\u001b[39m=\u001b[39;49m\u001b[39mself\u001b[39;49m\u001b[39m.\u001b[39;49menv,\n\u001b[1;32m    304\u001b[0m                              cwd\u001b[39m=\u001b[39;49m\u001b[39mself\u001b[39;49m\u001b[39m.\u001b[39;49mcwd, \u001b[39m*\u001b[39;49m\u001b[39m*\u001b[39;49mkwargs)\n\u001b[1;32m    306\u001b[0m \u001b[39mself\u001b[39m\u001b[39m.\u001b[39mpid \u001b[39m=\u001b[39m \u001b[39mself\u001b[39m\u001b[39m.\u001b[39mptyproc\u001b[39m.\u001b[39mpid\n",
      "File \u001b[0;32m~/opt/anaconda3/envs/EmersonWriter/envs/master_env_temp/lib/python3.9/site-packages/pexpect/pty_spawn.py:315\u001b[0m, in \u001b[0;36mspawn._spawnpty\u001b[0;34m(self, args, **kwargs)\u001b[0m\n\u001b[1;32m    314\u001b[0m \u001b[39m'''Spawn a pty and return an instance of PtyProcess.'''\u001b[39;00m\n\u001b[0;32m--> 315\u001b[0m \u001b[39mreturn\u001b[39;00m ptyprocess\u001b[39m.\u001b[39;49mPtyProcess\u001b[39m.\u001b[39;49mspawn(args, \u001b[39m*\u001b[39;49m\u001b[39m*\u001b[39;49mkwargs)\n",
      "File \u001b[0;32m~/opt/anaconda3/envs/EmersonWriter/envs/master_env_temp/lib/python3.9/site-packages/ptyprocess/ptyprocess.py:315\u001b[0m, in \u001b[0;36mPtyProcess.spawn\u001b[0;34m(cls, argv, cwd, env, echo, preexec_fn, dimensions, pass_fds)\u001b[0m\n\u001b[1;32m    314\u001b[0m os\u001b[39m.\u001b[39mclose(exec_err_pipe_write)\n\u001b[0;32m--> 315\u001b[0m exec_err_data \u001b[39m=\u001b[39m os\u001b[39m.\u001b[39;49mread(exec_err_pipe_read, \u001b[39m4096\u001b[39;49m)\n\u001b[1;32m    316\u001b[0m os\u001b[39m.\u001b[39mclose(exec_err_pipe_read)\n",
      "\u001b[0;31mKeyboardInterrupt\u001b[0m: ",
      "\nDuring handling of the above exception, another exception occurred:\n",
      "\u001b[0;31mUnboundLocalError\u001b[0m                         Traceback (most recent call last)",
      "Cell \u001b[0;32mIn [5], line 7\u001b[0m\n\u001b[1;32m      5\u001b[0m get_ipython()\u001b[38;5;241m.\u001b[39msystem(\u001b[38;5;124m'\u001b[39m\u001b[38;5;124mpip3 install pandas;\u001b[39m\u001b[38;5;124m'\u001b[39m)\n\u001b[1;32m      6\u001b[0m get_ipython()\u001b[38;5;241m.\u001b[39msystem(\u001b[38;5;124m'\u001b[39m\u001b[38;5;124mpip3 install requests;\u001b[39m\u001b[38;5;124m'\u001b[39m)\n\u001b[0;32m----> 7\u001b[0m \u001b[43mget_ipython\u001b[49m\u001b[43m(\u001b[49m\u001b[43m)\u001b[49m\u001b[38;5;241;43m.\u001b[39;49m\u001b[43msystem\u001b[49m\u001b[43m(\u001b[49m\u001b[38;5;124;43m'\u001b[39;49m\u001b[38;5;124;43mpip3 install nltk;\u001b[39;49m\u001b[38;5;124;43m'\u001b[39;49m\u001b[43m)\u001b[49m\n\u001b[1;32m      8\u001b[0m get_ipython()\u001b[38;5;241m.\u001b[39msystem(\u001b[38;5;124m'\u001b[39m\u001b[38;5;124mpip3 install seaborn;\u001b[39m\u001b[38;5;124m'\u001b[39m)\n",
      "File \u001b[0;32m~/opt/anaconda3/envs/EmersonWriter/envs/master_env_temp/lib/python3.9/site-packages/ipykernel/zmqshell.py:633\u001b[0m, in \u001b[0;36mZMQInteractiveShell.system_piped\u001b[0;34m(self, cmd)\u001b[0m\n\u001b[1;32m    631\u001b[0m         \u001b[39mself\u001b[39m\u001b[39m.\u001b[39muser_ns[\u001b[39m\"\u001b[39m\u001b[39m_exit_code\u001b[39m\u001b[39m\"\u001b[39m] \u001b[39m=\u001b[39m system(cmd)\n\u001b[1;32m    632\u001b[0m \u001b[39melse\u001b[39;00m:\n\u001b[0;32m--> 633\u001b[0m     \u001b[39mself\u001b[39m\u001b[39m.\u001b[39muser_ns[\u001b[39m\"\u001b[39m\u001b[39m_exit_code\u001b[39m\u001b[39m\"\u001b[39m] \u001b[39m=\u001b[39m system(\u001b[39mself\u001b[39;49m\u001b[39m.\u001b[39;49mvar_expand(cmd, depth\u001b[39m=\u001b[39;49m\u001b[39m1\u001b[39;49m))\n",
      "File \u001b[0;32m~/opt/anaconda3/envs/EmersonWriter/envs/master_env_temp/lib/python3.9/site-packages/IPython/utils/_process_posix.py:164\u001b[0m, in \u001b[0;36mProcessHandler.system\u001b[0;34m(self, cmd)\u001b[0m\n\u001b[1;32m    159\u001b[0m         out_size \u001b[39m=\u001b[39m \u001b[39mlen\u001b[39m(child\u001b[39m.\u001b[39mbefore)\n\u001b[1;32m    160\u001b[0m \u001b[39mexcept\u001b[39;00m \u001b[39mKeyboardInterrupt\u001b[39;00m:\n\u001b[1;32m    161\u001b[0m     \u001b[39m# We need to send ^C to the process.  The ascii code for '^C' is 3\u001b[39;00m\n\u001b[1;32m    162\u001b[0m     \u001b[39m# (the character is known as ETX for 'End of Text', see\u001b[39;00m\n\u001b[1;32m    163\u001b[0m     \u001b[39m# curses.ascii.ETX).\u001b[39;00m\n\u001b[0;32m--> 164\u001b[0m     child\u001b[39m.\u001b[39msendline(\u001b[39mchr\u001b[39m(\u001b[39m3\u001b[39m))\n\u001b[1;32m    165\u001b[0m     \u001b[39m# Read and print any more output the program might produce on its\u001b[39;00m\n\u001b[1;32m    166\u001b[0m     \u001b[39m# way out.\u001b[39;00m\n\u001b[1;32m    167\u001b[0m     \u001b[39mtry\u001b[39;00m:\n",
      "\u001b[0;31mUnboundLocalError\u001b[0m: local variable 'child' referenced before assignment"
     ]
    }
   ],
   "source": [
    "!pip3 install nltk --user;\n",
    "!pip3 install bs4;\n",
    "!pip3 install scipy;\n",
    "!pip3 install sklearn;\n",
    "!pip3 install pandas;\n",
    "!pip3 install requests;\n",
    "!pip3 install nltk;\n",
    "!pip3 install seaborn;"
   ]
  },
  {
   "cell_type": "code",
   "execution_count": null,
   "metadata": {},
   "outputs": [],
   "source": [
    "import requests\n",
    "from bs4 import BeautifulSoup\n",
    "import pandas as pd\n",
    "import seaborn as sns\n",
    "import matplotlib.pyplot as plt\n",
    "from scipy.cluster.hierarchy import linkage\n",
    "import re\n",
    "import numpy as np\n",
    "from matplotlib import pyplot as plt\n",
    "from nltk.corpus import stopwords\n",
    "from nltk.stem import PorterStemmer\n",
    "from nltk.tokenize import word_tokenize\n",
    "\n",
    "\n",
    "# sklearn imports\n",
    "from sklearn.feature_extraction.text import TfidfVectorizer\n",
    "from sklearn.cluster import KMeans\n",
    "from sklearn.metrics import adjusted_rand_score\n",
    "from sklearn.cluster import AgglomerativeClustering\n",
    "from sklearn.metrics import silhouette_score\n",
    "from sklearn.feature_extraction.text import CountVectorizer\n",
    "from sklearn.decomposition import LatentDirichletAllocation\n",
    "from sklearn.decomposition import NMF\n",
    "from sklearn.cluster import DBSCAN\n",
    "from sklearn.cluster import AffinityPropagation\n",
    "from sklearn.cluster import MeanShift\n",
    "from sklearn.cluster import SpectralClustering\n",
    "from sklearn.cluster import OPTICS\n",
    "from sklearn.cluster import Birch\n",
    "from sklearn.cluster import AgglomerativeClustering\n",
    "from sklearn.cluster import MiniBatchKMeans\n",
    "\n",
    "# adaboost imports\n",
    "from sklearn.ensemble import AdaBoostClassifier\n",
    "from sklearn.tree import DecisionTreeClassifier\n",
    "from sklearn.model_selection import train_test_split\n",
    "from sklearn.metrics import accuracy_score\n",
    "from sklearn.metrics import confusion_matrix\n",
    "from sklearn.metrics import classification_report\n",
    "from sklearn.metrics import roc_curve\n",
    "from sklearn.metrics import roc_auc_score\n",
    "from sklearn.metrics import precision_recall_curve\n",
    "from sklearn.metrics import average_precision_score\n",
    "from sklearn.metrics import f1_score\n",
    "\n",
    "# LogisticRegression\n",
    "from sklearn.linear_model import LogisticRegression\n",
    "\n",
    "# Tree imports\n",
    "from sklearn.tree import DecisionTreeClassifier\n",
    "from sklearn.tree import export_graphviz\n",
    "from sklearn import tree\n",
    "from sklearn.tree import plot_tree\n",
    "from sklearn.tree import export_text\n",
    "\n",
    "from tqdm import tqdm\n",
    "from alive_progress import alive_bar\n",
    "\n",
    "# import CountVectorizer\n",
    "from sklearn.feature_extraction.text import CountVectorizer"
   ]
  },
  {
   "cell_type": "code",
   "execution_count": null,
   "metadata": {},
   "outputs": [],
   "source": [
    "\n",
    "def get_keywords(post):\n",
    "    \"\"\"Get the keywords from a post\"\"\"\n",
    "    # Get the keywords from the post\n",
    "    keywords = set()\n",
    "    for word in re.split(\"\\W+\", post.text):\n",
    "        if word in keywords:\n",
    "            continue\n",
    "        else:\n",
    "            keywords.add(word)\n",
    "    return keywords\n",
    "\n",
    "\n",
    "# define the stop words list\n",
    "stop_words = set(stopwords.words(\"english\"))\n",
    "\n",
    "# Remove Punctuation\n",
    "def remove_punctuation(text):\n",
    "    \"\"\"Remove punctuation from a string\"\"\"\n",
    "    return ''.join(ch for ch in text if ch not in stop_words)\n",
    "\n",
    "# Lower Case\n",
    "def lowercase(text):\n",
    "    \"\"\"Lower case a string\"\"\"\n",
    "    return text.lower()\n",
    "\n"
   ]
  },
  {
   "cell_type": "code",
   "execution_count": null,
   "metadata": {},
   "outputs": [
    {
     "name": "stderr",
     "output_type": "stream",
     "text": [
      "/var/folders/34/d1tlq3k91hb0lj6x90xpzb4r0000gn/T/ipykernel_51534/972057233.py:2: DtypeWarning: Columns (5,27,50,51,53,54,56,57,60,61,63,67,68,75,76,77,80,81,82,83,84,85,87,88,89,90,91) have mixed types. Specify dtype option on import or set low_memory=False.\n",
      "  df_ocd = pd.read_csv('../data/ocd_thread.csv')\n",
      "/var/folders/34/d1tlq3k91hb0lj6x90xpzb4r0000gn/T/ipykernel_51534/972057233.py:3: DtypeWarning: Columns (70,71,74,75,76,77,78,79,80,82,83,84,85,86,87,88) have mixed types. Specify dtype option on import or set low_memory=False.\n",
      "  df_autism = pd.read_csv('../data/autism_thread.csv')\n"
     ]
    }
   ],
   "source": [
    "# opening the scraped data saved in csv files and creating a dataframe for each\n",
    "df_ocd = pd.read_csv('../data/ocd_thread.csv')\n",
    "df_autism = pd.read_csv('../data/autism_thread.csv')\n",
    "\n",
    "# creating a target column for each dataframe\n",
    "df_ocd['target'] = 1\n",
    "df_autism['target'] = 0"
   ]
  },
  {
   "cell_type": "markdown",
   "metadata": {},
   "source": [
    "# Cleaning up the data"
   ]
  },
  {
   "cell_type": "code",
   "execution_count": null,
   "metadata": {},
   "outputs": [
    {
     "name": "stdout",
     "output_type": "stream",
     "text": [
      "Dimensions before dropping columns with more than 50% missing values: (41449, 93) for OCD and (25750, 90) for Autism\n",
      "Dimensions after dropping columns with more than 50% missing values: (41449, 51) for OCD and (25750, 52) for Autism\n"
     ]
    }
   ],
   "source": [
    "# drop columns with more than 50% missing values from the dataframes\n",
    "print(f'Dimensions before dropping columns with more than 50% missing values: {df_ocd.shape} for OCD and {df_autism.shape} for Autism')\n",
    "df_ocd = df_ocd.dropna(thresh=0.5*len(df_ocd), axis=1)\n",
    "df_autism = df_autism.dropna(thresh=0.5*len(df_autism), axis=1)\n",
    "print(f'Dimensions after dropping columns with more than 50% missing values: {df_ocd.shape} for OCD and {df_autism.shape} for Autism')"
   ]
  },
  {
   "cell_type": "code",
   "execution_count": null,
   "metadata": {},
   "outputs": [
    {
     "name": "stdout",
     "output_type": "stream",
     "text": [
      "columns in df_ocd: Index(['author', 'author_flair_richtext', 'author_flair_type', 'can_mod_post',\n",
      "       'contest_mode', 'created_utc', 'domain', 'full_link', 'id',\n",
      "       'is_crosspostable', 'is_reddit_media_domain', 'is_self', 'is_video',\n",
      "       'link_flair_richtext', 'link_flair_text_color', 'link_flair_type',\n",
      "       'locked', 'num_comments', 'num_crossposts', 'over_18',\n",
      "       'parent_whitelist_status', 'permalink', 'pinned', 'retrieved_on',\n",
      "       'score', 'selftext', 'spoiler', 'stickied', 'subreddit', 'subreddit_id',\n",
      "       'subreddit_type', 'thumbnail', 'title', 'url', 'whitelist_status',\n",
      "       'send_replies', 'no_follow', 'subreddit_subscribers',\n",
      "       'is_original_content', 'pwls', 'wls', 'media_only', 'is_meta',\n",
      "       'author_fullname', 'gildings', 'is_robot_indexable',\n",
      "       'author_patreon_flair', 'all_awardings', 'total_awards_received',\n",
      "       'allow_live_comments', 'target'],\n",
      "      dtype='object')\n"
     ]
    }
   ],
   "source": [
    "print(f'columns in df_ocd: {df_ocd.columns}')\n"
   ]
  },
  {
   "cell_type": "code",
   "execution_count": null,
   "metadata": {},
   "outputs": [],
   "source": [
    "#* Only keep the columns in these two dataframes that are in both dataframes and are in the lists below\n",
    "autism_columns_to_keep = ['author', 'author_flair_richtext', 'author_flair_type','created_utc', 'id', 'is_video', 'selftext', 'title', 'is_original_content','media_only', 'author_fullname','target']\n",
    "ocd_columns_to_keep = ['author', 'author_flair_richtext', 'author_flair_type','created_utc', 'id', 'is_video', 'selftext', 'title', 'is_original_content','media_only', 'author_fullname','target']"
   ]
  },
  {
   "cell_type": "code",
   "execution_count": null,
   "metadata": {},
   "outputs": [
    {
     "name": "stdout",
     "output_type": "stream",
     "text": [
      "Dimensions before dropping columns that are not in the lists above: (41449, 51) for OCD and (25750, 52) for Autism\n",
      "Dimensions after dropping columns that are not in the lists above: (41449, 12) for OCD and (25750, 12) for Autism\n"
     ]
    }
   ],
   "source": [
    "# drop columns that are not in the lists above\n",
    "print(f'Dimensions before dropping columns that are not in the lists above: {df_ocd.shape} for OCD and {df_autism.shape} for Autism')\n",
    "df_ocd = df_ocd[ocd_columns_to_keep] \n",
    "df_autism = df_autism[autism_columns_to_keep]\n",
    "print(f'Dimensions after dropping columns that are not in the lists above: {df_ocd.shape} for OCD and {df_autism.shape} for Autism')"
   ]
  },
  {
   "cell_type": "code",
   "execution_count": null,
   "metadata": {},
   "outputs": [
    {
     "name": "stdout",
     "output_type": "stream",
     "text": [
      "Dimensions before removing posts where `is_video` or `media_only` columns are True: (41449, 12) for OCD and (25750, 12) for Autism\n",
      "Dimensions after removing posts where `is_video` or `media_only` columns are True: (37323, 12) for OCD and (25540, 12) for Autism\n",
      "Dropped the `is_video` and `media_only` columns\n"
     ]
    }
   ],
   "source": [
    "# Now remove any posts from these dataframes where the `is_video` or `media_only` columsn are True\n",
    "print(f'Dimensions before removing posts where `is_video` or `media_only` columns are True: {df_ocd.shape} for OCD and {df_autism.shape} for Autism')\n",
    "df_ocd = df_ocd[(df_ocd['is_video'] == False) & (df_ocd['media_only'] == False)]\n",
    "df_autism = df_autism[(df_autism['is_video'] == False) & (df_autism['media_only'] == False)]\n",
    "print(f'Dimensions after removing posts where `is_video` or `media_only` columns are True: {df_ocd.shape} for OCD and {df_autism.shape} for Autism')\n",
    "\n",
    "# and now we can drop the `is_video` and `media_only` columns\n",
    "df_ocd = df_ocd.drop(columns=['is_video', 'media_only'])\n",
    "df_autism = df_autism.drop(columns=['is_video', 'media_only'])\n",
    "print(f'Dropped the `is_video` and `media_only` columns')\n"
   ]
  },
  {
   "cell_type": "code",
   "execution_count": null,
   "metadata": {},
   "outputs": [
    {
     "name": "stdout",
     "output_type": "stream",
     "text": [
      "Median length of title and selftext columns combined for OCD: 652.0\n",
      "Median length of title and selftext columns combined for Autism: 470.0\n"
     ]
    }
   ],
   "source": [
    "# some posts are in the title column and some are in the selftext column so we need to combine these columns into one column if they are long enough.\n",
    "# find the median length of the title and selftext columns combined for each dataframe\n",
    "med_len_title_selftext_ocd = df_ocd.title.str.len().add(df_ocd.selftext.str.len()).median()\n",
    "med_len_title_selftext_autism = df_autism.title.str.len().add(df_autism.selftext.str.len()).median()\n",
    "print(f'Median length of title and selftext columns combined for OCD: {med_len_title_selftext_ocd}')\n",
    "print(f'Median length of title and selftext columns combined for Autism: {med_len_title_selftext_autism}')\n"
   ]
  },
  {
   "cell_type": "code",
   "execution_count": null,
   "metadata": {},
   "outputs": [
    {
     "name": "stdout",
     "output_type": "stream",
     "text": [
      "Acceptable number of OCD posts: 16343\n",
      "Acceptable number of Autism posts: 9021\n"
     ]
    }
   ],
   "source": [
    "# how many posts have a title and selftext combined that are longer than the median length of the title and selftext columns combined for each dataframe?\n",
    "print(f'Acceptable number of OCD posts: {len(df_ocd[df_ocd.title.str.len().add(df_ocd.selftext.str.len()) > med_len_title_selftext_ocd])}')\n",
    "print(f'Acceptable number of Autism posts: {len(df_autism[df_autism.title.str.len().add(df_autism.selftext.str.len()) > med_len_title_selftext_autism])}')"
   ]
  },
  {
   "cell_type": "code",
   "execution_count": null,
   "metadata": {},
   "outputs": [
    {
     "name": "stdout",
     "output_type": "stream",
     "text": [
      "Dimensions before: (37323, 10) for OCD and (25540, 10) for Autism\n",
      "Dimensions before: (16343, 10) for OCD and (9021, 10) for Autism\n"
     ]
    }
   ],
   "source": [
    "# remove posts where the title and selftext combined are shorter than the median length of the title and selftext columns combined for each dataframe\n",
    "print(f'Dimensions before: {df_ocd.shape} for OCD and {df_autism.shape} for Autism')\n",
    "df_ocd = df_ocd[df_ocd.title.str.len().add(df_ocd.selftext.str.len()) > med_len_title_selftext_ocd]\n",
    "df_autism = df_autism[df_autism.title.str.len().add(df_autism.selftext.str.len()) > med_len_title_selftext_autism]\n",
    "print(f'Dimensions before: {df_ocd.shape} for OCD and {df_autism.shape} for Autism')"
   ]
  },
  {
   "cell_type": "code",
   "execution_count": null,
   "metadata": {},
   "outputs": [],
   "source": [
    "# drop author_flair_richtext\n",
    "df_ocd = df_ocd.drop(columns=['author_flair_richtext'])\n",
    "df_autism = df_autism.drop(columns=['author_flair_richtext'])\n"
   ]
  },
  {
   "cell_type": "code",
   "execution_count": null,
   "metadata": {},
   "outputs": [
    {
     "name": "stdout",
     "output_type": "stream",
     "text": [
      "Number of authors in df_ocd: 7688\n",
      "Number of authors in df_autism: 2897\n"
     ]
    }
   ],
   "source": [
    "# how many authors are in each dataframe?\n",
    "print(f'Number of authors in df_ocd: {len(df_ocd.author.unique())}')\n",
    "print(f'Number of authors in df_autism: {len(df_autism.author.unique())}')\n"
   ]
  },
  {
   "cell_type": "code",
   "execution_count": null,
   "metadata": {},
   "outputs": [],
   "source": [
    "# how many posts are there for the top 100 authors in each dataframe?\n",
    "top_authors_ocd = df_ocd.author.value_counts().head(100)\n",
    "top_authors_byfullname_ocd = df_ocd.author_fullname.value_counts().head(100)\n",
    "top_authors_autism = df_autism.author.value_counts().head(100)\n",
    "top_authors_byfullname_autism = df_autism.author_fullname.value_counts().head(100)"
   ]
  },
  {
   "cell_type": "code",
   "execution_count": null,
   "metadata": {},
   "outputs": [
    {
     "data": {
      "text/plain": [
       "Userur      143\n",
       "corinaah     44\n",
       "Name: author, dtype: int64"
      ]
     },
     "execution_count": 100,
     "metadata": {},
     "output_type": "execute_result"
    }
   ],
   "source": [
    "top_authors_ocd.head(2)"
   ]
  },
  {
   "cell_type": "code",
   "execution_count": null,
   "metadata": {},
   "outputs": [
    {
     "data": {
      "text/plain": [
       "Jupiter642           47\n",
       "anonaskingaccount    32\n",
       "Name: author, dtype: int64"
      ]
     },
     "execution_count": 101,
     "metadata": {},
     "output_type": "execute_result"
    }
   ],
   "source": [
    "top_authors_autism.head(2)"
   ]
  },
  {
   "cell_type": "code",
   "execution_count": null,
   "metadata": {},
   "outputs": [
    {
     "name": "stdout",
     "output_type": "stream",
     "text": [
      "Number of authors that are in both dataframes: 0\n",
      "List of authors that are in both dataframes: []\n"
     ]
    }
   ],
   "source": [
    "# are there any authors that are in both dataframes?\n",
    "print(f'Number of authors that are in both dataframes: {len(set(top_authors_ocd.index).intersection(set(top_authors_autism.index)))}')\n",
    "list_of_cross_posters = list(set(top_authors_ocd.index).intersection(set(top_authors_autism.index)))\n",
    "print(f'List of authors that are in both dataframes: {list_of_cross_posters}')"
   ]
  },
  {
   "cell_type": "code",
   "execution_count": null,
   "metadata": {},
   "outputs": [],
   "source": [
    "# drop author_flair_type and author_fullname columns from both dataframes\n",
    "df_ocd = df_ocd.drop(columns=['author_flair_type', 'author_fullname'])\n",
    "df_autism = df_autism.drop(columns=['author_flair_type', 'author_fullname'])\n"
   ]
  },
  {
   "cell_type": "code",
   "execution_count": null,
   "metadata": {},
   "outputs": [],
   "source": [
    "# combine the title and self text columns into one column with the format `title - selftext`\n",
    "df_ocd['title_selftext'] = df_ocd.title + ' - ' + df_ocd.selftext\n",
    "df_autism['title_selftext'] = df_autism.title + ' - ' + df_autism.selftext\n"
   ]
  },
  {
   "cell_type": "code",
   "execution_count": null,
   "metadata": {},
   "outputs": [],
   "source": [
    "# drop the title and selftext columns\n",
    "df_ocd = df_ocd.drop(columns=['title', 'selftext'])\n",
    "df_autism = df_autism.drop(columns=['title', 'selftext'])\n"
   ]
  },
  {
   "cell_type": "code",
   "execution_count": null,
   "metadata": {},
   "outputs": [],
   "source": [
    "# rename the `title_selftext` column to `selftext`\n",
    "df_ocd = df_ocd.rename(columns={'title_selftext': 'selftext'})\n",
    "df_autism = df_autism.rename(columns={'title_selftext': 'selftext'})\n"
   ]
  },
  {
   "cell_type": "code",
   "execution_count": null,
   "metadata": {},
   "outputs": [],
   "source": [
    "# print the first five selftext posts for each dataframe\n"
   ]
  },
  {
   "cell_type": "markdown",
   "metadata": {},
   "source": [
    "## cleaning out the post data (to remove biasing factors)"
   ]
  },
  {
   "cell_type": "code",
   "execution_count": null,
   "metadata": {},
   "outputs": [],
   "source": [
    "cancel_words = ['ocd','aut*','autism','obsess*','compuls*','disorder','diagnosis']"
   ]
  },
  {
   "cell_type": "code",
   "execution_count": null,
   "metadata": {},
   "outputs": [
    {
     "name": "stderr",
     "output_type": "stream",
     "text": [
      "/var/folders/34/d1tlq3k91hb0lj6x90xpzb4r0000gn/T/ipykernel_51534/2951519817.py:24: FutureWarning: The default value of regex will change from True to False in a future version.\n",
      "  df_ocd['selftext'] = df_ocd['selftext'].str.replace('[^\\w\\s]','')\n",
      "/var/folders/34/d1tlq3k91hb0lj6x90xpzb4r0000gn/T/ipykernel_51534/2951519817.py:26: FutureWarning: The default value of regex will change from True to False in a future version.\n",
      "  df_ocd['selftext'] = df_ocd['selftext'].str.replace('\\d+', '')\n",
      "/var/folders/34/d1tlq3k91hb0lj6x90xpzb4r0000gn/T/ipykernel_51534/2951519817.py:28: FutureWarning: The default value of regex will change from True to False in a future version.\n",
      "  df_ocd['selftext'] = df_ocd['selftext'].str.replace('\\s+', ' ')\n",
      "/var/folders/34/d1tlq3k91hb0lj6x90xpzb4r0000gn/T/ipykernel_51534/2951519817.py:33: FutureWarning: The default value of regex will change from True to False in a future version.\n",
      "  df_autism['selftext'] = df_autism['selftext'].str.replace('[^\\w\\s]','')\n",
      "/var/folders/34/d1tlq3k91hb0lj6x90xpzb4r0000gn/T/ipykernel_51534/2951519817.py:35: FutureWarning: The default value of regex will change from True to False in a future version.\n",
      "  df_autism['selftext'] = df_autism['selftext'].str.replace('\\d+', '')\n",
      "/var/folders/34/d1tlq3k91hb0lj6x90xpzb4r0000gn/T/ipykernel_51534/2951519817.py:37: FutureWarning: The default value of regex will change from True to False in a future version.\n",
      "  df_autism['selftext'] = df_autism['selftext'].str.replace('\\s+', ' ')\n"
     ]
    }
   ],
   "source": [
    "def censor_words(text):\n",
    "    text = text.lower()\n",
    "    # Remove all words that begin with 'aut' from the sentence and return the result\n",
    "    # regex pattern\n",
    "    pattern = r'aut(.*?)[^a-zA-Z]' # aut followed by any number of characters then ending in any character that is not a letter\n",
    "    # replace those pattern matches with '' (nothing)\n",
    "    text =  re.sub(pattern, '', text) # replace the pattern matches with '' (nothing)\n",
    "    \n",
    "    # pattern 2 - remove all words that begin with 'ocd' from the sentence and return the result\n",
    "    pattern = r'ocd(.*?)[^a-zA-Z]' # ocd followed by any number of characters then ending in any character that is not a letter\n",
    "    # replace those pattern matches with '' (nothing)\n",
    "    text =  re.sub(pattern, '', text) # replace the pattern matches with '' (nothing)\n",
    "\n",
    "    # pattern 3 - remove all words that begin with 'obsess' from the sentence and return the result\n",
    "    pattern = r'obsess|compuls(.*?)[^a-zA-Z]' # obsess followed by any number of characters then ending in any character that is not a letter\n",
    "    # replace those pattern matches with '' (nothing)\n",
    "    text =  re.sub(pattern, '', text) # replace the pattern matches with '' (nothing)\n",
    "    return text # return the result\n",
    "\n",
    "# apply the censor_words function to the selftext column of each dataframe\n",
    "df_ocd['selftext'] = df_ocd['selftext'].apply(censor_words)\n",
    "\n",
    "# remove punctuation\n",
    "df_ocd['selftext'] = df_ocd['selftext'].str.replace('[^\\w\\s]','')\n",
    "# remove numbers\n",
    "df_ocd['selftext'] = df_ocd['selftext'].str.replace('\\d+', '')\n",
    "# remove whitespace\n",
    "df_ocd['selftext'] = df_ocd['selftext'].str.replace('\\s+', ' ')\n",
    "\n",
    "# do the same for the autism dataframe\n",
    "df_autism['selftext'] = df_autism['selftext'].apply(censor_words)\n",
    "# remove punctuation\n",
    "df_autism['selftext'] = df_autism['selftext'].str.replace('[^\\w\\s]','')\n",
    "# remove numbers\n",
    "df_autism['selftext'] = df_autism['selftext'].str.replace('\\d+', '')\n",
    "# remove whitespace\n",
    "df_autism['selftext'] = df_autism['selftext'].str.replace('\\s+', ' ')\n",
    "\n"
   ]
  },
  {
   "cell_type": "code",
   "execution_count": null,
   "metadata": {},
   "outputs": [],
   "source": [
    "# remove words from posts that are in the cancel_words list. There are regex patterns in the cancel_words list so we need to use the `regex=True` parameter\n",
    "\n",
    "# then remove double spaces\n",
    "df_ocd['selftext'] = df_ocd['selftext'].str.replace('  ', ' ')\n",
    "df_autism['selftext'] = df_autism['selftext'].str.replace('  ', ' ')"
   ]
  },
  {
   "cell_type": "code",
   "execution_count": null,
   "metadata": {},
   "outputs": [],
   "source": []
  },
  {
   "cell_type": "code",
   "execution_count": null,
   "metadata": {},
   "outputs": [
    {
     "name": "stderr",
     "output_type": "stream",
     "text": [
      "/var/folders/34/d1tlq3k91hb0lj6x90xpzb4r0000gn/T/ipykernel_51534/2826576949.py:18: FutureWarning: In a future version, object-dtype columns with all-bool values will not be included in reductions with bool_only=True. Explicitly cast to bool dtype instead.\n",
      "  df_reddit = pd.concat([df_reddit, longer_df], axis=0)\n"
     ]
    }
   ],
   "source": [
    "# make a new dataframe called df_reddit that combines the two dataframes\n",
    "\n",
    "df_reddit = pd.DataFrame(columns=df_ocd.columns)\n",
    "# what is the length of the shorter dataframe?\n",
    "if len(df_ocd) < len(df_autism): # if the OCD dataframe is shorter\n",
    "    shorter_df = df_ocd # set the shorter dataframe to the OCD dataframe\n",
    "    longer_df = df_autism # set the longer dataframe to the Autism dataframe\n",
    "    df_reddit.append()\n",
    "else: # if the Autism dataframe is shorter\n",
    "    shorter_df = df_autism\n",
    "    longer_df = df_ocd\n",
    "\n",
    "# add the shorter dataframe to the new dataframe using concat\n",
    "df_reddit = pd.concat([df_reddit, shorter_df], axis=0)\n",
    "# shorten the longer dataframe to the length of the shorter dataframe\n",
    "longer_df = longer_df.head(len(shorter_df))\n",
    "# add the shortened longer dataframe to the new dataframe using concat\n",
    "df_reddit = pd.concat([df_reddit, longer_df], axis=0)\n",
    "\n",
    "# reset the index\n",
    "df_reddit = df_reddit.reset_index(drop=True)"
   ]
  },
  {
   "cell_type": "code",
   "execution_count": null,
   "metadata": {},
   "outputs": [
    {
     "name": "stdout",
     "output_type": "stream",
     "text": [
      "Dimensions of the new dataframe: (18042, 6)\n"
     ]
    },
    {
     "data": {
      "text/html": [
       "<div>\n",
       "<style scoped>\n",
       "    .dataframe tbody tr th:only-of-type {\n",
       "        vertical-align: middle;\n",
       "    }\n",
       "\n",
       "    .dataframe tbody tr th {\n",
       "        vertical-align: top;\n",
       "    }\n",
       "\n",
       "    .dataframe thead th {\n",
       "        text-align: right;\n",
       "    }\n",
       "</style>\n",
       "<table border=\"1\" class=\"dataframe\">\n",
       "  <thead>\n",
       "    <tr style=\"text-align: right;\">\n",
       "      <th></th>\n",
       "      <th>author</th>\n",
       "      <th>created_utc</th>\n",
       "      <th>id</th>\n",
       "      <th>is_original_content</th>\n",
       "      <th>target</th>\n",
       "      <th>selftext</th>\n",
       "    </tr>\n",
       "  </thead>\n",
       "  <tbody>\n",
       "    <tr>\n",
       "      <th>0</th>\n",
       "      <td>ChubbyMonkeyX</td>\n",
       "      <td>1539241532</td>\n",
       "      <td>9n7o85</td>\n",
       "      <td>False</td>\n",
       "      <td>1</td>\n",
       "      <td>really bad but not very endangering ive though...</td>\n",
       "    </tr>\n",
       "    <tr>\n",
       "      <th>1</th>\n",
       "      <td>yognzvaidkd</td>\n",
       "      <td>1620336450</td>\n",
       "      <td>n6i6sp</td>\n",
       "      <td>False</td>\n",
       "      <td>1</td>\n",
       "      <td>a lot just happened and idk whats true can som...</td>\n",
       "    </tr>\n",
       "    <tr>\n",
       "      <th>2</th>\n",
       "      <td>kiranode</td>\n",
       "      <td>1554270592</td>\n",
       "      <td>b8u505</td>\n",
       "      <td>False</td>\n",
       "      <td>0</td>\n",
       "      <td>first group therapy session still stressed out...</td>\n",
       "    </tr>\n",
       "    <tr>\n",
       "      <th>3</th>\n",
       "      <td>b50142</td>\n",
       "      <td>1560436373</td>\n",
       "      <td>c06jok</td>\n",
       "      <td>False</td>\n",
       "      <td>0</td>\n",
       "      <td>participants needed support workers healthcare...</td>\n",
       "    </tr>\n",
       "    <tr>\n",
       "      <th>4</th>\n",
       "      <td>AccountForMyOCD</td>\n",
       "      <td>1558730325</td>\n",
       "      <td>bsly2g</td>\n",
       "      <td>False</td>\n",
       "      <td>1</td>\n",
       "      <td>just as i thought i was doing better i encount...</td>\n",
       "    </tr>\n",
       "  </tbody>\n",
       "</table>\n",
       "</div>"
      ],
      "text/plain": [
       "            author created_utc      id is_original_content target  \\\n",
       "0    ChubbyMonkeyX  1539241532  9n7o85               False      1   \n",
       "1      yognzvaidkd  1620336450  n6i6sp               False      1   \n",
       "2         kiranode  1554270592  b8u505               False      0   \n",
       "3           b50142  1560436373  c06jok               False      0   \n",
       "4  AccountForMyOCD  1558730325  bsly2g               False      1   \n",
       "\n",
       "                                            selftext  \n",
       "0  really bad but not very endangering ive though...  \n",
       "1  a lot just happened and idk whats true can som...  \n",
       "2  first group therapy session still stressed out...  \n",
       "3  participants needed support workers healthcare...  \n",
       "4  just as i thought i was doing better i encount...  "
      ]
     },
     "execution_count": 112,
     "metadata": {},
     "output_type": "execute_result"
    }
   ],
   "source": [
    "# shuffle the dataframe\n",
    "df_reddit = df_reddit.sample(frac=1).reset_index(drop=True)\n",
    "# check the dimensions of the new dataframe\n",
    "print(f'Dimensions of the new dataframe: {df_reddit.shape}')\n",
    "df_reddit.head(5)"
   ]
  },
  {
   "cell_type": "code",
   "execution_count": null,
   "metadata": {},
   "outputs": [
    {
     "name": "stdout",
     "output_type": "stream",
     "text": [
      "Number of posts for OCD: 9021\n",
      "Number of posts for Autism: 9021\n"
     ]
    }
   ],
   "source": [
    "# double check that the number of posts for each subreddit is the same\n",
    "print(f'Number of posts for OCD: {len(df_reddit[df_reddit.target == 1])}')\n",
    "print(f'Number of posts for Autism: {len(df_reddit[df_reddit.target == 0])}')\n"
   ]
  },
  {
   "cell_type": "markdown",
   "metadata": {},
   "source": [
    "# Post Cleaning Preview"
   ]
  },
  {
   "cell_type": "code",
   "execution_count": null,
   "metadata": {},
   "outputs": [
    {
     "data": {
      "text/html": [
       "<div>\n",
       "<style scoped>\n",
       "    .dataframe tbody tr th:only-of-type {\n",
       "        vertical-align: middle;\n",
       "    }\n",
       "\n",
       "    .dataframe tbody tr th {\n",
       "        vertical-align: top;\n",
       "    }\n",
       "\n",
       "    .dataframe thead th {\n",
       "        text-align: right;\n",
       "    }\n",
       "</style>\n",
       "<table border=\"1\" class=\"dataframe\">\n",
       "  <thead>\n",
       "    <tr style=\"text-align: right;\">\n",
       "      <th></th>\n",
       "      <th>author</th>\n",
       "      <th>created_utc</th>\n",
       "      <th>id</th>\n",
       "      <th>is_original_content</th>\n",
       "      <th>target</th>\n",
       "      <th>selftext</th>\n",
       "    </tr>\n",
       "  </thead>\n",
       "  <tbody>\n",
       "    <tr>\n",
       "      <th>2016</th>\n",
       "      <td>mindkingdom</td>\n",
       "      <td>1527063603</td>\n",
       "      <td>8lhprn</td>\n",
       "      <td>False</td>\n",
       "      <td>1</td>\n",
       "      <td>thoughts that things could get corrupted or br...</td>\n",
       "    </tr>\n",
       "    <tr>\n",
       "      <th>2020</th>\n",
       "      <td>SteelSlayer7</td>\n",
       "      <td>1527074859</td>\n",
       "      <td>8lil9v</td>\n",
       "      <td>False</td>\n",
       "      <td>1</td>\n",
       "      <td>intrusive thoughts devaluing myself i am plagu...</td>\n",
       "    </tr>\n",
       "  </tbody>\n",
       "</table>\n",
       "</div>"
      ],
      "text/plain": [
       "            author  created_utc      id is_original_content  target  \\\n",
       "2016   mindkingdom   1527063603  8lhprn               False       1   \n",
       "2020  SteelSlayer7   1527074859  8lil9v               False       1   \n",
       "\n",
       "                                               selftext  \n",
       "2016  thoughts that things could get corrupted or br...  \n",
       "2020  intrusive thoughts devaluing myself i am plagu...  "
      ]
     },
     "execution_count": 114,
     "metadata": {},
     "output_type": "execute_result"
    }
   ],
   "source": [
    "df_ocd.head(2)"
   ]
  },
  {
   "cell_type": "code",
   "execution_count": null,
   "metadata": {},
   "outputs": [
    {
     "data": {
      "text/html": [
       "<div>\n",
       "<style scoped>\n",
       "    .dataframe tbody tr th:only-of-type {\n",
       "        vertical-align: middle;\n",
       "    }\n",
       "\n",
       "    .dataframe tbody tr th {\n",
       "        vertical-align: top;\n",
       "    }\n",
       "\n",
       "    .dataframe thead th {\n",
       "        text-align: right;\n",
       "    }\n",
       "</style>\n",
       "<table border=\"1\" class=\"dataframe\">\n",
       "  <thead>\n",
       "    <tr style=\"text-align: right;\">\n",
       "      <th></th>\n",
       "      <th>author</th>\n",
       "      <th>created_utc</th>\n",
       "      <th>id</th>\n",
       "      <th>is_original_content</th>\n",
       "      <th>target</th>\n",
       "      <th>selftext</th>\n",
       "    </tr>\n",
       "  </thead>\n",
       "  <tbody>\n",
       "    <tr>\n",
       "      <th>0</th>\n",
       "      <td>Equadex</td>\n",
       "      <td>1546777579</td>\n",
       "      <td>ad56om</td>\n",
       "      <td>False</td>\n",
       "      <td>0</td>\n",
       "      <td>how can people be considered equals if they ar...</td>\n",
       "    </tr>\n",
       "    <tr>\n",
       "      <th>5</th>\n",
       "      <td>936R</td>\n",
       "      <td>1546786707</td>\n",
       "      <td>ad68am</td>\n",
       "      <td>False</td>\n",
       "      <td>0</td>\n",
       "      <td>questions for females with hi there im looking...</td>\n",
       "    </tr>\n",
       "  </tbody>\n",
       "</table>\n",
       "</div>"
      ],
      "text/plain": [
       "    author  created_utc      id  is_original_content  target  \\\n",
       "0  Equadex   1546777579  ad56om                False       0   \n",
       "5     936R   1546786707  ad68am                False       0   \n",
       "\n",
       "                                            selftext  \n",
       "0  how can people be considered equals if they ar...  \n",
       "5  questions for females with hi there im looking...  "
      ]
     },
     "execution_count": 115,
     "metadata": {},
     "output_type": "execute_result"
    }
   ],
   "source": [
    "df_autism.head(2)"
   ]
  },
  {
   "cell_type": "code",
   "execution_count": null,
   "metadata": {},
   "outputs": [],
   "source": [
    "# find any of the medications in the selftext column that are in the data/drug_info.csv file under the Medication Name column and replace them with ' ' (empty string)\n",
    "drug_info = pd.read_csv('../data/drug_info.csv')\n",
    "drug_info['Medication Name'] = drug_info['Medication Name'].str.lower()\n"
   ]
  },
  {
   "cell_type": "code",
   "execution_count": null,
   "metadata": {},
   "outputs": [
    {
     "name": "stdout",
     "output_type": "stream",
     "text": [
      "Number of medications: 3047\n"
     ]
    }
   ],
   "source": [
    "# create a list of the medications\n",
    "medications = drug_info['Medication Name'].tolist()\n",
    "print(f'Number of medications: {len(medications)}')"
   ]
  },
  {
   "cell_type": "code",
   "execution_count": null,
   "metadata": {},
   "outputs": [
    {
     "name": "stdout",
     "output_type": "stream",
     "text": [
      "Number of posts that contain a medication: 18039\n"
     ]
    }
   ],
   "source": [
    "# how many posts contain a medication?\n",
    "print(f'Number of posts that contain a medication: {len(df_reddit[df_reddit.selftext.str.contains(\"|\".join(medications), regex=True)])}')"
   ]
  },
  {
   "cell_type": "code",
   "execution_count": null,
   "metadata": {},
   "outputs": [
    {
     "data": {
      "text/plain": [
       "'abacavir sulfate'"
      ]
     },
     "execution_count": 119,
     "metadata": {},
     "output_type": "execute_result"
    }
   ],
   "source": [
    "medications[0]"
   ]
  },
  {
   "cell_type": "code",
   "execution_count": null,
   "metadata": {},
   "outputs": [],
   "source": [
    "# is 'p' in the medications list?\n",
    "'p' in medications\n",
    "# drop the 'p' from the medications list\n",
    "medications.remove('p')\n",
    "# drop any medications that are less than 5 characters long\n",
    "medications = [med for med in medications if len(med) > 5]"
   ]
  },
  {
   "cell_type": "code",
   "execution_count": 22,
   "metadata": {},
   "outputs": [
    {
     "ename": "SyntaxError",
     "evalue": "'continue' not properly in loop (2754674244.py, line 5)",
     "output_type": "error",
     "traceback": [
      "\u001b[0;36m  Cell \u001b[0;32mIn [22], line 5\u001b[0;36m\u001b[0m\n\u001b[0;31m    continue\u001b[0m\n\u001b[0m    ^\u001b[0m\n\u001b[0;31mSyntaxError\u001b[0m\u001b[0;31m:\u001b[0m 'continue' not properly in loop\n"
     ]
    }
   ],
   "source": [
    "# create a list of rows and the medications mentioned in each row\n",
    "import os\n",
    "medications_mentioned = []\n",
    "if os.exists('../data/cleaned_reddit.csv'):\n",
    "    pass\n",
    "else:\n",
    "    with alive_bar (len(df_reddit)) as bar:\n",
    "        for index, row in df_reddit.iterrows(): # iterate through each row in the dataframe\n",
    "            # use regex to find all of the medications in the selftext column\n",
    "            meds = re.findall(r'\\b(?:{})\\b'.format('|'.join(medications)), row['selftext'])\n",
    "            if len(meds) > 0: # if there are medications mentioned in the post\n",
    "                # replace the medications with ' ' (empty string)\n",
    "                row['selftext'] = re.sub(r'\\b(?:{})\\b'.format('|'.join(medications)), ' ', row['selftext'])\n",
    "                medications_mentioned.extend(meds) # add the medications to the medications_mentioned list\n",
    "                # remove duplicate medications\n",
    "                medications_mentioned = list(set(medications_mentioned))\n",
    "            bar()"
   ]
  },
  {
   "cell_type": "code",
   "execution_count": 23,
   "metadata": {},
   "outputs": [],
   "source": [
    "# remove the words from the selftext column that are in the medications list\n",
    "# if the file does not already exist, create it\n",
    "if os.path.exists('../data/cleaned_reddit.csv'):\n",
    "    # load the file\n",
    "    df_reddit = pd.read_csv('../data/cleaned_reddit.csv')\n",
    "else:\n",
    "    print('File does not exist. Creating it now. Before meds removed from selftext the length of the dataframe is: ', len(df_reddit))\n",
    "    print(f' Removed {len(medications_mentioned)} medications from the selftext column')\n",
    "    # save the dataframe to a csv file\n",
    "    df_reddit.to_csv('../data/cleaned_reddit.csv', index=False)"
   ]
  },
  {
   "cell_type": "code",
   "execution_count": 24,
   "metadata": {},
   "outputs": [],
   "source": [
    "# Now we want to clean the text in the self text column\n",
    "# remove punctuation\n",
    "df_reddit['selftext'] = df_reddit['selftext'].str.replace('[^\\w\\s]','')\n",
    "# remove numbers\n",
    "df_reddit['selftext'] = df_reddit['selftext'].str.replace('\\d+', '')\n",
    "# remove double spaces\n",
    "df_reddit['selftext'] = df_reddit['selftext'].str.replace('  ', ' ')\n",
    "# remove single characters\n",
    "df_reddit['selftext'] = df_reddit['selftext'].str.replace(r'\\b\\w\\b', '').str.replace(r'\\s+', ' ')\n",
    "# remove newlines\n",
    "df_reddit['selftext'] = df_reddit['selftext'].str.replace(r'\\n', ' ')\n",
    "# remove urls\n",
    "df_reddit['selftext'] = df_reddit['selftext'].str.replace(r'http\\S+', '')\n",
    "# remove html tags\n",
    "df_reddit['selftext'] = df_reddit['selftext'].str.replace(r'<.*?>', '')\n",
    "# remove extra spaces\n",
    "df_reddit['selftext'] = df_reddit['selftext'].str.replace(r'\\s+', ' ')\n",
    "# remove extra spaces at the beginning of the string\n",
    "df_reddit['selftext'] = df_reddit['selftext'].str.replace(r'^\\s+', '')\n",
    "# remove extra spaces at the end of the string\n",
    "df_reddit['selftext'] = df_reddit['selftext'].str.replace(r'\\s+$', '')"
   ]
  },
  {
   "cell_type": "code",
   "execution_count": 25,
   "metadata": {},
   "outputs": [
    {
     "name": "stdout",
     "output_type": "stream",
     "text": [
      "Dimensions of the dataframe: (18042, 6)\n"
     ]
    },
    {
     "data": {
      "text/html": [
       "<div>\n",
       "<style scoped>\n",
       "    .dataframe tbody tr th:only-of-type {\n",
       "        vertical-align: middle;\n",
       "    }\n",
       "\n",
       "    .dataframe tbody tr th {\n",
       "        vertical-align: top;\n",
       "    }\n",
       "\n",
       "    .dataframe thead th {\n",
       "        text-align: right;\n",
       "    }\n",
       "</style>\n",
       "<table border=\"1\" class=\"dataframe\">\n",
       "  <thead>\n",
       "    <tr style=\"text-align: right;\">\n",
       "      <th></th>\n",
       "      <th>author</th>\n",
       "      <th>created_utc</th>\n",
       "      <th>id</th>\n",
       "      <th>is_original_content</th>\n",
       "      <th>target</th>\n",
       "      <th>selftext</th>\n",
       "    </tr>\n",
       "  </thead>\n",
       "  <tbody>\n",
       "    <tr>\n",
       "      <th>0</th>\n",
       "      <td>ChubbyMonkeyX</td>\n",
       "      <td>1539241532</td>\n",
       "      <td>9n7o85</td>\n",
       "      <td>False</td>\n",
       "      <td>1</td>\n",
       "      <td>really bad but not very endangering ive though...</td>\n",
       "    </tr>\n",
       "    <tr>\n",
       "      <th>1</th>\n",
       "      <td>yognzvaidkd</td>\n",
       "      <td>1620336450</td>\n",
       "      <td>n6i6sp</td>\n",
       "      <td>False</td>\n",
       "      <td>1</td>\n",
       "      <td>a lot just happened and idk whats true can som...</td>\n",
       "    </tr>\n",
       "    <tr>\n",
       "      <th>2</th>\n",
       "      <td>kiranode</td>\n",
       "      <td>1554270592</td>\n",
       "      <td>b8u505</td>\n",
       "      <td>False</td>\n",
       "      <td>0</td>\n",
       "      <td>first group therapy session still stressed out...</td>\n",
       "    </tr>\n",
       "    <tr>\n",
       "      <th>3</th>\n",
       "      <td>b50142</td>\n",
       "      <td>1560436373</td>\n",
       "      <td>c06jok</td>\n",
       "      <td>False</td>\n",
       "      <td>0</td>\n",
       "      <td>participants needed support workers healthcare...</td>\n",
       "    </tr>\n",
       "    <tr>\n",
       "      <th>4</th>\n",
       "      <td>AccountForMyOCD</td>\n",
       "      <td>1558730325</td>\n",
       "      <td>bsly2g</td>\n",
       "      <td>False</td>\n",
       "      <td>1</td>\n",
       "      <td>just as i thought i was doing better i encount...</td>\n",
       "    </tr>\n",
       "  </tbody>\n",
       "</table>\n",
       "</div>"
      ],
      "text/plain": [
       "            author  created_utc      id  is_original_content  target  \\\n",
       "0    ChubbyMonkeyX   1539241532  9n7o85                False       1   \n",
       "1      yognzvaidkd   1620336450  n6i6sp                False       1   \n",
       "2         kiranode   1554270592  b8u505                False       0   \n",
       "3           b50142   1560436373  c06jok                False       0   \n",
       "4  AccountForMyOCD   1558730325  bsly2g                False       1   \n",
       "\n",
       "                                            selftext  \n",
       "0  really bad but not very endangering ive though...  \n",
       "1  a lot just happened and idk whats true can som...  \n",
       "2  first group therapy session still stressed out...  \n",
       "3  participants needed support workers healthcare...  \n",
       "4  just as i thought i was doing better i encount...  "
      ]
     },
     "execution_count": 25,
     "metadata": {},
     "output_type": "execute_result"
    }
   ],
   "source": [
    "# read the file into a dataframe\n",
    "df_reddit = pd.read_csv('../data/cleaned_reddit.csv')\n",
    "# remove any rows that have a null value in the selftext column\n",
    "df_reddit = df_reddit.dropna(subset=['selftext'])\n",
    "# reset the index\n",
    "df_reddit = df_reddit.reset_index(drop=True)\n",
    "# check the dimensions of the dataframe\n",
    "print(f'Dimensions of the dataframe: {df_reddit.shape}')\n",
    "df_reddit.head(5)\n",
    "\n",
    "\n",
    "\n",
    "\n",
    "\n"
   ]
  },
  {
   "cell_type": "code",
   "execution_count": 26,
   "metadata": {},
   "outputs": [],
   "source": [
    "# Evaluate the model using cross validation\n",
    "from sklearn.model_selection import cross_val_score\n",
    "\n",
    "# import auc and roc_curve\n",
    "from sklearn.metrics import auc, roc_curve\n",
    "\n",
    "# suppress warnings\n",
    "import warnings\n",
    "warnings.filterwarnings('ignore')\n",
    "\n",
    "import pickle"
   ]
  },
  {
   "cell_type": "code",
   "execution_count": 27,
   "metadata": {},
   "outputs": [
    {
     "name": "stdout",
     "output_type": "stream",
     "text": [
      "Training score: 0.9648215209518882\n",
      "Testing score: 0.9261804477942807\n",
      "Cross val score: 0.9318257079646288\n"
     ]
    },
    {
     "data": {
      "image/png": "[encoded data removed]",
      "text/plain": [
       "<Figure size 1000x800 with 1 Axes>"
      ]
     },
     "metadata": {},
     "output_type": "display_data"
    }
   ],
   "source": [
    "# Instantiate a CountVectorizer object\n",
    "cvec = CountVectorizer(stop_words='english', max_features=1000)\n",
    "# Fit the CountVectorizer object to the data\n",
    "cvec.fit(df_reddit['selftext'])\n",
    "# Transform the data using the fitted CountVectorizer object\n",
    "cvec_data = cvec.transform(df_reddit['selftext'])\n",
    "# Convert the cvec_data to a dataframe\n",
    "cvec_df = pd.DataFrame(cvec_data.toarray(), columns=cvec.get_feature_names())\n",
    "# Add the subreddit column to the dataframe\n",
    "cvec_df['subreddit'] = df_reddit['target']\n",
    "\n",
    "# use the cvec dataframe in a regression model\n",
    "# create the X and y variables\n",
    "X = cvec_df.drop(columns='subreddit')\n",
    "y = cvec_df['subreddit']\n",
    "# split the data into training and testing sets\n",
    "X_train, X_test, y_train, y_test = train_test_split(X, y, random_state=42)\n",
    "# instantiate the model\n",
    "logreg_cvec = LogisticRegression()\n",
    "# fit the model\n",
    "logreg_cvec.fit(X_train, y_train)\n",
    "# score the model\n",
    "print(f'Training score: {logreg_cvec.score(X_train, y_train)}')\n",
    "print(f'Testing score: {logreg_cvec.score(X_test, y_test)}')\n",
    "print(f'Cross val score: {cross_val_score(logreg_cvec, X, y, cv=5).mean()}')\n",
    "# ROC curve for the CountVectorizer model\n",
    "# predict the probabilities\n",
    "y_pred_proba = logreg_cvec.predict_proba(X_test)[:,1]\n",
    "# calculate the false positive rate and true positive rate\n",
    "fpr, tpr, thresholds = roc_curve(y_test, y_pred_proba)\n",
    "# calculate the area under the curve\n",
    "roc_auc = auc(fpr, tpr)\n",
    "# plot the ROC curve\n",
    "plt.figure(figsize=(10,8))\n",
    "plt.plot(fpr, tpr, label=f'ROC curve (area = {roc_auc:.2f})')\n",
    "plt.plot([0, 1], [0, 1], 'k--')\n",
    "plt.xlim([0.0, 1.0])\n",
    "plt.ylim([0.0, 1.05])\n",
    "plt.xlabel('False Positive Rate')\n",
    "plt.ylabel('True Positive Rate')\n",
    "plt.title('ROC curve for the CountVectorizer model')\n",
    "plt.legend(loc=\"lower right\")\n",
    "# save the model\n",
    "pickle.dump(logreg_cvec, open('../models/logreg_cvec.pkl', 'wb'))\n",
    "# save the plot to a file\n",
    "plt.savefig('../images/roc_curve_cvec.png')\n",
    "plt.show();"
   ]
  },
  {
   "cell_type": "code",
   "execution_count": 28,
   "metadata": {},
   "outputs": [
    {
     "name": "stdout",
     "output_type": "stream",
     "text": [
      "Training score: 0.9427980193629444\n",
      "Testing score: 0.9272888494790512\n",
      "Cross val score: 0.926283069733894\n"
     ]
    },
    {
     "data": {
      "image/png": "[encoded data removed]",
      "text/plain": [
       "<Figure size 1000x800 with 1 Axes>"
      ]
     },
     "metadata": {},
     "output_type": "display_data"
    }
   ],
   "source": [
    "# Instantiate a TfidfVectorizer object\n",
    "tvec = TfidfVectorizer(stop_words='english', max_features=1000)\n",
    "# Fit the TfidfVectorizer object to the data\n",
    "tvec.fit(df_reddit['selftext'])\n",
    "# Transform the data using the fitted TfidfVectorizer object\n",
    "tvec_data = tvec.transform(df_reddit['selftext'])\n",
    "# Convert the tvec_data to a dataframe\n",
    "tvec_df = pd.DataFrame(tvec_data.toarray(), columns=tvec.get_feature_names())\n",
    "# Add the subreddit column to the dataframe\n",
    "tvec_df['subreddit'] = df_reddit['target']\n",
    "\n",
    "# use the tvec dataframe in a regression model\n",
    "\n",
    "# create the X and y variables\n",
    "X = tvec_df.drop(columns='subreddit')\n",
    "y = tvec_df['subreddit']\n",
    "# split the data into training and testing sets\n",
    "X_train, X_test, y_train, y_test = train_test_split(X, y, random_state=42)\n",
    "# instantiate the model\n",
    "logreg_tfidf = LogisticRegression()\n",
    "# fit the model\n",
    "logreg_tfidf.fit(X_train, y_train)\n",
    "# score the model\n",
    "print(f'Training score: {logreg_tfidf.score(X_train, y_train)}')\n",
    "print(f'Testing score: {logreg_tfidf.score(X_test, y_test)}')\n",
    "print(f'Cross val score: {cross_val_score(logreg_tfidf, X, y, cv=5).mean()}')\n",
    "\n",
    "# ROC curve for the TFIDF model\n",
    "# predict the probabilities\n",
    "y_pred_proba = logreg_tfidf.predict_proba(X_test)[:,1]\n",
    "# calculate the false positive rate and true positive rate\n",
    "fpr, tpr, thresholds = roc_curve(y_test, y_pred_proba)\n",
    "# calculate the area under the curve\n",
    "roc_auc = auc(fpr, tpr)\n",
    "# plot the ROC curve\n",
    "plt.figure(figsize=(10,8))\n",
    "plt.plot(fpr, tpr, label=f'ROC curve (area = {roc_auc:.2f})')\n",
    "plt.plot([0, 1], [0, 1], 'k--')\n",
    "plt.xlim([0.0, 1.0])\n",
    "plt.ylim([0.0, 1.05])\n",
    "plt.xlabel('False Positive Rate')\n",
    "plt.ylabel('True Positive Rate')\n",
    "plt.title('ROC curve for the TFIDF model')\n",
    "plt.legend(loc=\"lower right\")\n",
    "# save the model\n",
    "pickle.dump(logreg_tfidf, open('../models/logreg_tfidf.pkl', 'wb'))\n",
    "# save the plot to a file\n",
    "plt.savefig('../images/roc_curve_tfidf.png')\n",
    "plt.show();\n"
   ]
  },
  {
   "cell_type": "code",
   "execution_count": 29,
   "metadata": {},
   "outputs": [
    {
     "name": "stdout",
     "output_type": "stream",
     "text": [
      "Training score: 0.889586874584288\n",
      "Testing score: 0.8882731101751274\n",
      "Cross val score: 0.8904780884693906\n"
     ]
    },
    {
     "data": {
      "image/png": "[encoded data removed]",
      "text/plain": [
       "<Figure size 1000x800 with 1 Axes>"
      ]
     },
     "metadata": {},
     "output_type": "display_data"
    }
   ],
   "source": [
    "# AdaBoostClassifier\n",
    "# We will use the CountVectorizer dataframe for this model\n",
    "# create the X and y variables\n",
    "X = cvec_df.drop(columns='subreddit')\n",
    "y = cvec_df['subreddit']\n",
    "# split the data into training and testing sets\n",
    "X_train, X_test, y_train, y_test = train_test_split(X, y, random_state=42)\n",
    "# instantiate the model\n",
    "ada = AdaBoostClassifier()\n",
    "# fit the model\n",
    "ada.fit(X_train, y_train)\n",
    "# score the model\n",
    "print(f'Training score: {ada.score(X_train, y_train)}')\n",
    "print(f'Testing score: {ada.score(X_test, y_test)}')\n",
    "print(f'Cross val score: {cross_val_score(ada, X, y, cv=5).mean()}')\n",
    "# ROC curve for the AdaBoostClassifier model\n",
    "# predict the probabilities\n",
    "y_pred_proba = ada.predict_proba(X_test)[:,1]\n",
    "# calculate the false positive rate and true positive rate\n",
    "fpr, tpr, thresholds = roc_curve(y_test, y_pred_proba)\n",
    "# calculate the area under the curve\n",
    "roc_auc = auc(fpr, tpr)\n",
    "# plot the ROC curve\n",
    "plt.figure(figsize=(10,8))\n",
    "plt.plot(fpr, tpr, label=f'ROC curve (area = {roc_auc:.2f})')\n",
    "plt.plot([0, 1], [0, 1], 'k--')\n",
    "plt.xlim([0.0, 1.0])\n",
    "plt.ylim([0.0, 1.05])\n",
    "plt.xlabel('False Positive Rate')\n",
    "plt.ylabel('True Positive Rate')\n",
    "plt.title('ROC curve for the AdaBoostClassifier model')\n",
    "plt.legend(loc=\"lower right\")\n",
    "# save the model to a pickle file for use\n",
    "pickle.dump(ada, open('../models/adaboost.pkl', 'wb'))\n",
    "# save the plot to a png file in the images folder\n",
    "plt.savefig('../images/adaboost.png')\n",
    "plt.show();\n"
   ]
  },
  {
   "cell_type": "code",
   "execution_count": 30,
   "metadata": {},
   "outputs": [],
   "source": [
    "# GradientBoostingClassifier\n",
    "from sklearn.ensemble import GradientBoostingClassifier\n",
    "# We will use the CountVectorizer dataframe for this model\n",
    "# create the X and y variables\n",
    "X = cvec_df.drop(columns='subreddit')\n",
    "y = cvec_df['subreddit']\n",
    "# split the data into training and testing sets\n",
    "X_train, X_test, y_train, y_test = train_test_split(X, y, random_state=42)\n",
    "# instantiate the model\n",
    "gb = GradientBoostingClassifier()\n",
    "# fit the model\n",
    "gb.fit(X_train, y_train)\n",
    "# score the model\n",
    "print(f'Training score: {gb.score(X_train, y_train)}')\n",
    "print(f'Testing score: {gb.score(X_test, y_test)}')\n",
    "print(f'Cross val score: {cross_val_score(gb, X, y, cv=5).mean()}')\n",
    "# ROC curve for the GradientBoostingClassifier model\n",
    "# predict the probabilities\n",
    "y_pred_proba = gb.predict_proba(X_test)[:,1]\n",
    "# calculate the false positive rate and true positive rate\n",
    "fpr, tpr, thresholds = roc_curve(y_test, y_pred_proba)\n",
    "# calculate the area under the curve\n",
    "roc_auc = auc(fpr, tpr)\n",
    "# plot the ROC curve\n",
    "plt.figure(figsize=(10,8))\n",
    "plt.plot(fpr, tpr, label=f'ROC curve (area = {roc_auc:.2f})')\n",
    "plt.plot([0, 1], [0, 1], 'k--')\n",
    "plt.xlim([0.0, 1.0])\n",
    "plt.ylim([0.0, 1.05])\n",
    "plt.xlabel('False Positive Rate')\n",
    "plt.ylabel('True Positive Rate')\n",
    "plt.title('ROC curve for the GradientBoostingClassifier model')\n",
    "plt.legend(loc=\"lower right\")\n",
    "# save the model to a pickle file for use\n",
    "pickle.dump(gb, open('../models/gradientboost.pkl', 'wb'))\n",
    "# save the plot to a png file in the images folder\n",
    "plt.savefig('../images/gradientboost.png')\n",
    "plt.show();\n"
   ]
  }
 ],
 "metadata": {
  "kernelspec": {
   "display_name": "Python 3.9.6 ('master_env_temp')",
   "language": "python",
   "name": "python3"
  },
  "language_info": {
   "codemirror_mode": {
    "name": "ipython",
    "version": 3
   },
   "file_extension": ".py",
   "mimetype": "text/x-python",
   "name": "python",
   "nbconvert_exporter": "python",
   "pygments_lexer": "ipython3",
   "version": "3.9.6"
  },
  "orig_nbformat": 4,
  "vscode": {
   "interpreter": {
    "hash": "666dfdc1c3434f60b2f64fdb13e0b185df8f5878ddae1a39c75e1eb2af091f89"
   }
  }
 },
 "nbformat": 4,
 "nbformat_minor": 2
}
