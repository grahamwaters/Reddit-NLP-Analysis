{
 "cells": [
  {
   "cell_type": "code",
   "execution_count": 175,
   "metadata": {},
   "outputs": [
    {
     "name": "stdout",
     "output_type": "stream",
     "text": [
      "Requirement already satisfied: nltk in /Users/grahamwaters/.local/lib/python3.9/site-packages (3.7)\n",
      "Requirement already satisfied: click in /Users/grahamwaters/.local/lib/python3.9/site-packages (from nltk) (8.1.3)\n",
      "Requirement already satisfied: regex>=2021.8.3 in /Users/grahamwaters/.local/lib/python3.9/site-packages (from nltk) (2022.10.31)\n",
      "Requirement already satisfied: joblib in /Users/grahamwaters/.local/lib/python3.9/site-packages (from nltk) (1.2.0)\n",
      "Requirement already satisfied: tqdm in /Users/grahamwaters/.local/lib/python3.9/site-packages (from nltk) (4.64.1)\n",
      "Requirement already satisfied: bs4 in /Users/grahamwaters/opt/anaconda3/envs/EmersonWriter/envs/master_env_temp/lib/python3.9/site-packages (0.0.1)\n",
      "Requirement already satisfied: beautifulsoup4 in /Users/grahamwaters/opt/anaconda3/envs/EmersonWriter/envs/master_env_temp/lib/python3.9/site-packages (from bs4) (4.11.1)\n",
      "Requirement already satisfied: soupsieve>1.2 in /Users/grahamwaters/opt/anaconda3/envs/EmersonWriter/envs/master_env_temp/lib/python3.9/site-packages (from beautifulsoup4->bs4) (2.3.2.post1)\n",
      "Requirement already satisfied: scipy in /Users/grahamwaters/opt/anaconda3/envs/EmersonWriter/envs/master_env_temp/lib/python3.9/site-packages (1.9.3)\n",
      "Requirement already satisfied: numpy<1.26.0,>=1.18.5 in /Users/grahamwaters/opt/anaconda3/envs/EmersonWriter/envs/master_env_temp/lib/python3.9/site-packages (from scipy) (1.23.4)\n",
      "Requirement already satisfied: sklearn in /Users/grahamwaters/opt/anaconda3/envs/EmersonWriter/envs/master_env_temp/lib/python3.9/site-packages (0.0.post1)\n",
      "Requirement already satisfied: pandas in /Users/grahamwaters/opt/anaconda3/envs/EmersonWriter/envs/master_env_temp/lib/python3.9/site-packages (1.5.1)\n",
      "Requirement already satisfied: pytz>=2020.1 in /Users/grahamwaters/opt/anaconda3/envs/EmersonWriter/envs/master_env_temp/lib/python3.9/site-packages (from pandas) (2022.6)\n",
      "Requirement already satisfied: python-dateutil>=2.8.1 in /Users/grahamwaters/opt/anaconda3/envs/EmersonWriter/envs/master_env_temp/lib/python3.9/site-packages (from pandas) (2.8.2)\n",
      "Requirement already satisfied: numpy>=1.20.3 in /Users/grahamwaters/opt/anaconda3/envs/EmersonWriter/envs/master_env_temp/lib/python3.9/site-packages (from pandas) (1.23.4)\n",
      "Requirement already satisfied: six>=1.5 in /Users/grahamwaters/opt/anaconda3/envs/EmersonWriter/envs/master_env_temp/lib/python3.9/site-packages (from python-dateutil>=2.8.1->pandas) (1.16.0)\n",
      "Requirement already satisfied: requests in /Users/grahamwaters/opt/anaconda3/envs/EmersonWriter/envs/master_env_temp/lib/python3.9/site-packages (2.28.1)\n",
      "Requirement already satisfied: idna<4,>=2.5 in /Users/grahamwaters/opt/anaconda3/envs/EmersonWriter/envs/master_env_temp/lib/python3.9/site-packages (from requests) (3.4)\n",
      "Requirement already satisfied: charset-normalizer<3,>=2 in /Users/grahamwaters/opt/anaconda3/envs/EmersonWriter/envs/master_env_temp/lib/python3.9/site-packages (from requests) (2.1.1)\n",
      "Requirement already satisfied: urllib3<1.27,>=1.21.1 in /Users/grahamwaters/opt/anaconda3/envs/EmersonWriter/envs/master_env_temp/lib/python3.9/site-packages (from requests) (1.26.12)\n",
      "Requirement already satisfied: certifi>=2017.4.17 in /Users/grahamwaters/opt/anaconda3/envs/EmersonWriter/envs/master_env_temp/lib/python3.9/site-packages (from requests) (2022.9.24)\n",
      "Requirement already satisfied: nltk in /Users/grahamwaters/.local/lib/python3.9/site-packages (3.7)\n",
      "Requirement already satisfied: click in /Users/grahamwaters/.local/lib/python3.9/site-packages (from nltk) (8.1.3)\n",
      "Requirement already satisfied: tqdm in /Users/grahamwaters/.local/lib/python3.9/site-packages (from nltk) (4.64.1)\n",
      "Requirement already satisfied: regex>=2021.8.3 in /Users/grahamwaters/.local/lib/python3.9/site-packages (from nltk) (2022.10.31)\n",
      "Requirement already satisfied: joblib in /Users/grahamwaters/.local/lib/python3.9/site-packages (from nltk) (1.2.0)\n",
      "Requirement already satisfied: seaborn in /Users/grahamwaters/opt/anaconda3/envs/EmersonWriter/envs/master_env_temp/lib/python3.9/site-packages (0.12.1)\n",
      "Requirement already satisfied: pandas>=0.25 in /Users/grahamwaters/opt/anaconda3/envs/EmersonWriter/envs/master_env_temp/lib/python3.9/site-packages (from seaborn) (1.5.1)\n",
      "Requirement already satisfied: numpy>=1.17 in /Users/grahamwaters/opt/anaconda3/envs/EmersonWriter/envs/master_env_temp/lib/python3.9/site-packages (from seaborn) (1.23.4)\n",
      "Requirement already satisfied: matplotlib!=3.6.1,>=3.1 in /Users/grahamwaters/opt/anaconda3/envs/EmersonWriter/envs/master_env_temp/lib/python3.9/site-packages (from seaborn) (3.6.2)\n",
      "Requirement already satisfied: pillow>=6.2.0 in /Users/grahamwaters/opt/anaconda3/envs/EmersonWriter/envs/master_env_temp/lib/python3.9/site-packages (from matplotlib!=3.6.1,>=3.1->seaborn) (9.3.0)\n",
      "Requirement already satisfied: fonttools>=4.22.0 in /Users/grahamwaters/opt/anaconda3/envs/EmersonWriter/envs/master_env_temp/lib/python3.9/site-packages (from matplotlib!=3.6.1,>=3.1->seaborn) (4.38.0)\n",
      "Requirement already satisfied: kiwisolver>=1.0.1 in /Users/grahamwaters/opt/anaconda3/envs/EmersonWriter/envs/master_env_temp/lib/python3.9/site-packages (from matplotlib!=3.6.1,>=3.1->seaborn) (1.4.4)\n",
      "Requirement already satisfied: python-dateutil>=2.7 in /Users/grahamwaters/opt/anaconda3/envs/EmersonWriter/envs/master_env_temp/lib/python3.9/site-packages (from matplotlib!=3.6.1,>=3.1->seaborn) (2.8.2)\n",
      "Requirement already satisfied: pyparsing>=2.2.1 in /Users/grahamwaters/opt/anaconda3/envs/EmersonWriter/envs/master_env_temp/lib/python3.9/site-packages (from matplotlib!=3.6.1,>=3.1->seaborn) (3.0.9)\n",
      "Requirement already satisfied: packaging>=20.0 in /Users/grahamwaters/opt/anaconda3/envs/EmersonWriter/envs/master_env_temp/lib/python3.9/site-packages (from matplotlib!=3.6.1,>=3.1->seaborn) (21.3)\n",
      "Requirement already satisfied: contourpy>=1.0.1 in /Users/grahamwaters/opt/anaconda3/envs/EmersonWriter/envs/master_env_temp/lib/python3.9/site-packages (from matplotlib!=3.6.1,>=3.1->seaborn) (1.0.6)\n",
      "Requirement already satisfied: cycler>=0.10 in /Users/grahamwaters/opt/anaconda3/envs/EmersonWriter/envs/master_env_temp/lib/python3.9/site-packages (from matplotlib!=3.6.1,>=3.1->seaborn) (0.11.0)\n",
      "Requirement already satisfied: pytz>=2020.1 in /Users/grahamwaters/opt/anaconda3/envs/EmersonWriter/envs/master_env_temp/lib/python3.9/site-packages (from pandas>=0.25->seaborn) (2022.6)\n",
      "Requirement already satisfied: six>=1.5 in /Users/grahamwaters/opt/anaconda3/envs/EmersonWriter/envs/master_env_temp/lib/python3.9/site-packages (from python-dateutil>=2.7->matplotlib!=3.6.1,>=3.1->seaborn) (1.16.0)\n"
     ]
    }
   ],
   "source": [
    "!pip3 install nltk --user;\n",
    "!pip3 install bs4;\n",
    "!pip3 install scipy;\n",
    "!pip3 install sklearn;\n",
    "!pip3 install pandas;\n",
    "!pip3 install requests;\n",
    "!pip3 install nltk;\n",
    "!pip3 install seaborn;"
   ]
  },
  {
   "cell_type": "code",
   "execution_count": 176,
   "metadata": {},
   "outputs": [],
   "source": [
    "import requests\n",
    "from bs4 import BeautifulSoup\n",
    "import pandas as pd\n",
    "import seaborn as sns\n",
    "import matplotlib.pyplot as plt\n",
    "from scipy.cluster.hierarchy import linkage\n",
    "import re\n",
    "import numpy as np\n",
    "from matplotlib import pyplot as plt\n",
    "from nltk.corpus import stopwords\n",
    "from nltk.stem import PorterStemmer\n",
    "from nltk.tokenize import word_tokenize\n",
    "\n",
    "\n",
    "# sklearn imports\n",
    "from sklearn.feature_extraction.text import TfidfVectorizer\n",
    "from sklearn.cluster import KMeans\n",
    "from sklearn.metrics import adjusted_rand_score\n",
    "from sklearn.cluster import AgglomerativeClustering\n",
    "from sklearn.metrics import silhouette_score\n",
    "from sklearn.feature_extraction.text import CountVectorizer\n",
    "from sklearn.decomposition import LatentDirichletAllocation\n",
    "from sklearn.decomposition import NMF\n",
    "from sklearn.cluster import DBSCAN\n",
    "from sklearn.cluster import AffinityPropagation\n",
    "from sklearn.cluster import MeanShift\n",
    "from sklearn.cluster import SpectralClustering\n",
    "from sklearn.cluster import OPTICS\n",
    "from sklearn.cluster import Birch\n",
    "from sklearn.cluster import AgglomerativeClustering\n",
    "from sklearn.cluster import MiniBatchKMeans\n",
    "\n",
    "# adaboost imports\n",
    "from sklearn.ensemble import AdaBoostClassifier\n",
    "from sklearn.tree import DecisionTreeClassifier\n",
    "from sklearn.model_selection import train_test_split\n",
    "from sklearn.metrics import accuracy_score\n",
    "from sklearn.metrics import confusion_matrix\n",
    "from sklearn.metrics import classification_report\n",
    "from sklearn.metrics import roc_curve\n",
    "from sklearn.metrics import roc_auc_score\n",
    "from sklearn.metrics import precision_recall_curve\n",
    "from sklearn.metrics import average_precision_score\n",
    "from sklearn.metrics import f1_score\n",
    "# import cross_val_score\n",
    "from sklearn.model_selection import cross_val_score\n",
    "\n",
    "# LogisticRegression\n",
    "from sklearn.linear_model import LogisticRegression\n",
    "\n",
    "# Tree imports\n",
    "from sklearn.tree import DecisionTreeClassifier\n",
    "from sklearn.tree import export_graphviz\n",
    "from sklearn import tree\n",
    "from sklearn.tree import plot_tree\n",
    "from sklearn.tree import export_text\n",
    "\n",
    "from tqdm import tqdm\n",
    "# from alive_progress import alive_bar\n",
    "\n",
    "# import CountVectorizer\n",
    "from sklearn.feature_extraction.text import CountVectorizer"
   ]
  },
  {
   "cell_type": "code",
   "execution_count": 177,
   "metadata": {},
   "outputs": [],
   "source": [
    "\n",
    "def get_keywords(post):\n",
    "    \"\"\"Get the keywords from a post\"\"\"\n",
    "    # Get the keywords from the post\n",
    "    keywords = set()\n",
    "    for word in re.split(\"\\W+\", post.text):\n",
    "        if word in keywords:\n",
    "            continue\n",
    "        else:\n",
    "            keywords.add(word)\n",
    "    return keywords\n",
    "\n",
    "\n",
    "# define the stop words list\n",
    "stop_words = set(stopwords.words(\"english\"))\n",
    "\n",
    "# Remove Punctuation\n",
    "def remove_punctuation(text):\n",
    "    \"\"\"Remove punctuation from a string\"\"\"\n",
    "    return ''.join(ch for ch in text if ch not in stop_words)\n",
    "\n",
    "# Lower Case\n",
    "def lowercase(text):\n",
    "    \"\"\"Lower case a string\"\"\"\n",
    "    return text.lower()\n",
    "\n"
   ]
  },
  {
   "cell_type": "code",
   "execution_count": 178,
   "metadata": {},
   "outputs": [],
   "source": [
    "# opening the scraped data saved in csv files and creating a dataframe for each\n",
    "df_ocd = pd.read_csv('../data/ocd_thread.csv')\n",
    "df_autism = pd.read_csv('../data/autism_thread.csv')\n",
    "\n",
    "# creating a target column for each dataframe\n",
    "df_ocd['target'] = 1\n",
    "df_autism['target'] = 0"
   ]
  },
  {
   "cell_type": "markdown",
   "metadata": {},
   "source": [
    "# Cleaning up the data"
   ]
  },
  {
   "cell_type": "code",
   "execution_count": 179,
   "metadata": {},
   "outputs": [
    {
     "name": "stdout",
     "output_type": "stream",
     "text": [
      "Dimensions before dropping columns with more than 50% missing values: (41449, 93) for OCD and (25750, 90) for Autism\n",
      "Dimensions after dropping columns with more than 50% missing values: (41449, 51) for OCD and (25750, 52) for Autism\n"
     ]
    }
   ],
   "source": [
    "# drop columns with more than 50% missing values from the dataframes\n",
    "print(f'Dimensions before dropping columns with more than 50% missing values: {df_ocd.shape} for OCD and {df_autism.shape} for Autism')\n",
    "df_ocd = df_ocd.dropna(thresh=0.5*len(df_ocd), axis=1)\n",
    "df_autism = df_autism.dropna(thresh=0.5*len(df_autism), axis=1)\n",
    "print(f'Dimensions after dropping columns with more than 50% missing values: {df_ocd.shape} for OCD and {df_autism.shape} for Autism')"
   ]
  },
  {
   "cell_type": "code",
   "execution_count": 180,
   "metadata": {},
   "outputs": [
    {
     "name": "stdout",
     "output_type": "stream",
     "text": [
      "columns in df_ocd: Index(['author', 'author_flair_richtext', 'author_flair_type', 'can_mod_post',\n",
      "       'contest_mode', 'created_utc', 'domain', 'full_link', 'id',\n",
      "       'is_crosspostable', 'is_reddit_media_domain', 'is_self', 'is_video',\n",
      "       'link_flair_richtext', 'link_flair_text_color', 'link_flair_type',\n",
      "       'locked', 'num_comments', 'num_crossposts', 'over_18',\n",
      "       'parent_whitelist_status', 'permalink', 'pinned', 'retrieved_on',\n",
      "       'score', 'selftext', 'spoiler', 'stickied', 'subreddit', 'subreddit_id',\n",
      "       'subreddit_type', 'thumbnail', 'title', 'url', 'whitelist_status',\n",
      "       'send_replies', 'no_follow', 'subreddit_subscribers',\n",
      "       'is_original_content', 'pwls', 'wls', 'media_only', 'is_meta',\n",
      "       'author_fullname', 'gildings', 'is_robot_indexable',\n",
      "       'author_patreon_flair', 'all_awardings', 'total_awards_received',\n",
      "       'allow_live_comments', 'target'],\n",
      "      dtype='object')\n"
     ]
    }
   ],
   "source": [
    "print(f'columns in df_ocd: {df_ocd.columns}')\n"
   ]
  },
  {
   "cell_type": "code",
   "execution_count": 181,
   "metadata": {},
   "outputs": [],
   "source": [
    "#* Only keep the columns in these two dataframes that are in both dataframes and are in the lists below\n",
    "autism_columns_to_keep = ['author', 'author_flair_richtext', 'author_flair_type','created_utc', 'id', 'is_video', 'selftext', 'title', 'is_original_content','media_only', 'author_fullname','target']\n",
    "ocd_columns_to_keep = ['author', 'author_flair_richtext', 'author_flair_type','created_utc', 'id', 'is_video', 'selftext', 'title', 'is_original_content','media_only', 'author_fullname','target']"
   ]
  },
  {
   "cell_type": "code",
   "execution_count": 182,
   "metadata": {},
   "outputs": [
    {
     "name": "stdout",
     "output_type": "stream",
     "text": [
      "Dimensions before dropping columns that are not in the lists above: (41449, 51) for OCD and (25750, 52) for Autism\n",
      "Dimensions after dropping columns that are not in the lists above: (41449, 12) for OCD and (25750, 12) for Autism\n"
     ]
    }
   ],
   "source": [
    "# drop columns that are not in the lists above\n",
    "print(f'Dimensions before dropping columns that are not in the lists above: {df_ocd.shape} for OCD and {df_autism.shape} for Autism')\n",
    "df_ocd = df_ocd[ocd_columns_to_keep] \n",
    "df_autism = df_autism[autism_columns_to_keep]\n",
    "print(f'Dimensions after dropping columns that are not in the lists above: {df_ocd.shape} for OCD and {df_autism.shape} for Autism')"
   ]
  },
  {
   "cell_type": "code",
   "execution_count": 183,
   "metadata": {},
   "outputs": [
    {
     "name": "stdout",
     "output_type": "stream",
     "text": [
      "Dimensions before removing posts where `is_video` or `media_only` columns are True: (41449, 12) for OCD and (25750, 12) for Autism\n",
      "Dimensions after removing posts where `is_video` or `media_only` columns are True: (37323, 12) for OCD and (25540, 12) for Autism\n",
      "Dropped the `is_video` and `media_only` columns\n"
     ]
    }
   ],
   "source": [
    "# Now remove any posts from these dataframes where the `is_video` or `media_only` columsn are True\n",
    "print(f'Dimensions before removing posts where `is_video` or `media_only` columns are True: {df_ocd.shape} for OCD and {df_autism.shape} for Autism')\n",
    "df_ocd = df_ocd[(df_ocd['is_video'] == False) & (df_ocd['media_only'] == False)]\n",
    "df_autism = df_autism[(df_autism['is_video'] == False) & (df_autism['media_only'] == False)]\n",
    "print(f'Dimensions after removing posts where `is_video` or `media_only` columns are True: {df_ocd.shape} for OCD and {df_autism.shape} for Autism')\n",
    "\n",
    "# and now we can drop the `is_video` and `media_only` columns\n",
    "df_ocd = df_ocd.drop(columns=['is_video', 'media_only'])\n",
    "df_autism = df_autism.drop(columns=['is_video', 'media_only'])\n",
    "print(f'Dropped the `is_video` and `media_only` columns')\n"
   ]
  },
  {
   "cell_type": "code",
   "execution_count": 184,
   "metadata": {},
   "outputs": [
    {
     "name": "stdout",
     "output_type": "stream",
     "text": [
      "Median length of title and selftext columns combined for OCD: 652.0\n",
      "Median length of title and selftext columns combined for Autism: 470.0\n"
     ]
    }
   ],
   "source": [
    "# some posts are in the title column and some are in the selftext column so we need to combine these columns into one column if they are long enough.\n",
    "# find the median length of the title and selftext columns combined for each dataframe\n",
    "med_len_title_selftext_ocd = df_ocd.title.str.len().add(df_ocd.selftext.str.len()).median()\n",
    "med_len_title_selftext_autism = df_autism.title.str.len().add(df_autism.selftext.str.len()).median()\n",
    "print(f'Median length of title and selftext columns combined for OCD: {med_len_title_selftext_ocd}')\n",
    "print(f'Median length of title and selftext columns combined for Autism: {med_len_title_selftext_autism}')\n"
   ]
  },
  {
   "cell_type": "code",
   "execution_count": 185,
   "metadata": {},
   "outputs": [
    {
     "name": "stdout",
     "output_type": "stream",
     "text": [
      "Acceptable number of OCD posts: 16343\n",
      "Acceptable number of Autism posts: 9021\n"
     ]
    }
   ],
   "source": [
    "# how many posts have a title and selftext combined that are longer than the median length of the title and selftext columns combined for each dataframe?\n",
    "print(f'Acceptable number of OCD posts: {len(df_ocd[df_ocd.title.str.len().add(df_ocd.selftext.str.len()) > med_len_title_selftext_ocd])}')\n",
    "print(f'Acceptable number of Autism posts: {len(df_autism[df_autism.title.str.len().add(df_autism.selftext.str.len()) > med_len_title_selftext_autism])}')"
   ]
  },
  {
   "cell_type": "code",
   "execution_count": 186,
   "metadata": {},
   "outputs": [
    {
     "name": "stdout",
     "output_type": "stream",
     "text": [
      "Dimensions before: (37323, 10) for OCD and (25540, 10) for Autism\n",
      "Dimensions before: (16343, 10) for OCD and (9021, 10) for Autism\n"
     ]
    }
   ],
   "source": [
    "# remove posts where the title and selftext combined are shorter than the median length of the title and selftext columns combined for each dataframe\n",
    "print(f'Dimensions before: {df_ocd.shape} for OCD and {df_autism.shape} for Autism')\n",
    "df_ocd = df_ocd[df_ocd.title.str.len().add(df_ocd.selftext.str.len()) > med_len_title_selftext_ocd]\n",
    "df_autism = df_autism[df_autism.title.str.len().add(df_autism.selftext.str.len()) > med_len_title_selftext_autism]\n",
    "print(f'Dimensions before: {df_ocd.shape} for OCD and {df_autism.shape} for Autism')"
   ]
  },
  {
   "cell_type": "code",
   "execution_count": 187,
   "metadata": {},
   "outputs": [],
   "source": [
    "# drop author_flair_richtext\n",
    "df_ocd = df_ocd.drop(columns=['author_flair_richtext'])\n",
    "df_autism = df_autism.drop(columns=['author_flair_richtext'])\n"
   ]
  },
  {
   "cell_type": "code",
   "execution_count": 188,
   "metadata": {},
   "outputs": [
    {
     "name": "stdout",
     "output_type": "stream",
     "text": [
      "Number of authors in df_ocd: 7688\n",
      "Number of authors in df_autism: 2897\n"
     ]
    }
   ],
   "source": [
    "# how many authors are in each dataframe?\n",
    "print(f'Number of authors in df_ocd: {len(df_ocd.author.unique())}')\n",
    "print(f'Number of authors in df_autism: {len(df_autism.author.unique())}')\n"
   ]
  },
  {
   "cell_type": "code",
   "execution_count": 189,
   "metadata": {},
   "outputs": [],
   "source": [
    "# how many posts are there for the top 100 authors in each dataframe?\n",
    "top_authors_ocd = df_ocd.author.value_counts().head(100)\n",
    "top_authors_byfullname_ocd = df_ocd.author_fullname.value_counts().head(100)\n",
    "top_authors_autism = df_autism.author.value_counts().head(100)\n",
    "top_authors_byfullname_autism = df_autism.author_fullname.value_counts().head(100)"
   ]
  },
  {
   "cell_type": "code",
   "execution_count": 190,
   "metadata": {},
   "outputs": [
    {
     "data": {
      "text/plain": [
       "Userur      143\n",
       "corinaah     44\n",
       "Name: author, dtype: int64"
      ]
     },
     "execution_count": 190,
     "metadata": {},
     "output_type": "execute_result"
    }
   ],
   "source": [
    "top_authors_ocd.head(2)"
   ]
  },
  {
   "cell_type": "code",
   "execution_count": 191,
   "metadata": {},
   "outputs": [
    {
     "data": {
      "text/plain": [
       "Jupiter642           47\n",
       "anonaskingaccount    32\n",
       "Name: author, dtype: int64"
      ]
     },
     "execution_count": 191,
     "metadata": {},
     "output_type": "execute_result"
    }
   ],
   "source": [
    "top_authors_autism.head(2)"
   ]
  },
  {
   "cell_type": "code",
   "execution_count": 192,
   "metadata": {},
   "outputs": [
    {
     "name": "stdout",
     "output_type": "stream",
     "text": [
      "Number of authors that are in both dataframes: 0\n",
      "List of authors that are in both dataframes: []\n"
     ]
    }
   ],
   "source": [
    "# are there any authors that are in both dataframes?\n",
    "print(f'Number of authors that are in both dataframes: {len(set(top_authors_ocd.index).intersection(set(top_authors_autism.index)))}')\n",
    "list_of_cross_posters = list(set(top_authors_ocd.index).intersection(set(top_authors_autism.index)))\n",
    "print(f'List of authors that are in both dataframes: {list_of_cross_posters}')"
   ]
  },
  {
   "cell_type": "code",
   "execution_count": 193,
   "metadata": {},
   "outputs": [],
   "source": [
    "# drop author_flair_type and author_fullname columns from both dataframes\n",
    "df_ocd = df_ocd.drop(columns=['author_flair_type', 'author_fullname'])\n",
    "df_autism = df_autism.drop(columns=['author_flair_type', 'author_fullname'])\n"
   ]
  },
  {
   "cell_type": "code",
   "execution_count": 194,
   "metadata": {},
   "outputs": [],
   "source": [
    "# combine the title and self text columns into one column with the format `title - selftext`\n",
    "df_ocd['title_selftext'] = df_ocd.title + ' - ' + df_ocd.selftext\n",
    "df_autism['title_selftext'] = df_autism.title + ' - ' + df_autism.selftext\n"
   ]
  },
  {
   "cell_type": "code",
   "execution_count": 195,
   "metadata": {},
   "outputs": [],
   "source": [
    "# drop the title and selftext columns\n",
    "df_ocd = df_ocd.drop(columns=['title', 'selftext'])\n",
    "df_autism = df_autism.drop(columns=['title', 'selftext'])\n"
   ]
  },
  {
   "cell_type": "code",
   "execution_count": 196,
   "metadata": {},
   "outputs": [],
   "source": [
    "# rename the `title_selftext` column to `selftext`\n",
    "df_ocd = df_ocd.rename(columns={'title_selftext': 'selftext'})\n",
    "df_autism = df_autism.rename(columns={'title_selftext': 'selftext'})\n"
   ]
  },
  {
   "cell_type": "markdown",
   "metadata": {},
   "source": [
    "## cleaning out the post data (to remove biasing factors)"
   ]
  },
  {
   "cell_type": "code",
   "execution_count": 197,
   "metadata": {},
   "outputs": [
    {
     "name": "stdout",
     "output_type": "stream",
     "text": [
      "Random OCD post: Lets talk about O.C.D. - \n",
      "I have O.C.D. I didn’t know that was the term for it until about 10 years ago when I finally opened up about my situation and sought help. I had rituals and rules I needed to follow for everything I did. I still do, but when I was a kid I didn’t know why-I thought I was crazy. I’d hide my tics and weird routines the best I could, but this led me become withdrawn. It effected EVERYTHING from my grades and I my friends. As I eventually got older, I tried to self medicate with drugs and alcohol as I found that they quieted the internal dialogue down-this only made the situation worse and created a entirely new set of problems. \n",
      "\n",
      "What breaks my heart, is that all I needed was to know that I was not broken, and to have a conversation with someone that was willing to talk about mental health.\n",
      "\n",
      "This is not just my story. There are kids out there, right now, silently suffering through things that they don’t understand. Keep having conversations, keep being open, and keep being honest. Beat the stigma.\n",
      "-Doug\n",
      "————————\n",
      ".\n",
      ".\n",
      ".\n",
      ".\n",
      ".\n",
      ".\n",
      ".\n",
      ".\n",
      ".\n",
      ".\n",
      "MENTAL HEALTH ART EVENT💙\n",
      "NOV 29th-DEC 6th\n",
      "IG @draw_for_change\n",
      "\n",
      "A team of artists have come together together to create works of art that amplify mental health💙 Each artist will be creating a piece “through the eyes of” a different aspect of mental health. Whether it is through the eyes of PTSD, or through the eyes of Superman, our hope is to facilitate conversation and let others know that they are not alone.\n",
      "\n",
      "Starting November 29th, you will have the chance to bid on these works of art with EVERY DOLLAR going to the American Foundation For Suicide Prevention. We want to use these works of art to provide a visual a narrative for different aspects of mental health, while raising funds and awareness for the AFSP as the same time. Check us out on IG @draw_for_change\n",
      "====================================================================================================\n",
      "Random Autism post: FREE second-hand weighted blankets - Hi there, I have two really good quality weighted blankets that I'm ready to part with. My sensory issues have improved greatly over the past few years and I'd like to donate these to some people who need them more, as they can be very expensive. Both are Sensory Direct brand, clean, and still look like new. They're navy blue (but do fit in a single duvet cover), one is cotton on both sides and one has a fleece side. They're around 7kg each (I had a bit of a hard time weighing them), and most advice seems to suggest a blanket being around 10% total bodyweight, meaning they'd probably be best for someone 60-80kg, however I'd consider that a rough guide. If you/your child prefer deep pressure, as I did, weighing &lt;60kg shouldn't be such an issue - trust your judgement! :) \n",
      "\n",
      "I'm based in the UK, so unless you're willing to contribute to shipping costs I'm afraid I'm only willing to send them within the British Isles. \n",
      "\n",
      "If anyone's interested let me know in the comments or send me a message. :) Thanks!!\n"
     ]
    }
   ],
   "source": [
    "# randomly sample one post from each dataframe and print it\n",
    "print(f'Random OCD post: {df_ocd.sample(1).selftext.values[0]}')\n",
    "print('='*100)\n",
    "print(f'Random Autism post: {df_autism.sample(1).selftext.values[0]}')"
   ]
  },
  {
   "cell_type": "code",
   "execution_count": 198,
   "metadata": {},
   "outputs": [],
   "source": [
    "cancel_words = ['ocd','aut*','autism','obsess*','compuls*','disorder','executive dysfunction','adhd','diagnosis','ive been taking','spectrum','intrusive thoughts','germaphobes','depression']"
   ]
  },
  {
   "cell_type": "code",
   "execution_count": 199,
   "metadata": {},
   "outputs": [],
   "source": [
    "def censor_words(text):\n",
    "    text = text.lower()\n",
    "    # Remove all words that begin with 'aut' from the sentence and return the result\n",
    "    # regex pattern\n",
    "    pattern = r'aut(.*?)[^a-zA-Z]' # aut followed by any number of characters then ending in any character that is not a letter\n",
    "    # replace those pattern matches with '' (nothing)\n",
    "    text =  re.sub(pattern, '', text) # replace the pattern matches with '' (nothing)\n",
    "    \n",
    "    # pattern 2 - remove all words that begin with 'ocd' from the sentence and return the result\n",
    "    pattern = r'ocd(.*?)[^a-zA-Z]' # ocd followed by any number of characters then ending in any character that is not a letter\n",
    "    # replace those pattern matches with '' (nothing)\n",
    "    text =  re.sub(pattern, '', text) # replace the pattern matches with '' (nothing)\n",
    "\n",
    "    # pattern 3 - remove all words that begin with 'obsess' from the sentence and return the result\n",
    "    pattern = r'obsess|compuls(.*?)[^a-zA-Z]' # obsess followed by any number of characters then ending in any character that is not a letter\n",
    "    # replace those pattern matches with '' (nothing)\n",
    "    text =  re.sub(pattern, '', text) # replace the pattern matches with '' (nothing)\n",
    "    #  remove nonalphanumeric characters\n",
    "    text = re.sub(r'[^a-zA-Z ]', '', text)\n",
    "    \n",
    "    return text # return the result\n",
    "\n",
    "# apply the censor_words function to the selftext column of each dataframe\n",
    "df_ocd['selftext'] = df_ocd['selftext'].apply(censor_words)\n",
    "\n",
    "# remove punctuation\n",
    "df_ocd['selftext'] = df_ocd['selftext'].str.replace('[^\\w\\s]','')\n",
    "# remove numbers\n",
    "df_ocd['selftext'] = df_ocd['selftext'].str.replace('\\d+', '')\n",
    "# remove whitespace\n",
    "df_ocd['selftext'] = df_ocd['selftext'].str.replace('\\s+', ' ')\n",
    "\n",
    "# do the same for the autism dataframe\n",
    "df_autism['selftext'] = df_autism['selftext'].apply(censor_words)\n",
    "# remove punctuation\n",
    "df_autism['selftext'] = df_autism['selftext'].str.replace('[^\\w\\s]','')\n",
    "# remove numbers\n",
    "df_autism['selftext'] = df_autism['selftext'].str.replace('\\d+', '')\n",
    "# remove whitespace\n",
    "df_autism['selftext'] = df_autism['selftext'].str.replace('\\s+', ' ')\n",
    "\n"
   ]
  },
  {
   "cell_type": "code",
   "execution_count": 200,
   "metadata": {},
   "outputs": [],
   "source": [
    "# remove words from posts that are in the cancel_words list. There are regex patterns in the cancel_words list so we need to use the `regex=True` parameter\n",
    "\n",
    "# then remove double spaces\n",
    "df_ocd['selftext'] = df_ocd['selftext'].str.replace('  ', ' ')\n",
    "df_autism['selftext'] = df_autism['selftext'].str.replace('  ', ' ')"
   ]
  },
  {
   "cell_type": "code",
   "execution_count": null,
   "metadata": {},
   "outputs": [],
   "source": []
  },
  {
   "cell_type": "code",
   "execution_count": 201,
   "metadata": {},
   "outputs": [],
   "source": [
    "# make a new dataframe called df_reddit that combines the two dataframes\n",
    "\n",
    "df_reddit = pd.DataFrame(columns=df_ocd.columns)\n",
    "# what is the length of the shorter dataframe?\n",
    "if len(df_ocd) < len(df_autism): # if the OCD dataframe is shorter\n",
    "    shorter_df = df_ocd # set the shorter dataframe to the OCD dataframe\n",
    "    longer_df = df_autism # set the longer dataframe to the Autism dataframe\n",
    "    df_reddit.append()\n",
    "else: # if the Autism dataframe is shorter\n",
    "    shorter_df = df_autism\n",
    "    longer_df = df_ocd\n",
    "\n",
    "# add the shorter dataframe to the new dataframe using concat\n",
    "df_reddit = pd.concat([df_reddit, shorter_df], axis=0)\n",
    "# shorten the longer dataframe to the length of the shorter dataframe\n",
    "longer_df = longer_df.head(len(shorter_df))\n",
    "# add the shortened longer dataframe to the new dataframe using concat\n",
    "df_reddit = pd.concat([df_reddit, longer_df], axis=0)\n",
    "\n",
    "# reset the index\n",
    "df_reddit = df_reddit.reset_index(drop=True)"
   ]
  },
  {
   "cell_type": "code",
   "execution_count": 202,
   "metadata": {},
   "outputs": [
    {
     "name": "stdout",
     "output_type": "stream",
     "text": [
      "Dimensions of the new dataframe: (18042, 6)\n"
     ]
    },
    {
     "data": {
      "text/html": [
       "<div>\n",
       "<style scoped>\n",
       "    .dataframe tbody tr th:only-of-type {\n",
       "        vertical-align: middle;\n",
       "    }\n",
       "\n",
       "    .dataframe tbody tr th {\n",
       "        vertical-align: top;\n",
       "    }\n",
       "\n",
       "    .dataframe thead th {\n",
       "        text-align: right;\n",
       "    }\n",
       "</style>\n",
       "<table border=\"1\" class=\"dataframe\">\n",
       "  <thead>\n",
       "    <tr style=\"text-align: right;\">\n",
       "      <th></th>\n",
       "      <th>author</th>\n",
       "      <th>created_utc</th>\n",
       "      <th>id</th>\n",
       "      <th>is_original_content</th>\n",
       "      <th>target</th>\n",
       "      <th>selftext</th>\n",
       "    </tr>\n",
       "  </thead>\n",
       "  <tbody>\n",
       "    <tr>\n",
       "      <th>0</th>\n",
       "      <td>mrsrainh20</td>\n",
       "      <td>1571436835</td>\n",
       "      <td>djuqm7</td>\n",
       "      <td>False</td>\n",
       "      <td>0</td>\n",
       "      <td>year old kicked out of his second daycare it ...</td>\n",
       "    </tr>\n",
       "    <tr>\n",
       "      <th>1</th>\n",
       "      <td>lacdavis</td>\n",
       "      <td>1591261516</td>\n",
       "      <td>gwdufs</td>\n",
       "      <td>False</td>\n",
       "      <td>1</td>\n",
       "      <td>do anyone elses themes revolve around other me...</td>\n",
       "    </tr>\n",
       "    <tr>\n",
       "      <th>2</th>\n",
       "      <td>Mouthydraws</td>\n",
       "      <td>1563248603</td>\n",
       "      <td>cdrvoz</td>\n",
       "      <td>False</td>\n",
       "      <td>0</td>\n",
       "      <td>vent pitybeing treated like a joke hey everyon...</td>\n",
       "    </tr>\n",
       "    <tr>\n",
       "      <th>3</th>\n",
       "      <td>forestfloordoor</td>\n",
       "      <td>1535545942</td>\n",
       "      <td>9b8v7a</td>\n",
       "      <td>False</td>\n",
       "      <td>1</td>\n",
       "      <td>transgender how do i learn the truth im going ...</td>\n",
       "    </tr>\n",
       "    <tr>\n",
       "      <th>4</th>\n",
       "      <td>1971rk4262</td>\n",
       "      <td>1565487854</td>\n",
       "      <td>coqrxe</td>\n",
       "      <td>False</td>\n",
       "      <td>0</td>\n",
       "      <td>need help with yo attitude ok im going to ask ...</td>\n",
       "    </tr>\n",
       "  </tbody>\n",
       "</table>\n",
       "</div>"
      ],
      "text/plain": [
       "            author created_utc      id is_original_content target  \\\n",
       "0       mrsrainh20  1571436835  djuqm7               False      0   \n",
       "1         lacdavis  1591261516  gwdufs               False      1   \n",
       "2      Mouthydraws  1563248603  cdrvoz               False      0   \n",
       "3  forestfloordoor  1535545942  9b8v7a               False      1   \n",
       "4       1971rk4262  1565487854  coqrxe               False      0   \n",
       "\n",
       "                                            selftext  \n",
       "0   year old kicked out of his second daycare it ...  \n",
       "1  do anyone elses themes revolve around other me...  \n",
       "2  vent pitybeing treated like a joke hey everyon...  \n",
       "3  transgender how do i learn the truth im going ...  \n",
       "4  need help with yo attitude ok im going to ask ...  "
      ]
     },
     "execution_count": 202,
     "metadata": {},
     "output_type": "execute_result"
    }
   ],
   "source": [
    "# shuffle the dataframe\n",
    "df_reddit = df_reddit.sample(frac=1).reset_index(drop=True)\n",
    "# check the dimensions of the new dataframe\n",
    "print(f'Dimensions of the new dataframe: {df_reddit.shape}')\n",
    "df_reddit.head(5)"
   ]
  },
  {
   "cell_type": "code",
   "execution_count": 203,
   "metadata": {},
   "outputs": [
    {
     "name": "stdout",
     "output_type": "stream",
     "text": [
      "Number of posts for OCD: 9021\n",
      "Number of posts for Autism: 9021\n"
     ]
    }
   ],
   "source": [
    "# double check that the number of posts for each subreddit is the same\n",
    "print(f'Number of posts for OCD: {len(df_reddit[df_reddit.target == 1])}')\n",
    "print(f'Number of posts for Autism: {len(df_reddit[df_reddit.target == 0])}')\n"
   ]
  },
  {
   "cell_type": "markdown",
   "metadata": {},
   "source": [
    "# Post Cleaning Preview"
   ]
  },
  {
   "cell_type": "code",
   "execution_count": 204,
   "metadata": {},
   "outputs": [
    {
     "data": {
      "text/html": [
       "<div>\n",
       "<style scoped>\n",
       "    .dataframe tbody tr th:only-of-type {\n",
       "        vertical-align: middle;\n",
       "    }\n",
       "\n",
       "    .dataframe tbody tr th {\n",
       "        vertical-align: top;\n",
       "    }\n",
       "\n",
       "    .dataframe thead th {\n",
       "        text-align: right;\n",
       "    }\n",
       "</style>\n",
       "<table border=\"1\" class=\"dataframe\">\n",
       "  <thead>\n",
       "    <tr style=\"text-align: right;\">\n",
       "      <th></th>\n",
       "      <th>author</th>\n",
       "      <th>created_utc</th>\n",
       "      <th>id</th>\n",
       "      <th>is_original_content</th>\n",
       "      <th>target</th>\n",
       "      <th>selftext</th>\n",
       "    </tr>\n",
       "  </thead>\n",
       "  <tbody>\n",
       "    <tr>\n",
       "      <th>2016</th>\n",
       "      <td>mindkingdom</td>\n",
       "      <td>1527063603</td>\n",
       "      <td>8lhprn</td>\n",
       "      <td>False</td>\n",
       "      <td>1</td>\n",
       "      <td>thoughts that things could get corrupted or br...</td>\n",
       "    </tr>\n",
       "    <tr>\n",
       "      <th>2020</th>\n",
       "      <td>SteelSlayer7</td>\n",
       "      <td>1527074859</td>\n",
       "      <td>8lil9v</td>\n",
       "      <td>False</td>\n",
       "      <td>1</td>\n",
       "      <td>intrusive thoughts devaluing myself i am plagu...</td>\n",
       "    </tr>\n",
       "  </tbody>\n",
       "</table>\n",
       "</div>"
      ],
      "text/plain": [
       "            author  created_utc      id is_original_content  target  \\\n",
       "2016   mindkingdom   1527063603  8lhprn               False       1   \n",
       "2020  SteelSlayer7   1527074859  8lil9v               False       1   \n",
       "\n",
       "                                               selftext  \n",
       "2016  thoughts that things could get corrupted or br...  \n",
       "2020  intrusive thoughts devaluing myself i am plagu...  "
      ]
     },
     "execution_count": 204,
     "metadata": {},
     "output_type": "execute_result"
    }
   ],
   "source": [
    "df_ocd.head(2)"
   ]
  },
  {
   "cell_type": "code",
   "execution_count": 205,
   "metadata": {},
   "outputs": [
    {
     "data": {
      "text/html": [
       "<div>\n",
       "<style scoped>\n",
       "    .dataframe tbody tr th:only-of-type {\n",
       "        vertical-align: middle;\n",
       "    }\n",
       "\n",
       "    .dataframe tbody tr th {\n",
       "        vertical-align: top;\n",
       "    }\n",
       "\n",
       "    .dataframe thead th {\n",
       "        text-align: right;\n",
       "    }\n",
       "</style>\n",
       "<table border=\"1\" class=\"dataframe\">\n",
       "  <thead>\n",
       "    <tr style=\"text-align: right;\">\n",
       "      <th></th>\n",
       "      <th>author</th>\n",
       "      <th>created_utc</th>\n",
       "      <th>id</th>\n",
       "      <th>is_original_content</th>\n",
       "      <th>target</th>\n",
       "      <th>selftext</th>\n",
       "    </tr>\n",
       "  </thead>\n",
       "  <tbody>\n",
       "    <tr>\n",
       "      <th>0</th>\n",
       "      <td>Equadex</td>\n",
       "      <td>1546777579</td>\n",
       "      <td>ad56om</td>\n",
       "      <td>False</td>\n",
       "      <td>0</td>\n",
       "      <td>how can people be considered equals if they ar...</td>\n",
       "    </tr>\n",
       "    <tr>\n",
       "      <th>5</th>\n",
       "      <td>936R</td>\n",
       "      <td>1546786707</td>\n",
       "      <td>ad68am</td>\n",
       "      <td>False</td>\n",
       "      <td>0</td>\n",
       "      <td>questions for females with hi there im looking...</td>\n",
       "    </tr>\n",
       "  </tbody>\n",
       "</table>\n",
       "</div>"
      ],
      "text/plain": [
       "    author  created_utc      id  is_original_content  target  \\\n",
       "0  Equadex   1546777579  ad56om                False       0   \n",
       "5     936R   1546786707  ad68am                False       0   \n",
       "\n",
       "                                            selftext  \n",
       "0  how can people be considered equals if they ar...  \n",
       "5  questions for females with hi there im looking...  "
      ]
     },
     "execution_count": 205,
     "metadata": {},
     "output_type": "execute_result"
    }
   ],
   "source": [
    "df_autism.head(2)"
   ]
  },
  {
   "cell_type": "code",
   "execution_count": 206,
   "metadata": {},
   "outputs": [],
   "source": [
    "# find any of the medications in the selftext column that are in the data/drug_info.csv file under the Medication Name column and replace them with ' ' (empty string)\n",
    "drug_info = pd.read_csv('../data/drug_info.csv')\n",
    "drug_info['Medication Name'] = drug_info['Medication Name'].str.lower()\n"
   ]
  },
  {
   "cell_type": "code",
   "execution_count": 207,
   "metadata": {},
   "outputs": [
    {
     "name": "stdout",
     "output_type": "stream",
     "text": [
      "Number of medications: 3047\n"
     ]
    }
   ],
   "source": [
    "# create a list of the medications\n",
    "medications = drug_info['Medication Name'].tolist()\n",
    "print(f'Number of medications: {len(medications)}')"
   ]
  },
  {
   "cell_type": "code",
   "execution_count": 208,
   "metadata": {},
   "outputs": [
    {
     "name": "stdout",
     "output_type": "stream",
     "text": [
      "Number of posts that contain a medication: 18039\n"
     ]
    }
   ],
   "source": [
    "# how many posts contain a medication?\n",
    "print(f'Number of posts that contain a medication: {len(df_reddit[df_reddit.selftext.str.contains(\"|\".join(medications), regex=True)])}')"
   ]
  },
  {
   "cell_type": "code",
   "execution_count": 209,
   "metadata": {},
   "outputs": [
    {
     "data": {
      "text/plain": [
       "'abacavir sulfate'"
      ]
     },
     "execution_count": 209,
     "metadata": {},
     "output_type": "execute_result"
    }
   ],
   "source": [
    "medications[0]"
   ]
  },
  {
   "cell_type": "code",
   "execution_count": 210,
   "metadata": {},
   "outputs": [],
   "source": [
    "# # is 'p' in the medications list?\n",
    "# 'p' in medications\n",
    "# # drop the 'p' from the medications list\n",
    "# medications.remove('p')\n",
    "# drop any medications that are less than 5 characters long\n",
    "medications = [med for med in medications if len(med) > 5]"
   ]
  },
  {
   "cell_type": "code",
   "execution_count": 211,
   "metadata": {},
   "outputs": [],
   "source": [
    "# create a list of rows and the medications mentioned in each row\n",
    "import os\n",
    "medications_mentioned = []\n",
    "if os.path.exists('../data/cleaned_reddit.csv'):\n",
    "    pass\n",
    "else:\n",
    "    # with alive_bar (len(df_reddit)) as bar:\n",
    "    for index, row in df_reddit.iterrows(): # iterate through each row in the dataframe\n",
    "        # use regex to find all of the medications in the selftext column\n",
    "        meds = re.findall(r'\\b(?:{})\\b'.format('|'.join(medications)), row['selftext'])\n",
    "        if len(meds) > 0: # if there are medications mentioned in the post\n",
    "            # replace the medications with ' ' (empty string)\n",
    "            row['selftext'] = re.sub(r'\\b(?:{})\\b'.format('|'.join(medications)), ' ', row['selftext'])\n",
    "            medications_mentioned.extend(meds) # add the medications to the medications_mentioned list\n",
    "            # remove duplicate medications\n",
    "            medications_mentioned = list(set(medications_mentioned))\n",
    "            # bar()"
   ]
  },
  {
   "cell_type": "code",
   "execution_count": 212,
   "metadata": {},
   "outputs": [],
   "source": [
    "# remove the words from the selftext column that are in the medications list\n",
    "# if the file does not already exist, create it\n",
    "if os.path.exists('../data/cleaned_reddit.csv'):\n",
    "    # load the file\n",
    "    df_reddit = pd.read_csv('../data/cleaned_reddit.csv')\n",
    "else:\n",
    "    print('File does not exist. Creating it now. Before meds removed from selftext the length of the dataframe is: ', len(df_reddit))\n",
    "    print(f' Removed {len(medications_mentioned)} medications from the selftext column')\n",
    "    # save the dataframe to a csv file\n",
    "    df_reddit.to_csv('../data/cleaned_reddit.csv', index=False)"
   ]
  },
  {
   "cell_type": "code",
   "execution_count": 213,
   "metadata": {},
   "outputs": [],
   "source": [
    "# Now we want to clean the text in the self text column\n",
    "# remove punctuation\n",
    "df_reddit['selftext'] = df_reddit['selftext'].str.replace('[^\\w\\s]','')\n",
    "# remove numbers\n",
    "df_reddit['selftext'] = df_reddit['selftext'].str.replace('\\d+', '')\n",
    "# remove double spaces\n",
    "df_reddit['selftext'] = df_reddit['selftext'].str.replace('  ', ' ')\n",
    "# remove single characters\n",
    "df_reddit['selftext'] = df_reddit['selftext'].str.replace(r'\\b\\w\\b', '').str.replace(r'\\s+', ' ')\n",
    "# remove newlines\n",
    "df_reddit['selftext'] = df_reddit['selftext'].str.replace(r'\\n', ' ')\n",
    "# remove urls\n",
    "df_reddit['selftext'] = df_reddit['selftext'].str.replace(r'http\\S+', '')\n",
    "# remove html tags\n",
    "df_reddit['selftext'] = df_reddit['selftext'].str.replace(r'<.*?>', '')\n",
    "# remove extra spaces\n",
    "df_reddit['selftext'] = df_reddit['selftext'].str.replace(r'\\s+', ' ')\n",
    "# remove extra spaces at the beginning of the string\n",
    "df_reddit['selftext'] = df_reddit['selftext'].str.replace(r'^\\s+', '')\n",
    "# remove extra spaces at the end of the string\n",
    "df_reddit['selftext'] = df_reddit['selftext'].str.replace(r'\\s+$', '')"
   ]
  },
  {
   "cell_type": "code",
   "execution_count": 214,
   "metadata": {},
   "outputs": [
    {
     "name": "stdout",
     "output_type": "stream",
     "text": [
      "Dimensions of the dataframe: (18042, 6)\n"
     ]
    },
    {
     "data": {
      "text/html": [
       "<div>\n",
       "<style scoped>\n",
       "    .dataframe tbody tr th:only-of-type {\n",
       "        vertical-align: middle;\n",
       "    }\n",
       "\n",
       "    .dataframe tbody tr th {\n",
       "        vertical-align: top;\n",
       "    }\n",
       "\n",
       "    .dataframe thead th {\n",
       "        text-align: right;\n",
       "    }\n",
       "</style>\n",
       "<table border=\"1\" class=\"dataframe\">\n",
       "  <thead>\n",
       "    <tr style=\"text-align: right;\">\n",
       "      <th></th>\n",
       "      <th>author</th>\n",
       "      <th>created_utc</th>\n",
       "      <th>id</th>\n",
       "      <th>is_original_content</th>\n",
       "      <th>target</th>\n",
       "      <th>selftext</th>\n",
       "    </tr>\n",
       "  </thead>\n",
       "  <tbody>\n",
       "    <tr>\n",
       "      <th>0</th>\n",
       "      <td>ChubbyMonkeyX</td>\n",
       "      <td>1539241532</td>\n",
       "      <td>9n7o85</td>\n",
       "      <td>False</td>\n",
       "      <td>1</td>\n",
       "      <td>really bad but not very endangering ive though...</td>\n",
       "    </tr>\n",
       "    <tr>\n",
       "      <th>1</th>\n",
       "      <td>yognzvaidkd</td>\n",
       "      <td>1620336450</td>\n",
       "      <td>n6i6sp</td>\n",
       "      <td>False</td>\n",
       "      <td>1</td>\n",
       "      <td>a lot just happened and idk whats true can som...</td>\n",
       "    </tr>\n",
       "    <tr>\n",
       "      <th>2</th>\n",
       "      <td>kiranode</td>\n",
       "      <td>1554270592</td>\n",
       "      <td>b8u505</td>\n",
       "      <td>False</td>\n",
       "      <td>0</td>\n",
       "      <td>first group therapy session still stressed out...</td>\n",
       "    </tr>\n",
       "    <tr>\n",
       "      <th>3</th>\n",
       "      <td>b50142</td>\n",
       "      <td>1560436373</td>\n",
       "      <td>c06jok</td>\n",
       "      <td>False</td>\n",
       "      <td>0</td>\n",
       "      <td>participants needed support workers healthcare...</td>\n",
       "    </tr>\n",
       "    <tr>\n",
       "      <th>4</th>\n",
       "      <td>AccountForMyOCD</td>\n",
       "      <td>1558730325</td>\n",
       "      <td>bsly2g</td>\n",
       "      <td>False</td>\n",
       "      <td>1</td>\n",
       "      <td>just as i thought i was doing better i encount...</td>\n",
       "    </tr>\n",
       "  </tbody>\n",
       "</table>\n",
       "</div>"
      ],
      "text/plain": [
       "            author  created_utc      id  is_original_content  target  \\\n",
       "0    ChubbyMonkeyX   1539241532  9n7o85                False       1   \n",
       "1      yognzvaidkd   1620336450  n6i6sp                False       1   \n",
       "2         kiranode   1554270592  b8u505                False       0   \n",
       "3           b50142   1560436373  c06jok                False       0   \n",
       "4  AccountForMyOCD   1558730325  bsly2g                False       1   \n",
       "\n",
       "                                            selftext  \n",
       "0  really bad but not very endangering ive though...  \n",
       "1  a lot just happened and idk whats true can som...  \n",
       "2  first group therapy session still stressed out...  \n",
       "3  participants needed support workers healthcare...  \n",
       "4  just as i thought i was doing better i encount...  "
      ]
     },
     "execution_count": 214,
     "metadata": {},
     "output_type": "execute_result"
    }
   ],
   "source": [
    "# read the file into a dataframe\n",
    "df_reddit = pd.read_csv('../data/cleaned_reddit.csv')\n",
    "# remove any rows that have a null value in the selftext column\n",
    "df_reddit = df_reddit.dropna(subset=['selftext'])\n",
    "# reset the index\n",
    "df_reddit = df_reddit.reset_index(drop=True)\n",
    "# check the dimensions of the dataframe\n",
    "print(f'Dimensions of the dataframe: {df_reddit.shape}')\n",
    "df_reddit.head(5)"
   ]
  },
  {
   "cell_type": "code",
   "execution_count": 215,
   "metadata": {},
   "outputs": [],
   "source": [
    "# Evaluate the model using cross validation\n",
    "from sklearn.model_selection import cross_val_score\n",
    "\n",
    "# import auc and roc_curve\n",
    "from sklearn.metrics import auc, roc_curve\n",
    "\n",
    "# suppress warnings\n",
    "import warnings\n",
    "warnings.filterwarnings('ignore')\n",
    "\n",
    "import pickle"
   ]
  },
  {
   "cell_type": "code",
   "execution_count": 216,
   "metadata": {},
   "outputs": [
    {
     "name": "stdout",
     "output_type": "stream",
     "text": [
      "Dimensions of the dataframe: (18042, 6)\n"
     ]
    }
   ],
   "source": [
    "# for this next section we will refer to subreddits as targets\n",
    "# rename the subreddit column to target in the df_reddit dataframe\n",
    "df_reddit = df_reddit.rename(columns={'subreddit': 'target'})\n",
    "# check the dimensions of the dataframe\n",
    "print(f'Dimensions of the dataframe: {df_reddit.shape}')"
   ]
  },
  {
   "cell_type": "code",
   "execution_count": 217,
   "metadata": {},
   "outputs": [
    {
     "name": "stdout",
     "output_type": "stream",
     "text": [
      "Dimensions of the dataframe: (18042, 1000)\n",
      "Dimensions of the dataframe: (18042, 1001)\n",
      "Dimensions of the training set: (14433, 1000)\n",
      "Dimensions of the testing set: (3609, 1000)\n"
     ]
    }
   ],
   "source": [
    "# use count vectorizer to create a bag of words for the selftext column\n",
    "from sklearn.feature_extraction.text import CountVectorizer\n",
    "\n",
    "# create a count vectorizer object\n",
    "count_vectorizer = CountVectorizer(stop_words='english', max_features=1000)\n",
    "\n",
    "# fit and transform the count vectorizer on the selftext column\n",
    "X = count_vectorizer.fit_transform(df_reddit['selftext']) # X is a sparse matrix\n",
    "# convert to dense\n",
    "X = X.todense() # X is now a dense matrix, which means it is no longer sparse and has no zeros\n",
    "# convert to a dataframe and set the column names to the words in the count vectorizer\n",
    "X = pd.DataFrame(X, columns=count_vectorizer.get_feature_names())\n",
    "# check the dimensions of the dataframe\n",
    "print(f'Dimensions of the dataframe: {X.shape}')\n",
    "# X.head(5)\n",
    "# Now we want to add the target column to the X dataframe so that we can use it to train the model\n",
    "# add the target column to the X dataframe (the target column is the subreddit column from the df_reddit dataframe)\n",
    "X['subreddit_target'] = df_reddit['target']\n",
    "# check the dimensions of the dataframe\n",
    "print(f'Dimensions of the dataframe: {X.shape}')\n",
    "\n",
    "# import train_test_split\n",
    "from sklearn.model_selection import train_test_split\n",
    "# split the data into training and testing sets\n",
    "X_train, X_test, y_train, y_test = train_test_split(X.drop('subreddit_target', axis=1), X['subreddit_target'], test_size=0.2, random_state=42)\n",
    "# check the dimensions of the training and testing sets\n",
    "print(f'Dimensions of the training set: {X_train.shape}')\n",
    "print(f'Dimensions of the testing set: {X_test.shape}')\n"
   ]
  },
  {
   "cell_type": "code",
   "execution_count": 218,
   "metadata": {},
   "outputs": [],
   "source": [
    "# # use tfidf vectorizer to create a bag of words for the selftext column\n",
    "# from sklearn.feature_extraction.text import TfidfTransformer\n",
    "# print(f'Instantiate the TfidfTransformer object')\n",
    "# # instantiate the TfidfTransformer object\n",
    "# tfidf_transformer = TfidfTransformer()\n",
    "# print(f'Fit the TfidfTransformer object on the training set')\n",
    "# # fit the TfidfTransformer object on the training set\n",
    "# tfidf_transformer.fit(X_train)\n",
    "# # transform the training set\n",
    "# X_train_tfidf = tfidf_transformer.transform(X_train)\n",
    "# # transform the testing set\n",
    "# X_test_tfidf = tfidf_transformer.transform(X_test)\n",
    "# # check the dimensions of the training and testing sets\n",
    "# print(f'Dimensions of the training set: {X_train_tfidf.shape}')\n",
    "# print(f'Dimensions of the testing set: {X_test_tfidf.shape}')\n",
    "# # what we have done is created a bag of words using the tfidf vectorizer and then used the bag of words to train the model\n",
    "# # this differs from count vectorizer because it uses the term frequency-inverse document frequency (tfidf) to create the bag of words.\n",
    "# # tfidf is a numerical statistic that is intended to reflect how important a word is to a document in a collection or corpus.\n",
    "# # the tfidf value increases proportionally to the number of times a word appears in the document but is offset by the frequency of the word in the corpus.\n",
    "\n",
    "\n",
    "# # import train_test_split\n",
    "# from sklearn.model_selection import train_test_split\n",
    "# # split the data into training and testing sets (X_train_tfidf is the bag of words created using the tfidf vectorizer)\n",
    "# X_train_tfidf, X_test_tfidf, y_train_tfidf, y_test = train_test_split(X_train, y_train, test_size=0.2, random_state=42)\n",
    "# # check the dimensions of the training and testing sets\n",
    "# print(f'Dimensions of the training set: {X_train_tfidf.shape}')\n",
    "# print(f'Dimensions of the testing set: {X_test_tfidf.shape}')\n"
   ]
  },
  {
   "cell_type": "code",
   "execution_count": 219,
   "metadata": {},
   "outputs": [],
   "source": [
    "# # how do we include X_train_tfidf and X_test_tfidf in the model?\n",
    "# # we need to convert them to a dataframe\n",
    "# # convert the training set to a dataframe\n",
    "# X_train_tfidf = pd.DataFrame(X_train_tfidf.toarray(), columns=count_vectorizer.get_feature_names())\n",
    "# # convert the testing set to a dataframe\n",
    "# X_test_tfidf = pd.DataFrame(X_test_tfidf.toarray(), columns=count_vectorizer.get_feature_names())\n",
    "# # check the dimensions of the training and testing sets\n",
    "# print(f'Dimensions of the training set: {X_train_tfidf.shape}')\n",
    "# print(f'Dimensions of the testing set: {X_test_tfidf.shape}')"
   ]
  },
  {
   "cell_type": "code",
   "execution_count": 220,
   "metadata": {},
   "outputs": [],
   "source": [
    "# model results df\n",
    "master_results_dataframe = pd.DataFrame(columns=['model', 'accuracy', 'precision', 'recall', 'f1', 'auc', 'cross_val_score', 'rmse', 'mae', 'r2','mse', 'time','train_score', 'test_score', 'best_params', 'residuals'])"
   ]
  },
  {
   "cell_type": "code",
   "execution_count": 221,
   "metadata": {},
   "outputs": [],
   "source": [
    "# create a dictionary of parameters for each model type\n",
    "\n",
    "param_defaults = {\n",
    "    'logreg': {\n",
    "        'penalty': ['l1', 'l2'],\n",
    "        'C': [0.001, 0.01] #!0.1, 1, 10, 100, 1000]\n",
    "    },\n",
    "    'knn': {\n",
    "        'n_neighbors': list(range(1,5)), #! 31)),\n",
    "        'weights': ['uniform', 'distance'],\n",
    "        'metric': ['euclidean', 'manhattan']\n",
    "    },\n",
    "    'random_forest': {\n",
    "        'n_estimators': [10, 100 ] ,#! 1000],\n",
    "        'max_depth': [3, 5], #! 10, None],\n",
    "        'max_features': ['auto', 'sqrt']\n",
    "    },\n",
    "    'svm': {\n",
    "        'kernel': ['linear', 'poly'], #!, 'rbf', 'sigmoid'],\n",
    "        'C': [0.001, 0.01], #! 0.1, 1, 10, 100, 1000]\n",
    "    },\n",
    "    'decision_tree': {\n",
    "        'max_depth': [3, 5, 10, None],\n",
    "        'max_features': ['auto', 'sqrt', 'log2', None]\n",
    "    },\n",
    "    'gradientboostingclassifier': {\n",
    "        'n_estimators': [10, 100, 1000],\n",
    "        'max_depth': [3, 5, 10, None],\n",
    "        'max_features': ['auto', 'sqrt']\n",
    "    },\n",
    "    'adaboost': {\n",
    "        'n_estimators': [10, 100, 1000],\n",
    "        'learning_rate': [0.001, 0.01, 0.1, 1, 10, 100, 1000]\n",
    "    },\n",
    "    'bagging': {\n",
    "        'n_estimators': [10, 100, 1000],\n",
    "        'max_samples': [0.5, 1.0],\n",
    "        'max_features': [0.5, 1.0]\n",
    "    },\n",
    "    'extra_trees': {\n",
    "        'n_estimators': [10, 100, 1000],\n",
    "        'max_depth': [3, 5, 10, None],\n",
    "        'max_features': ['auto', 'sqrt', 'log2', None]\n",
    "    },\n",
    "    'gaussian_nb': {\n",
    "        'var_smoothing': [1e-9, 1e-8, 1e-7, 1e-6, 1e-5, 1e-4, 1e-3, 1e-2, 1e-1]\n",
    "    },\n",
    "    'bernoulli_nb': {\n",
    "        'alpha': [1e-9, 1e-8, 1e-7, 1e-6, 1e-5, 1e-4, 1e-3, 1e-2, 1e-1]\n",
    "    },\n",
    "    'multinomial_nb': {\n",
    "        'alpha': [1e-9, 1e-8, 1e-7, 1e-6, 1e-5, 1e-4, 1e-3, 1e-2, 1e-1]\n",
    "    },\n",
    "    'linear_svc': {\n",
    "        'C': [0.001, 0.01, 0.1, 1, 10, 100, 1000]\n",
    "    },\n",
    "    'xgboost': {\n",
    "        'n_estimators': [10, 100, 1000],\n",
    "        'max_depth': [3, 5, 10, None],\n",
    "        'learning_rate': [0.001, 0.01, 0.1, 1, 10, 100, 1000]\n",
    "    }\n",
    "}"
   ]
  },
  {
   "cell_type": "code",
   "execution_count": 222,
   "metadata": {},
   "outputs": [],
   "source": [
    "# import the logistic regression model\n",
    "from sklearn.linear_model import LogisticRegression\n",
    "# import r2_score\n",
    "from sklearn.metrics import r2_score\n",
    "# import accuracy_score\n",
    "from sklearn.metrics import accuracy_score\n",
    "# import RMSE and MSE\n",
    "from sklearn.metrics import mean_squared_error, mean_absolute_error\n",
    "# import AUC and ROC\n",
    "from sklearn.metrics import auc, roc_curve\n",
    "# import recall_score, precision_score, f1_score\n",
    "from sklearn.metrics import recall_score, precision_score, f1_score\n",
    "# grid search\n",
    "from sklearn.model_selection import GridSearchCV\n"
   ]
  },
  {
   "cell_type": "code",
   "execution_count": 223,
   "metadata": {},
   "outputs": [],
   "source": [
    "def save_results(model,master_results_dataframe, y_test, y_pred, X_train, X_test, y_train,param_defaults,gridsearch=False):\n",
    "    \"\"\"\n",
    "    save_results takes in a model and a master results dataframe and saves the model and the master results dataframe as a pickle file\n",
    "\n",
    "    _extended_summary_\n",
    "\n",
    "    :param model: _description_\n",
    "    :type model: _type_\n",
    "    :param master_results_dataframe: _description_\n",
    "    :type master_results_dataframe: _type_\n",
    "    :return: _description_\n",
    "    :rtype: _type_\n",
    "    \"\"\"\n",
    "\n",
    "    gridsearch = False # set to True if you want to use gridsearch\n",
    "\n",
    "    if model not in ['decision_tree', 'random_forest', 'knn', 'svm', 'gradientboostingclassifier', 'adaboost', 'bagging', 'extra_trees', 'gaussian_nb', 'bernoulli_nb', 'multinomial_nb', 'linear_svc', 'xgboost']:\n",
    "        # evaluate the model\n",
    "        acc_score = accuracy_score(y_test, y_pred) # accuracy score for the model on the testing set\n",
    "        cross_val = cross_val_score(model, X_train, y_train, cv=5).mean()\n",
    "        rmse = np.sqrt(mean_squared_error(y_test, y_pred)) # root mean squared error on the testing set\n",
    "        mae = mean_absolute_error(y_test, y_pred) # on the testing set\n",
    "        r2 = r2_score(y_test, y_pred) #\n",
    "        mse = mean_squared_error(y_test, y_pred)\n",
    "        fpr, tpr, thresholds = roc_curve(y_test, y_pred)\n",
    "        auc_score = auc(fpr, tpr)\n",
    "        precision = precision_score(y_test, y_pred)\n",
    "        recall = recall_score(y_test, y_pred)\n",
    "        f1 = f1_score(y_test, y_pred)\n",
    "\n",
    "        model_name = str(model).lower().replace(' ', '_').replace('(', '').replace(')', '')\n",
    "        \n",
    "        print(f'accuracy_score: {acc_score}')\n",
    "        print(f'cross_val_score: {cross_val}')\n",
    "        print(f'rmse: {rmse}')\n",
    "        print(f'mae: {mae}')\n",
    "        print(f'r2: {r2}')\n",
    "        print(f'mse: {mse}')\n",
    "        print(f'auc: {auc_score}')\n",
    "        # print(f'false positive rate: {fpr}')\n",
    "        # print(f'true positive rate: {tpr}')\n",
    "        print(f'thresholds: {thresholds}')\n",
    "\n",
    "        # AUC and ROC\n",
    "        # calculate the probabilities\n",
    "        y_pred_prob = model.predict_proba(X_test)[:,1]\n",
    "        # calculate the false positive rate and true positive rate\n",
    "        fpr, tpr, thresholds = roc_curve(y_test, y_pred_prob)\n",
    "        # calculate the area under the curve\n",
    "        print(f'AUC score: {auc(fpr, tpr)}')\n",
    "\n",
    "\n",
    "        #  train score\n",
    "        train_score = model.score(X_train, y_train)\n",
    "        # test score\n",
    "        test_score = model.score(X_test, y_test)\n",
    "\n",
    "        # perform grid search to find the best parameters\n",
    "        # create a dictionary of parameters to search (for a logistic regression model)\n",
    "        if gridsearch:\n",
    "            try:\n",
    "                print('Performing Grid Search...')\n",
    "                # find the parameters dict that matches the model name in the dictionary of parameters, and assign it to params\n",
    "                params = param_defaults.get(model_name) # get the parameters for the model\n",
    "                cv_num = 3 # number of cross validations to perform\n",
    "                print('Parameters for the model: ', params)\n",
    "                print(f'Estimated time to complete grid search: {len(params)*cv_num} seconds')\n",
    "                # create a grid search object\n",
    "                grid_search = GridSearchCV(model, params, cv=cv_num, verbose=0, n_jobs=-1)\n",
    "                # fit the grid search object to the training data\n",
    "                grid_search.fit(X_train, y_train)\n",
    "                # get the best parameters\n",
    "                best_params = grid_search.best_params_\n",
    "                # get the best score\n",
    "                best_score = grid_search.best_score_\n",
    "                print(f'best parameters: {best_params}')\n",
    "                print(f'best score: {best_score}')\n",
    "                # best params\n",
    "                best_params = model.best_params_\n",
    "            except Exception as e:\n",
    "                print(e)\n",
    "                best_params = None\n",
    "                best_score = None\n",
    "        else:\n",
    "            best_params = None\n",
    "            best_score = None\n",
    "        # add the results to the master results dataframe using concat\n",
    "        master_results_dataframe = pd.concat([master_results_dataframe, pd.DataFrame({ 'model': [model_name], 'accuracy_score': [acc_score], 'cross_val_score': [cross_val], 'rmse': [rmse], 'mae': [mae], 'r2': [r2], 'mse': [mse], 'auc': [auc_score], 'precision': [precision], 'recall': [recall], 'f1': [f1], 'train_score': [train_score], 'test_score': [test_score], 'best_params': [best_params], 'best_score': [best_score], 'residuals': [y_test - y_pred] })], ignore_index=True)\n",
    "        # save the model and the master results dataframe as a pickle file\n",
    "\n",
    "        pickle.dump(model, open(f'../models/{model_name}.pkl', 'wb'))\n",
    "        # plot the ROC curve\n",
    "        plt.plot(fpr, tpr)\n",
    "        plt.plot([0, 1], [0, 1], 'k--')\n",
    "        plt.xlabel('False Positive Rate')\n",
    "        plt.ylabel('True Positive Rate')\n",
    "        plt.title(f'{model} ROC Curve')\n",
    "        # save the plot as a png file\n",
    "        plt.savefig(f'../images/{model}_roc_curve.png')\n",
    "        plt.show(); # the ROC curve is a plot of the true positive rate against the false positive rate\n",
    "    return master_results_dataframe\n"
   ]
  },
  {
   "cell_type": "code",
   "execution_count": 224,
   "metadata": {},
   "outputs": [],
   "source": [
    "# import LogisticRegression\n",
    "from sklearn.linear_model import LogisticRegression"
   ]
  },
  {
   "cell_type": "markdown",
   "metadata": {},
   "source": [
    "#### Logistic Regression Model"
   ]
  },
  {
   "cell_type": "code",
   "execution_count": 225,
   "metadata": {},
   "outputs": [
    {
     "name": "stdout",
     "output_type": "stream",
     "text": [
      "accuracy_score: 0.9282349681352176\n",
      "cross_val_score: 0.9292592477905952\n",
      "rmse: 0.26788996223222417\n",
      "mae: 0.07176503186478249\n",
      "r2: 0.7125494880063277\n",
      "mse: 0.07176503186478249\n",
      "auc: 0.9287815540817727\n",
      "thresholds: [2 1 0]\n",
      "AUC score: 0.9760867679972742\n"
     ]
    },
    {
     "data": {
      "text/html": [
       "<div>\n",
       "<style scoped>\n",
       "    .dataframe tbody tr th:only-of-type {\n",
       "        vertical-align: middle;\n",
       "    }\n",
       "\n",
       "    .dataframe tbody tr th {\n",
       "        vertical-align: top;\n",
       "    }\n",
       "\n",
       "    .dataframe thead th {\n",
       "        text-align: right;\n",
       "    }\n",
       "</style>\n",
       "<table border=\"1\" class=\"dataframe\">\n",
       "  <thead>\n",
       "    <tr style=\"text-align: right;\">\n",
       "      <th></th>\n",
       "      <th>model</th>\n",
       "      <th>accuracy</th>\n",
       "      <th>precision</th>\n",
       "      <th>recall</th>\n",
       "      <th>f1</th>\n",
       "      <th>auc</th>\n",
       "      <th>cross_val_score</th>\n",
       "      <th>rmse</th>\n",
       "      <th>mae</th>\n",
       "      <th>r2</th>\n",
       "      <th>mse</th>\n",
       "      <th>time</th>\n",
       "      <th>train_score</th>\n",
       "      <th>test_score</th>\n",
       "      <th>best_params</th>\n",
       "      <th>residuals</th>\n",
       "    </tr>\n",
       "  </thead>\n",
       "  <tbody>\n",
       "    <tr>\n",
       "      <th>0</th>\n",
       "      <td>logreg</td>\n",
       "      <td>0.928235</td>\n",
       "      <td>0.945796</td>\n",
       "      <td>0.91395</td>\n",
       "      <td>0.9296</td>\n",
       "      <td>0.928782</td>\n",
       "      <td>0.929259</td>\n",
       "      <td>0.26789</td>\n",
       "      <td>0.071765</td>\n",
       "      <td>0.712549</td>\n",
       "      <td>0.071765</td>\n",
       "      <td>NaN</td>\n",
       "      <td>NaN</td>\n",
       "      <td>NaN</td>\n",
       "      <td>NaN</td>\n",
       "      <td>NaN</td>\n",
       "    </tr>\n",
       "  </tbody>\n",
       "</table>\n",
       "</div>"
      ],
      "text/plain": [
       "    model  accuracy  precision   recall      f1       auc  cross_val_score  \\\n",
       "0  logreg  0.928235   0.945796  0.91395  0.9296  0.928782         0.929259   \n",
       "\n",
       "      rmse       mae        r2       mse time train_score test_score  \\\n",
       "0  0.26789  0.071765  0.712549  0.071765  NaN         NaN        NaN   \n",
       "\n",
       "  best_params residuals  \n",
       "0         NaN       NaN  "
      ]
     },
     "execution_count": 225,
     "metadata": {},
     "output_type": "execute_result"
    }
   ],
   "source": [
    "\n",
    "# create a logistic regression model\n",
    "logreg = LogisticRegression()\n",
    "\n",
    "# fit the model on the training data\n",
    "logreg.fit(X_train, y_train)\n",
    "\n",
    "# predict on the testing data\n",
    "y_pred = logreg.predict(X_test)\n",
    "\n",
    "# evaluate the model\n",
    "acc_score = accuracy_score(y_test, y_pred)\n",
    "cross_val = cross_val_score(logreg, X_train, y_train, cv=5).mean()\n",
    "rmse = np.sqrt(mean_squared_error(y_test, y_pred))\n",
    "mae = mean_absolute_error(y_test, y_pred)\n",
    "r2 = r2_score(y_test, y_pred)\n",
    "mse = mean_squared_error(y_test, y_pred)\n",
    "fpr, tpr, thresholds = roc_curve(y_test, y_pred)\n",
    "auc_score = auc(fpr, tpr)\n",
    "precision = precision_score(y_test, y_pred)\n",
    "recall = recall_score(y_test, y_pred)\n",
    "f1 = f1_score(y_test, y_pred)\n",
    "\n",
    "\n",
    "print(f'accuracy_score: {acc_score}')\n",
    "print(f'cross_val_score: {cross_val}')\n",
    "print(f'rmse: {rmse}')\n",
    "print(f'mae: {mae}')\n",
    "print(f'r2: {r2}')\n",
    "print(f'mse: {mse}')\n",
    "print(f'auc: {auc_score}')\n",
    "# print(f'false positive rate: {fpr}')\n",
    "# print(f'true positive rate: {tpr}')\n",
    "print(f'thresholds: {thresholds}')\n",
    "\n",
    "# AUC and ROC\n",
    "# calculate the probabilities\n",
    "y_pred_prob = logreg.predict_proba(X_test)[:,1]\n",
    "# calculate the false positive rate and true positive rate\n",
    "fpr, tpr, thresholds = roc_curve(y_test, y_pred_prob)\n",
    "# calculate the area under the curve\n",
    "print(f'AUC score: {auc(fpr, tpr)}')\n",
    "\n",
    "# add the results to the master results dataframe using concat\n",
    "master_results_dataframe = pd.concat([master_results_dataframe, pd.DataFrame({'model': 'logreg', 'accuracy': acc_score, 'precision': precision, 'recall': recall, 'f1': f1, 'auc': auc_score, 'cross_val_score': cross_val, 'rmse': rmse, 'mae': mae, 'r2': r2, 'mse': mse}, index=[0])], ignore_index=True)\n",
    "# check the master results dataframe\n",
    "master_results_dataframe.head(5)"
   ]
  },
  {
   "cell_type": "code",
   "execution_count": 226,
   "metadata": {},
   "outputs": [],
   "source": [
    "# # logistic regression model with tfidf vectorizer\n",
    "# # create a logistic regression model\n",
    "# logreg_tfidf = LogisticRegression()\n",
    "\n",
    "# # fit the model on the training data\n",
    "# logreg_tfidf.fit(X_train_tfidf, y_train)\n",
    "\n",
    "# # predict on the testing data\n",
    "# y_pred_tfidf = logreg_tfidf.predict(X_test_tfidf)\n",
    "\n",
    "# # evaluate the model\n",
    "# acc_score_tfidf = accuracy_score(y_test, y_pred_tfidf)\n",
    "# cross_val_tfidf = cross_val_score(logreg_tfidf, X_train_tfidf, y_train_tfidf, cv=5).mean()\n",
    "# rmse_tfidf = np.sqrt(mean_squared_error(y_test, y_pred_tfidf))\n",
    "# mae_tfidf = mean_absolute_error(y_test, y_pred_tfidf)\n",
    "# r2_tfidf = r2_score(y_test, y_pred_tfidf)\n",
    "# mse_tfidf = mean_squared_error(y_test, y_pred_tfidf)\n",
    "# fpr_tfidf, tpr_tfidf, thresholds_tfidf = roc_curve(y_test, y_pred_tfidf)\n",
    "# auc_score_tfidf = auc(fpr_tfidf, tpr_tfidf)\n",
    "# precision_tfidf = precision_score(y_test, y_pred_tfidf)\n",
    "# recall_tfidf = recall_score(y_test, y_pred_tfidf)\n",
    "# f1_tfidf = f1_score(y_test, y_pred_tfidf)\n",
    "\n",
    "# # AUC and ROC\n",
    "# # calculate the probabilities\n",
    "# y_pred_prob_tfidf = logreg.predict_proba(X_test_tfidf)#true positive rate\n",
    "# fpr_tfidf, tpr_tfidf, thresholds_tfidf = roc_curve(y_test, y_pred_prob_tfidf)# calculate the area under the curve\n",
    "# # calculate the area under the curve\n",
    "# print(f'AUC score: {auc(fpr_tfidf, tpr_tfidf)}')\n",
    "\n",
    "# # add the results to the master results dataframe using concat\n",
    "# master_results_dataframe = pd.concat([master_results_dataframe, pd.DataFrame({'model': 'logreg_tfidf', 'accuracy': acc_score_tfidf, 'precision': precision_tfidf, 'recall': recall_tfidf, 'f1': f1_tfidf, 'auc': auc_score_tfidf, 'cross_val_score': cross_val_tfidf, 'rmse': rmse_tfidf, 'mae': mae_tfidf, 'r2': r2_tfidf, 'mse': mse_tfidf}, index=[0])], ignore_index=True)\n",
    "\n",
    "# # check the master results dataframe\n",
    "# master_results_dataframe.head(50)\n"
   ]
  },
  {
   "cell_type": "markdown",
   "metadata": {},
   "source": [
    "#### Adaboost Model\n"
   ]
  },
  {
   "cell_type": "code",
   "execution_count": 227,
   "metadata": {},
   "outputs": [
    {
     "name": "stdout",
     "output_type": "stream",
     "text": [
      "accuracy_score: 0.8877805486284289\n",
      "cross_val_score: 0.8890734650346704\n",
      "rmse: 0.334991718362665\n",
      "mae: 0.11221945137157108\n",
      "r2: 0.5505117476546821\n",
      "mse: 0.11221945137157108\n",
      "auc: 0.888435720792005\n",
      "thresholds: [2 1 0]\n",
      "AUC score: 0.9596363304239685\n"
     ]
    },
    {
     "data": {
      "image/png": "[encoded data removed]",
      "text/plain": [
       "<Figure size 640x480 with 1 Axes>"
      ]
     },
     "metadata": {},
     "output_type": "display_data"
    },
    {
     "data": {
      "text/html": [
       "<div>\n",
       "<style scoped>\n",
       "    .dataframe tbody tr th:only-of-type {\n",
       "        vertical-align: middle;\n",
       "    }\n",
       "\n",
       "    .dataframe tbody tr th {\n",
       "        vertical-align: top;\n",
       "    }\n",
       "\n",
       "    .dataframe thead th {\n",
       "        text-align: right;\n",
       "    }\n",
       "</style>\n",
       "<table border=\"1\" class=\"dataframe\">\n",
       "  <thead>\n",
       "    <tr style=\"text-align: right;\">\n",
       "      <th></th>\n",
       "      <th>model</th>\n",
       "      <th>accuracy</th>\n",
       "      <th>precision</th>\n",
       "      <th>recall</th>\n",
       "      <th>f1</th>\n",
       "      <th>auc</th>\n",
       "      <th>cross_val_score</th>\n",
       "      <th>rmse</th>\n",
       "      <th>mae</th>\n",
       "      <th>r2</th>\n",
       "      <th>mse</th>\n",
       "      <th>time</th>\n",
       "      <th>train_score</th>\n",
       "      <th>test_score</th>\n",
       "      <th>best_params</th>\n",
       "      <th>residuals</th>\n",
       "      <th>accuracy_score</th>\n",
       "      <th>best_score</th>\n",
       "    </tr>\n",
       "  </thead>\n",
       "  <tbody>\n",
       "    <tr>\n",
       "      <th>0</th>\n",
       "      <td>logreg</td>\n",
       "      <td>0.928235</td>\n",
       "      <td>0.945796</td>\n",
       "      <td>0.913950</td>\n",
       "      <td>0.929600</td>\n",
       "      <td>0.928782</td>\n",
       "      <td>0.929259</td>\n",
       "      <td>0.267890</td>\n",
       "      <td>0.071765</td>\n",
       "      <td>0.712549</td>\n",
       "      <td>0.071765</td>\n",
       "      <td>NaN</td>\n",
       "      <td>NaN</td>\n",
       "      <td>NaN</td>\n",
       "      <td>NaN</td>\n",
       "      <td>NaN</td>\n",
       "      <td>NaN</td>\n",
       "      <td>NaN</td>\n",
       "    </tr>\n",
       "    <tr>\n",
       "      <th>1</th>\n",
       "      <td>adaboostclassifier</td>\n",
       "      <td>NaN</td>\n",
       "      <td>0.909040</td>\n",
       "      <td>0.870657</td>\n",
       "      <td>0.889435</td>\n",
       "      <td>0.888436</td>\n",
       "      <td>0.889073</td>\n",
       "      <td>0.334992</td>\n",
       "      <td>0.112219</td>\n",
       "      <td>0.550512</td>\n",
       "      <td>0.112219</td>\n",
       "      <td>NaN</td>\n",
       "      <td>0.894963</td>\n",
       "      <td>0.887781</td>\n",
       "      <td>None</td>\n",
       "      <td>2099     0\n",
       "8657     0\n",
       "13202    0\n",
       "7809     0\n",
       "55...</td>\n",
       "      <td>0.887781</td>\n",
       "      <td>None</td>\n",
       "    </tr>\n",
       "  </tbody>\n",
       "</table>\n",
       "</div>"
      ],
      "text/plain": [
       "                model  accuracy  precision    recall        f1       auc  \\\n",
       "0              logreg  0.928235   0.945796  0.913950  0.929600  0.928782   \n",
       "1  adaboostclassifier       NaN   0.909040  0.870657  0.889435  0.888436   \n",
       "\n",
       "   cross_val_score      rmse       mae        r2       mse time  train_score  \\\n",
       "0         0.929259  0.267890  0.071765  0.712549  0.071765  NaN          NaN   \n",
       "1         0.889073  0.334992  0.112219  0.550512  0.112219  NaN     0.894963   \n",
       "\n",
       "   test_score best_params                                          residuals  \\\n",
       "0         NaN         NaN                                                NaN   \n",
       "1    0.887781        None  2099     0\n",
       "8657     0\n",
       "13202    0\n",
       "7809     0\n",
       "55...   \n",
       "\n",
       "   accuracy_score best_score  \n",
       "0             NaN        NaN  \n",
       "1        0.887781       None  "
      ]
     },
     "execution_count": 227,
     "metadata": {},
     "output_type": "execute_result"
    }
   ],
   "source": [
    "\n",
    "# import the AdaBoost classifier\n",
    "from sklearn.ensemble import AdaBoostClassifier\n",
    "\n",
    "# create an AdaBoost classifier\n",
    "ada = AdaBoostClassifier()\n",
    "model = ada\n",
    "# fit the model on the training data\n",
    "ada.fit(X_train, y_train)\n",
    "\n",
    "# predict on the testing data\n",
    "y_pred = ada.predict(X_test)\n",
    "\n",
    "# 'y_test', 'y_pred', 'X_train', 'X_test', and 'y_train' are in the environment\n",
    "master_results_dataframe = save_results(model,master_results_dataframe, y_test, y_pred, X_train, X_test, y_train, param_defaults)\n",
    "\n",
    "\n",
    "master_results_dataframe.head(5)"
   ]
  },
  {
   "cell_type": "code",
   "execution_count": 228,
   "metadata": {},
   "outputs": [
    {
     "name": "stdout",
     "output_type": "stream",
     "text": [
      "accuracy_score: 0.8983097811027986\n",
      "cross_val_score: 0.8966944803106909\n",
      "rmse: 0.318889038534098\n",
      "mae: 0.10169021889720144\n",
      "r2: 0.5926859540475762\n",
      "mse: 0.10169021889720144\n",
      "auc: 0.8995927791332672\n",
      "thresholds: [2 1 0]\n",
      "AUC score: 0.9665835639237124\n"
     ]
    },
    {
     "data": {
      "image/png": "[encoded data removed]",
      "text/plain": [
       "<Figure size 640x480 with 1 Axes>"
      ]
     },
     "metadata": {},
     "output_type": "display_data"
    }
   ],
   "source": [
    "\n",
    "# import the Gradient Boosting classifier\n",
    "from sklearn.ensemble import GradientBoostingClassifier\n",
    "\n",
    "# create an AdaBoost classifier\n",
    "gbc = GradientBoostingClassifier()\n",
    "model = gbc\n",
    "# fit the model on the training data\n",
    "gbc.fit(X_train, y_train)\n",
    "\n",
    "# predict on the testing data\n",
    "y_pred = gbc.predict(X_test)\n",
    "\n",
    "\n",
    "master_results_dataframe = save_results(model,master_results_dataframe, y_test, y_pred, X_train, X_test, y_train, param_defaults)\n",
    "\n"
   ]
  },
  {
   "cell_type": "code",
   "execution_count": 229,
   "metadata": {},
   "outputs": [
    {
     "name": "stdout",
     "output_type": "stream",
     "text": [
      "accuracy_score: 0.9664727071210861\n",
      "cross_val_score: 0.9548255244133319\n",
      "rmse: 0.18310459546093819\n",
      "mae: 0.033527292878913824\n",
      "r2: 0.8657084480647321\n",
      "mse: 0.033527292878913824\n",
      "auc: 0.9670712940963739\n",
      "thresholds: [2 1 0]\n",
      "AUC score: 0.9960152813920177\n"
     ]
    },
    {
     "data": {
      "image/png": "[encoded data removed]",
      "text/plain": [
       "<Figure size 640x480 with 1 Axes>"
      ]
     },
     "metadata": {},
     "output_type": "display_data"
    }
   ],
   "source": [
    "# Random Forest Classifier\n",
    "from sklearn.ensemble import RandomForestClassifier\n",
    "\n",
    "# create a random forest classifier\n",
    "rfc = RandomForestClassifier()\n",
    "model = rfc\n",
    "# fit the model on the training data\n",
    "rfc.fit(X_train, y_train)\n",
    "\n",
    "# predict on the testing data\n",
    "y_pred = rfc.predict(X_test)\n",
    "\n",
    "master_results_dataframe = save_results(model,master_results_dataframe, y_test, y_pred, X_train, X_test, y_train, param_defaults)"
   ]
  },
  {
   "cell_type": "code",
   "execution_count": 230,
   "metadata": {},
   "outputs": [
    {
     "name": "stdout",
     "output_type": "stream",
     "text": [
      "accuracy_score: 0.8805763369354391\n",
      "cross_val_score: 0.8840159282140577\n",
      "rmse: 0.34557728956712536\n",
      "mae: 0.11942366306456081\n",
      "r2: 0.5216557117016494\n",
      "mse: 0.11942366306456081\n",
      "auc: 0.882530526188896\n",
      "thresholds: [2 1 0]\n",
      "AUC score: 0.9423149900455071\n"
     ]
    },
    {
     "data": {
      "image/png": "[encoded data removed]",
      "text/plain": [
       "<Figure size 640x480 with 1 Axes>"
      ]
     },
     "metadata": {},
     "output_type": "display_data"
    }
   ],
   "source": [
    "# Naive Bayes Classifier\n",
    "from sklearn.naive_bayes import GaussianNB\n",
    "\n",
    "# create a Gaussian Naive Bayes classifier\n",
    "gnb = GaussianNB()\n",
    "\n",
    "model = gnb\n",
    "\n",
    "# fit the model on the training data\n",
    "gnb.fit(X_train, y_train)\n",
    "\n",
    "# predict on the testing data\n",
    "y_pred = gnb.predict(X_test)\n",
    "\n",
    "master_results_dataframe = save_results(model,master_results_dataframe, y_test, y_pred, X_train, X_test, y_train, param_defaults,gridsearch=False)"
   ]
  },
  {
   "cell_type": "code",
   "execution_count": 231,
   "metadata": {},
   "outputs": [
    {
     "name": "stdout",
     "output_type": "stream",
     "text": [
      "Fitting the model on the training data...\n",
      "Predicting on the testing data...\n",
      "Preparing The Results\n",
      "accuracy_score: 0.6386810750900527\n",
      "cross_val_score: 0.6636863556156941\n",
      "rmse: 0.6010980992400053\n",
      "mae: 0.3613189249099474\n",
      "r2: -0.44724118779825806\n",
      "mse: 0.3613189249099474\n",
      "auc: 0.6436703632882486\n",
      "thresholds: [2 1 0]\n",
      "AUC score: 0.7134898908234767\n"
     ]
    },
    {
     "data": {
      "image/png": "[encoded data removed]",
      "text/plain": [
       "<Figure size 640x480 with 1 Axes>"
      ]
     },
     "metadata": {},
     "output_type": "display_data"
    }
   ],
   "source": [
    "# K Nearest Neighbors Classifier\n",
    "from sklearn.neighbors import KNeighborsClassifier\n",
    "\n",
    "# create a K Nearest Neighbors classifier\n",
    "knn = KNeighborsClassifier()\n",
    "\n",
    "model = knn\n",
    "\n",
    "print(f'Fitting the model on the training data...')\n",
    "# fit the model on the training data\n",
    "knn.fit(X_train, y_train)\n",
    "\n",
    "print(f'Predicting on the testing data...')\n",
    "# predict on the testing data\n",
    "y_pred = knn.predict(X_test)\n",
    "\n",
    "print(f'Preparing The Results')\n",
    "master_results_dataframe = save_results(model,master_results_dataframe, y_test, y_pred, X_train, X_test, y_train, param_defaults, gridsearch = False)"
   ]
  },
  {
   "cell_type": "code",
   "execution_count": 232,
   "metadata": {},
   "outputs": [
    {
     "name": "stdout",
     "output_type": "stream",
     "text": [
      "Preparing The Results\n",
      "accuracy_score: 0.9210307564422278\n",
      "cross_val_score: 0.9074342147428396\n",
      "rmse: 0.281014667869441\n",
      "mae: 0.07896924355777224\n",
      "r2: 0.6836934520532949\n",
      "mse: 0.07896924355777224\n",
      "auc: 0.9228559092538958\n",
      "thresholds: [2 1 0]\n",
      "AUC score: 0.9228559092538958\n"
     ]
    },
    {
     "data": {
      "image/png": "[encoded data removed]",
      "text/plain": [
       "<Figure size 640x480 with 1 Axes>"
      ]
     },
     "metadata": {},
     "output_type": "display_data"
    }
   ],
   "source": [
    "# Decision Tree Classifier\n",
    "from sklearn.tree import DecisionTreeClassifier\n",
    "\n",
    "# create a Decision Tree classifier\n",
    "dtc = DecisionTreeClassifier()\n",
    "\n",
    "model = dtc\n",
    "\n",
    "# fit the model on the training data\n",
    "\n",
    "dtc.fit(X_train, y_train)\n",
    "\n",
    "# predict on the testing data\n",
    "\n",
    "y_pred = dtc.predict(X_test)\n",
    "\n",
    "print(f'Preparing The Results')\n",
    "master_results_dataframe = save_results(model,master_results_dataframe, y_test, y_pred, X_train, X_test, y_train, param_defaults)"
   ]
  },
  {
   "cell_type": "code",
   "execution_count": 233,
   "metadata": {},
   "outputs": [],
   "source": [
    "# drop the duplicated logreg model row\n",
    "master_results_dataframe = master_results_dataframe.drop_duplicates(subset=['model'], keep='first')"
   ]
  },
  {
   "cell_type": "code",
   "execution_count": 234,
   "metadata": {},
   "outputs": [
    {
     "data": {
      "text/html": [
       "<div>\n",
       "<style scoped>\n",
       "    .dataframe tbody tr th:only-of-type {\n",
       "        vertical-align: middle;\n",
       "    }\n",
       "\n",
       "    .dataframe tbody tr th {\n",
       "        vertical-align: top;\n",
       "    }\n",
       "\n",
       "    .dataframe thead th {\n",
       "        text-align: right;\n",
       "    }\n",
       "</style>\n",
       "<table border=\"1\" class=\"dataframe\">\n",
       "  <thead>\n",
       "    <tr style=\"text-align: right;\">\n",
       "      <th></th>\n",
       "      <th>model</th>\n",
       "      <th>accuracy</th>\n",
       "      <th>precision</th>\n",
       "      <th>recall</th>\n",
       "      <th>f1</th>\n",
       "      <th>auc</th>\n",
       "      <th>cross_val_score</th>\n",
       "      <th>rmse</th>\n",
       "      <th>mae</th>\n",
       "      <th>r2</th>\n",
       "      <th>mse</th>\n",
       "      <th>time</th>\n",
       "      <th>train_score</th>\n",
       "      <th>test_score</th>\n",
       "      <th>best_params</th>\n",
       "      <th>residuals</th>\n",
       "      <th>accuracy_score</th>\n",
       "      <th>best_score</th>\n",
       "    </tr>\n",
       "  </thead>\n",
       "  <tbody>\n",
       "    <tr>\n",
       "      <th>0</th>\n",
       "      <td>logreg</td>\n",
       "      <td>0.928235</td>\n",
       "      <td>0.945796</td>\n",
       "      <td>0.913950</td>\n",
       "      <td>0.929600</td>\n",
       "      <td>0.928782</td>\n",
       "      <td>0.929259</td>\n",
       "      <td>0.267890</td>\n",
       "      <td>0.071765</td>\n",
       "      <td>0.712549</td>\n",
       "      <td>0.071765</td>\n",
       "      <td>NaN</td>\n",
       "      <td>NaN</td>\n",
       "      <td>NaN</td>\n",
       "      <td>NaN</td>\n",
       "      <td>NaN</td>\n",
       "      <td>NaN</td>\n",
       "      <td>NaN</td>\n",
       "    </tr>\n",
       "    <tr>\n",
       "      <th>1</th>\n",
       "      <td>adaboostclassifier</td>\n",
       "      <td>NaN</td>\n",
       "      <td>0.909040</td>\n",
       "      <td>0.870657</td>\n",
       "      <td>0.889435</td>\n",
       "      <td>0.888436</td>\n",
       "      <td>0.889073</td>\n",
       "      <td>0.334992</td>\n",
       "      <td>0.112219</td>\n",
       "      <td>0.550512</td>\n",
       "      <td>0.112219</td>\n",
       "      <td>NaN</td>\n",
       "      <td>0.894963</td>\n",
       "      <td>0.887781</td>\n",
       "      <td>None</td>\n",
       "      <td>2099     0\n",
       "8657     0\n",
       "13202    0\n",
       "7809     0\n",
       "55...</td>\n",
       "      <td>0.887781</td>\n",
       "      <td>NaN</td>\n",
       "    </tr>\n",
       "    <tr>\n",
       "      <th>2</th>\n",
       "      <td>gradientboostingclassifier</td>\n",
       "      <td>NaN</td>\n",
       "      <td>0.934180</td>\n",
       "      <td>0.864778</td>\n",
       "      <td>0.898140</td>\n",
       "      <td>0.899593</td>\n",
       "      <td>0.896694</td>\n",
       "      <td>0.318889</td>\n",
       "      <td>0.101690</td>\n",
       "      <td>0.592686</td>\n",
       "      <td>0.101690</td>\n",
       "      <td>NaN</td>\n",
       "      <td>0.907989</td>\n",
       "      <td>0.898310</td>\n",
       "      <td>None</td>\n",
       "      <td>2099     0\n",
       "8657     0\n",
       "13202    0\n",
       "7809     0\n",
       "55...</td>\n",
       "      <td>0.898310</td>\n",
       "      <td>NaN</td>\n",
       "    </tr>\n",
       "    <tr>\n",
       "      <th>3</th>\n",
       "      <td>randomforestclassifier</td>\n",
       "      <td>NaN</td>\n",
       "      <td>0.983960</td>\n",
       "      <td>0.950828</td>\n",
       "      <td>0.967111</td>\n",
       "      <td>0.967071</td>\n",
       "      <td>0.954826</td>\n",
       "      <td>0.183105</td>\n",
       "      <td>0.033527</td>\n",
       "      <td>0.865708</td>\n",
       "      <td>0.033527</td>\n",
       "      <td>NaN</td>\n",
       "      <td>1.000000</td>\n",
       "      <td>0.966473</td>\n",
       "      <td>None</td>\n",
       "      <td>2099     0\n",
       "8657     0\n",
       "13202    0\n",
       "7809     0\n",
       "55...</td>\n",
       "      <td>0.966473</td>\n",
       "      <td>NaN</td>\n",
       "    </tr>\n",
       "    <tr>\n",
       "      <th>4</th>\n",
       "      <td>gaussiannb</td>\n",
       "      <td>NaN</td>\n",
       "      <td>0.932692</td>\n",
       "      <td>0.829503</td>\n",
       "      <td>0.878076</td>\n",
       "      <td>0.882531</td>\n",
       "      <td>0.884016</td>\n",
       "      <td>0.345577</td>\n",
       "      <td>0.119424</td>\n",
       "      <td>0.521656</td>\n",
       "      <td>0.119424</td>\n",
       "      <td>NaN</td>\n",
       "      <td>0.888173</td>\n",
       "      <td>0.880576</td>\n",
       "      <td>None</td>\n",
       "      <td>2099     0\n",
       "8657     0\n",
       "13202    0\n",
       "7809     0\n",
       "55...</td>\n",
       "      <td>0.880576</td>\n",
       "      <td>NaN</td>\n",
       "    </tr>\n",
       "    <tr>\n",
       "      <th>5</th>\n",
       "      <td>kneighborsclassifier</td>\n",
       "      <td>NaN</td>\n",
       "      <td>0.712360</td>\n",
       "      <td>0.508284</td>\n",
       "      <td>0.593263</td>\n",
       "      <td>0.643670</td>\n",
       "      <td>0.663686</td>\n",
       "      <td>0.601098</td>\n",
       "      <td>0.361319</td>\n",
       "      <td>-0.447241</td>\n",
       "      <td>0.361319</td>\n",
       "      <td>NaN</td>\n",
       "      <td>0.766646</td>\n",
       "      <td>0.638681</td>\n",
       "      <td>None</td>\n",
       "      <td>2099     0\n",
       "8657     0\n",
       "13202    0\n",
       "7809     0\n",
       "55...</td>\n",
       "      <td>0.638681</td>\n",
       "      <td>NaN</td>\n",
       "    </tr>\n",
       "    <tr>\n",
       "      <th>6</th>\n",
       "      <td>decisiontreeclassifier</td>\n",
       "      <td>NaN</td>\n",
       "      <td>0.971463</td>\n",
       "      <td>0.873330</td>\n",
       "      <td>0.919786</td>\n",
       "      <td>0.922856</td>\n",
       "      <td>0.907434</td>\n",
       "      <td>0.281015</td>\n",
       "      <td>0.078969</td>\n",
       "      <td>0.683693</td>\n",
       "      <td>0.078969</td>\n",
       "      <td>NaN</td>\n",
       "      <td>1.000000</td>\n",
       "      <td>0.921031</td>\n",
       "      <td>None</td>\n",
       "      <td>2099     0\n",
       "8657     0\n",
       "13202    0\n",
       "7809     0\n",
       "55...</td>\n",
       "      <td>0.921031</td>\n",
       "      <td>None</td>\n",
       "    </tr>\n",
       "  </tbody>\n",
       "</table>\n",
       "</div>"
      ],
      "text/plain": [
       "                        model  accuracy  precision    recall        f1  \\\n",
       "0                      logreg  0.928235   0.945796  0.913950  0.929600   \n",
       "1          adaboostclassifier       NaN   0.909040  0.870657  0.889435   \n",
       "2  gradientboostingclassifier       NaN   0.934180  0.864778  0.898140   \n",
       "3      randomforestclassifier       NaN   0.983960  0.950828  0.967111   \n",
       "4                  gaussiannb       NaN   0.932692  0.829503  0.878076   \n",
       "5        kneighborsclassifier       NaN   0.712360  0.508284  0.593263   \n",
       "6      decisiontreeclassifier       NaN   0.971463  0.873330  0.919786   \n",
       "\n",
       "        auc  cross_val_score      rmse       mae        r2       mse time  \\\n",
       "0  0.928782         0.929259  0.267890  0.071765  0.712549  0.071765  NaN   \n",
       "1  0.888436         0.889073  0.334992  0.112219  0.550512  0.112219  NaN   \n",
       "2  0.899593         0.896694  0.318889  0.101690  0.592686  0.101690  NaN   \n",
       "3  0.967071         0.954826  0.183105  0.033527  0.865708  0.033527  NaN   \n",
       "4  0.882531         0.884016  0.345577  0.119424  0.521656  0.119424  NaN   \n",
       "5  0.643670         0.663686  0.601098  0.361319 -0.447241  0.361319  NaN   \n",
       "6  0.922856         0.907434  0.281015  0.078969  0.683693  0.078969  NaN   \n",
       "\n",
       "   train_score  test_score best_params  \\\n",
       "0          NaN         NaN         NaN   \n",
       "1     0.894963    0.887781        None   \n",
       "2     0.907989    0.898310        None   \n",
       "3     1.000000    0.966473        None   \n",
       "4     0.888173    0.880576        None   \n",
       "5     0.766646    0.638681        None   \n",
       "6     1.000000    0.921031        None   \n",
       "\n",
       "                                           residuals  accuracy_score  \\\n",
       "0                                                NaN             NaN   \n",
       "1  2099     0\n",
       "8657     0\n",
       "13202    0\n",
       "7809     0\n",
       "55...        0.887781   \n",
       "2  2099     0\n",
       "8657     0\n",
       "13202    0\n",
       "7809     0\n",
       "55...        0.898310   \n",
       "3  2099     0\n",
       "8657     0\n",
       "13202    0\n",
       "7809     0\n",
       "55...        0.966473   \n",
       "4  2099     0\n",
       "8657     0\n",
       "13202    0\n",
       "7809     0\n",
       "55...        0.880576   \n",
       "5  2099     0\n",
       "8657     0\n",
       "13202    0\n",
       "7809     0\n",
       "55...        0.638681   \n",
       "6  2099     0\n",
       "8657     0\n",
       "13202    0\n",
       "7809     0\n",
       "55...        0.921031   \n",
       "\n",
       "  best_score  \n",
       "0        NaN  \n",
       "1        NaN  \n",
       "2        NaN  \n",
       "3        NaN  \n",
       "4        NaN  \n",
       "5        NaN  \n",
       "6       None  "
      ]
     },
     "execution_count": 234,
     "metadata": {},
     "output_type": "execute_result"
    }
   ],
   "source": [
    "master_results_dataframe.head(30)"
   ]
  },
  {
   "cell_type": "code",
   "execution_count": 235,
   "metadata": {},
   "outputs": [],
   "source": [
    "master_results_dataframe.sort_values(by='accuracy', ascending=False)\n",
    "# save to csv\n",
    "master_results_dataframe.to_csv('../data/master_results_dataframe.csv', index=False)"
   ]
  },
  {
   "cell_type": "code",
   "execution_count": 236,
   "metadata": {},
   "outputs": [
    {
     "name": "stdout",
     "output_type": "stream",
     "text": [
      "The csv files generated here have the following sizes: \n",
      " X_df: 36.092971 MB \n",
      " y: 0.036091 MB\n"
     ]
    }
   ],
   "source": [
    "print(f'The csv files generated here have the following sizes: \\n X_df: {os.path.getsize(\"../data/X_df.csv\")/1000000} MB \\n y: {os.path.getsize(\"../data/y.csv\")/1000000} MB')"
   ]
  },
  {
   "cell_type": "markdown",
   "metadata": {},
   "source": [
    "TFIDF Vectorizer"
   ]
  },
  {
   "cell_type": "code",
   "execution_count": 237,
   "metadata": {},
   "outputs": [],
   "source": [
    "# plot the results of the models as follows:\n",
    "# a scatterplot with the x-axis being precision and the y-axis being recall\n",
    "# the color represents the r2 score\n",
    "# the size of the marker represents the cross_val_score\n",
    "# the shape of the marker represents the model"
   ]
  },
  {
   "cell_type": "code",
   "execution_count": 238,
   "metadata": {},
   "outputs": [
    {
     "data": {
      "image/png": "[encoded data removed]",
      "text/plain": [
       "<Figure size 2000x1000 with 1 Axes>"
      ]
     },
     "metadata": {},
     "output_type": "display_data"
    }
   ],
   "source": [
    "\n",
    "master_results_dataframe.plot.bar(x='model', y=['accuracy', 'precision', 'recall', 'f1', 'auc', 'cross_val_score', 'rmse', 'mae', 'r2', 'mse'], figsize=(20,10), title='Model Scores')\n",
    "\n",
    "plt.title('Model Scores')\n",
    "plt.xlabel('Model')\n",
    "plt.ylabel('Score')\n",
    "plt.xticks(rotation=45)\n",
    "plt.legend(loc='lower right')\n",
    "plt.savefig('../images/model_scores.png')\n",
    "plt.show();\n"
   ]
  },
  {
   "cell_type": "code",
   "execution_count": 239,
   "metadata": {},
   "outputs": [
    {
     "data": {
      "image/png": "[encoded data removed]",
      "text/plain": [
       "<Figure size 2000x1000 with 1 Axes>"
      ]
     },
     "metadata": {},
     "output_type": "display_data"
    }
   ],
   "source": [
    "\n",
    "master_results_dataframe.plot.bar(x='model', y=['accuracy','cross_val_score', 'rmse', 'mae', 'r2', 'mse'], figsize=(20,10), title='Model Scores')\n",
    "\n",
    "plt.title('Model Scores')\n",
    "plt.xlabel('Model')\n",
    "plt.ylabel('Score')\n",
    "plt.xticks(rotation=45)\n",
    "plt.legend(loc='lower right')\n",
    "plt.savefig('../images/model_scores.png')\n",
    "plt.show();\n"
   ]
  },
  {
   "cell_type": "markdown",
   "metadata": {},
   "source": [
    "Random Forest Model had the best r2 score. "
   ]
  },
  {
   "cell_type": "code",
   "execution_count": 240,
   "metadata": {},
   "outputs": [],
   "source": [
    "import numpy as np\n",
    "import seaborn as sns\n"
   ]
  },
  {
   "cell_type": "code",
   "execution_count": 241,
   "metadata": {},
   "outputs": [
    {
     "data": {
      "text/html": [
       "<div>\n",
       "<style scoped>\n",
       "    .dataframe tbody tr th:only-of-type {\n",
       "        vertical-align: middle;\n",
       "    }\n",
       "\n",
       "    .dataframe tbody tr th {\n",
       "        vertical-align: top;\n",
       "    }\n",
       "\n",
       "    .dataframe thead th {\n",
       "        text-align: right;\n",
       "    }\n",
       "</style>\n",
       "<table border=\"1\" class=\"dataframe\">\n",
       "  <thead>\n",
       "    <tr style=\"text-align: right;\">\n",
       "      <th></th>\n",
       "      <th>model</th>\n",
       "      <th>accuracy</th>\n",
       "      <th>precision</th>\n",
       "      <th>recall</th>\n",
       "      <th>f1</th>\n",
       "      <th>auc</th>\n",
       "      <th>cross_val_score</th>\n",
       "      <th>rmse</th>\n",
       "      <th>mae</th>\n",
       "      <th>r2</th>\n",
       "      <th>mse</th>\n",
       "      <th>time</th>\n",
       "      <th>train_score</th>\n",
       "      <th>test_score</th>\n",
       "      <th>best_params</th>\n",
       "      <th>residuals</th>\n",
       "      <th>accuracy_score</th>\n",
       "      <th>best_score</th>\n",
       "    </tr>\n",
       "  </thead>\n",
       "  <tbody>\n",
       "    <tr>\n",
       "      <th>0</th>\n",
       "      <td>logreg</td>\n",
       "      <td>0.928235</td>\n",
       "      <td>0.945796</td>\n",
       "      <td>0.913950</td>\n",
       "      <td>0.929600</td>\n",
       "      <td>0.928782</td>\n",
       "      <td>0.929259</td>\n",
       "      <td>0.267890</td>\n",
       "      <td>0.071765</td>\n",
       "      <td>0.712549</td>\n",
       "      <td>0.071765</td>\n",
       "      <td>NaN</td>\n",
       "      <td>NaN</td>\n",
       "      <td>NaN</td>\n",
       "      <td>NaN</td>\n",
       "      <td>NaN</td>\n",
       "      <td>NaN</td>\n",
       "      <td>NaN</td>\n",
       "    </tr>\n",
       "    <tr>\n",
       "      <th>1</th>\n",
       "      <td>adaboostclassifier</td>\n",
       "      <td>NaN</td>\n",
       "      <td>0.909040</td>\n",
       "      <td>0.870657</td>\n",
       "      <td>0.889435</td>\n",
       "      <td>0.888436</td>\n",
       "      <td>0.889073</td>\n",
       "      <td>0.334992</td>\n",
       "      <td>0.112219</td>\n",
       "      <td>0.550512</td>\n",
       "      <td>0.112219</td>\n",
       "      <td>NaN</td>\n",
       "      <td>0.894963</td>\n",
       "      <td>0.887781</td>\n",
       "      <td>None</td>\n",
       "      <td>2099     0\n",
       "8657     0\n",
       "13202    0\n",
       "7809     0\n",
       "55...</td>\n",
       "      <td>0.887781</td>\n",
       "      <td>NaN</td>\n",
       "    </tr>\n",
       "    <tr>\n",
       "      <th>2</th>\n",
       "      <td>gradientboostingclassifier</td>\n",
       "      <td>NaN</td>\n",
       "      <td>0.934180</td>\n",
       "      <td>0.864778</td>\n",
       "      <td>0.898140</td>\n",
       "      <td>0.899593</td>\n",
       "      <td>0.896694</td>\n",
       "      <td>0.318889</td>\n",
       "      <td>0.101690</td>\n",
       "      <td>0.592686</td>\n",
       "      <td>0.101690</td>\n",
       "      <td>NaN</td>\n",
       "      <td>0.907989</td>\n",
       "      <td>0.898310</td>\n",
       "      <td>None</td>\n",
       "      <td>2099     0\n",
       "8657     0\n",
       "13202    0\n",
       "7809     0\n",
       "55...</td>\n",
       "      <td>0.898310</td>\n",
       "      <td>NaN</td>\n",
       "    </tr>\n",
       "    <tr>\n",
       "      <th>3</th>\n",
       "      <td>randomforestclassifier</td>\n",
       "      <td>NaN</td>\n",
       "      <td>0.983960</td>\n",
       "      <td>0.950828</td>\n",
       "      <td>0.967111</td>\n",
       "      <td>0.967071</td>\n",
       "      <td>0.954826</td>\n",
       "      <td>0.183105</td>\n",
       "      <td>0.033527</td>\n",
       "      <td>0.865708</td>\n",
       "      <td>0.033527</td>\n",
       "      <td>NaN</td>\n",
       "      <td>1.000000</td>\n",
       "      <td>0.966473</td>\n",
       "      <td>None</td>\n",
       "      <td>2099     0\n",
       "8657     0\n",
       "13202    0\n",
       "7809     0\n",
       "55...</td>\n",
       "      <td>0.966473</td>\n",
       "      <td>NaN</td>\n",
       "    </tr>\n",
       "    <tr>\n",
       "      <th>4</th>\n",
       "      <td>gaussiannb</td>\n",
       "      <td>NaN</td>\n",
       "      <td>0.932692</td>\n",
       "      <td>0.829503</td>\n",
       "      <td>0.878076</td>\n",
       "      <td>0.882531</td>\n",
       "      <td>0.884016</td>\n",
       "      <td>0.345577</td>\n",
       "      <td>0.119424</td>\n",
       "      <td>0.521656</td>\n",
       "      <td>0.119424</td>\n",
       "      <td>NaN</td>\n",
       "      <td>0.888173</td>\n",
       "      <td>0.880576</td>\n",
       "      <td>None</td>\n",
       "      <td>2099     0\n",
       "8657     0\n",
       "13202    0\n",
       "7809     0\n",
       "55...</td>\n",
       "      <td>0.880576</td>\n",
       "      <td>NaN</td>\n",
       "    </tr>\n",
       "  </tbody>\n",
       "</table>\n",
       "</div>"
      ],
      "text/plain": [
       "                        model  accuracy  precision    recall        f1  \\\n",
       "0                      logreg  0.928235   0.945796  0.913950  0.929600   \n",
       "1          adaboostclassifier       NaN   0.909040  0.870657  0.889435   \n",
       "2  gradientboostingclassifier       NaN   0.934180  0.864778  0.898140   \n",
       "3      randomforestclassifier       NaN   0.983960  0.950828  0.967111   \n",
       "4                  gaussiannb       NaN   0.932692  0.829503  0.878076   \n",
       "\n",
       "        auc  cross_val_score      rmse       mae        r2       mse time  \\\n",
       "0  0.928782         0.929259  0.267890  0.071765  0.712549  0.071765  NaN   \n",
       "1  0.888436         0.889073  0.334992  0.112219  0.550512  0.112219  NaN   \n",
       "2  0.899593         0.896694  0.318889  0.101690  0.592686  0.101690  NaN   \n",
       "3  0.967071         0.954826  0.183105  0.033527  0.865708  0.033527  NaN   \n",
       "4  0.882531         0.884016  0.345577  0.119424  0.521656  0.119424  NaN   \n",
       "\n",
       "   train_score  test_score best_params  \\\n",
       "0          NaN         NaN         NaN   \n",
       "1     0.894963    0.887781        None   \n",
       "2     0.907989    0.898310        None   \n",
       "3     1.000000    0.966473        None   \n",
       "4     0.888173    0.880576        None   \n",
       "\n",
       "                                           residuals  accuracy_score  \\\n",
       "0                                                NaN             NaN   \n",
       "1  2099     0\n",
       "8657     0\n",
       "13202    0\n",
       "7809     0\n",
       "55...        0.887781   \n",
       "2  2099     0\n",
       "8657     0\n",
       "13202    0\n",
       "7809     0\n",
       "55...        0.898310   \n",
       "3  2099     0\n",
       "8657     0\n",
       "13202    0\n",
       "7809     0\n",
       "55...        0.966473   \n",
       "4  2099     0\n",
       "8657     0\n",
       "13202    0\n",
       "7809     0\n",
       "55...        0.880576   \n",
       "\n",
       "  best_score  \n",
       "0        NaN  \n",
       "1        NaN  \n",
       "2        NaN  \n",
       "3        NaN  \n",
       "4        NaN  "
      ]
     },
     "execution_count": 241,
     "metadata": {},
     "output_type": "execute_result"
    }
   ],
   "source": [
    "master_results_dataframe.head()"
   ]
  },
  {
   "cell_type": "markdown",
   "metadata": {},
   "source": [
    "<h1> How does Sentiment affect "
   ]
  },
  {
   "cell_type": "code",
   "execution_count": 242,
   "metadata": {},
   "outputs": [
    {
     "ename": "KeyError",
     "evalue": "'y_test'",
     "output_type": "error",
     "traceback": [
      "\u001b[0;31m---------------------------------------------------------------------------\u001b[0m",
      "\u001b[0;31mKeyError\u001b[0m                                  Traceback (most recent call last)",
      "File \u001b[0;32m~/opt/anaconda3/envs/EmersonWriter/envs/master_env_temp/lib/python3.9/site-packages/pandas/core/indexes/base.py:3803\u001b[0m, in \u001b[0;36mIndex.get_loc\u001b[0;34m(self, key, method, tolerance)\u001b[0m\n\u001b[1;32m   3802\u001b[0m \u001b[39mtry\u001b[39;00m:\n\u001b[0;32m-> 3803\u001b[0m     \u001b[39mreturn\u001b[39;00m \u001b[39mself\u001b[39;49m\u001b[39m.\u001b[39;49m_engine\u001b[39m.\u001b[39;49mget_loc(casted_key)\n\u001b[1;32m   3804\u001b[0m \u001b[39mexcept\u001b[39;00m \u001b[39mKeyError\u001b[39;00m \u001b[39mas\u001b[39;00m err:\n",
      "File \u001b[0;32m~/opt/anaconda3/envs/EmersonWriter/envs/master_env_temp/lib/python3.9/site-packages/pandas/_libs/index.pyx:138\u001b[0m, in \u001b[0;36mpandas._libs.index.IndexEngine.get_loc\u001b[0;34m()\u001b[0m\n",
      "File \u001b[0;32m~/opt/anaconda3/envs/EmersonWriter/envs/master_env_temp/lib/python3.9/site-packages/pandas/_libs/index.pyx:165\u001b[0m, in \u001b[0;36mpandas._libs.index.IndexEngine.get_loc\u001b[0;34m()\u001b[0m\n",
      "File \u001b[0;32mpandas/_libs/hashtable_class_helper.pxi:5745\u001b[0m, in \u001b[0;36mpandas._libs.hashtable.PyObjectHashTable.get_item\u001b[0;34m()\u001b[0m\n",
      "File \u001b[0;32mpandas/_libs/hashtable_class_helper.pxi:5753\u001b[0m, in \u001b[0;36mpandas._libs.hashtable.PyObjectHashTable.get_item\u001b[0;34m()\u001b[0m\n",
      "\u001b[0;31mKeyError\u001b[0m: 'y_test'",
      "\nThe above exception was the direct cause of the following exception:\n",
      "\u001b[0;31mKeyError\u001b[0m                                  Traceback (most recent call last)",
      "Cell \u001b[0;32mIn [242], line 2\u001b[0m\n\u001b[1;32m      1\u001b[0m \u001b[38;5;66;03m# plot the residuals of the adaboost model\u001b[39;00m\n\u001b[0;32m----> 2\u001b[0m \u001b[43msns\u001b[49m\u001b[38;5;241;43m.\u001b[39;49m\u001b[43mresidplot\u001b[49m\u001b[43m(\u001b[49m\u001b[43mx\u001b[49m\u001b[38;5;241;43m=\u001b[39;49m\u001b[38;5;124;43m'\u001b[39;49m\u001b[38;5;124;43my_test\u001b[39;49m\u001b[38;5;124;43m'\u001b[39;49m\u001b[43m,\u001b[49m\u001b[43m \u001b[49m\u001b[43my\u001b[49m\u001b[38;5;241;43m=\u001b[39;49m\u001b[38;5;124;43m'\u001b[39;49m\u001b[38;5;124;43my_pred\u001b[39;49m\u001b[38;5;124;43m'\u001b[39;49m\u001b[43m,\u001b[49m\u001b[43m \u001b[49m\u001b[43mdata\u001b[49m\u001b[38;5;241;43m=\u001b[39;49m\u001b[43mmaster_results_dataframe\u001b[49m\u001b[43m[\u001b[49m\u001b[43mmaster_results_dataframe\u001b[49m\u001b[43m[\u001b[49m\u001b[38;5;124;43m'\u001b[39;49m\u001b[38;5;124;43mmodel\u001b[39;49m\u001b[38;5;124;43m'\u001b[39;49m\u001b[43m]\u001b[49m\u001b[43m \u001b[49m\u001b[38;5;241;43m==\u001b[39;49m\u001b[43m \u001b[49m\u001b[38;5;124;43m'\u001b[39;49m\u001b[38;5;124;43madaboost\u001b[39;49m\u001b[38;5;124;43m'\u001b[39;49m\u001b[43m]\u001b[49m\u001b[43m,\u001b[49m\u001b[43m \u001b[49m\u001b[43mcolor\u001b[49m\u001b[38;5;241;43m=\u001b[39;49m\u001b[38;5;124;43m'\u001b[39;49m\u001b[38;5;124;43mg\u001b[39;49m\u001b[38;5;124;43m'\u001b[39;49m\u001b[43m)\u001b[49m\n\u001b[1;32m      3\u001b[0m plt\u001b[38;5;241m.\u001b[39mtitle(\u001b[38;5;124m'\u001b[39m\u001b[38;5;124mResidual Plot of AdaBoost Model\u001b[39m\u001b[38;5;124m'\u001b[39m)\n\u001b[1;32m      4\u001b[0m plt\u001b[38;5;241m.\u001b[39mxlabel(\u001b[38;5;124m'\u001b[39m\u001b[38;5;124my_test\u001b[39m\u001b[38;5;124m'\u001b[39m)\n",
      "File \u001b[0;32m~/opt/anaconda3/envs/EmersonWriter/envs/master_env_temp/lib/python3.9/site-packages/seaborn/regression.py:899\u001b[0m, in \u001b[0;36mresidplot\u001b[0;34m(data, x, y, x_partial, y_partial, lowess, order, robust, dropna, label, color, scatter_kws, line_kws, ax)\u001b[0m\n\u001b[1;32m    838\u001b[0m \u001b[39mdef\u001b[39;00m \u001b[39mresidplot\u001b[39m(\n\u001b[1;32m    839\u001b[0m     data\u001b[39m=\u001b[39m\u001b[39mNone\u001b[39;00m, \u001b[39m*\u001b[39m, x\u001b[39m=\u001b[39m\u001b[39mNone\u001b[39;00m, y\u001b[39m=\u001b[39m\u001b[39mNone\u001b[39;00m,\n\u001b[1;32m    840\u001b[0m     x_partial\u001b[39m=\u001b[39m\u001b[39mNone\u001b[39;00m, y_partial\u001b[39m=\u001b[39m\u001b[39mNone\u001b[39;00m, lowess\u001b[39m=\u001b[39m\u001b[39mFalse\u001b[39;00m,\n\u001b[1;32m    841\u001b[0m     order\u001b[39m=\u001b[39m\u001b[39m1\u001b[39m, robust\u001b[39m=\u001b[39m\u001b[39mFalse\u001b[39;00m, dropna\u001b[39m=\u001b[39m\u001b[39mTrue\u001b[39;00m, label\u001b[39m=\u001b[39m\u001b[39mNone\u001b[39;00m, color\u001b[39m=\u001b[39m\u001b[39mNone\u001b[39;00m,\n\u001b[1;32m    842\u001b[0m     scatter_kws\u001b[39m=\u001b[39m\u001b[39mNone\u001b[39;00m, line_kws\u001b[39m=\u001b[39m\u001b[39mNone\u001b[39;00m, ax\u001b[39m=\u001b[39m\u001b[39mNone\u001b[39;00m\n\u001b[1;32m    843\u001b[0m ):\n\u001b[1;32m    844\u001b[0m     \u001b[39m\"\"\"Plot the residuals of a linear regression.\u001b[39;00m\n\u001b[1;32m    845\u001b[0m \n\u001b[1;32m    846\u001b[0m \u001b[39m    This function will regress y on x (possibly as a robust or polynomial\u001b[39;00m\n\u001b[0;32m   (...)\u001b[0m\n\u001b[1;32m    897\u001b[0m \n\u001b[1;32m    898\u001b[0m \u001b[39m    \"\"\"\u001b[39;00m\n\u001b[0;32m--> 899\u001b[0m     plotter \u001b[39m=\u001b[39m _RegressionPlotter(x, y, data, ci\u001b[39m=\u001b[39;49m\u001b[39mNone\u001b[39;49;00m,\n\u001b[1;32m    900\u001b[0m                                  order\u001b[39m=\u001b[39;49morder, robust\u001b[39m=\u001b[39;49mrobust,\n\u001b[1;32m    901\u001b[0m                                  x_partial\u001b[39m=\u001b[39;49mx_partial, y_partial\u001b[39m=\u001b[39;49my_partial,\n\u001b[1;32m    902\u001b[0m                                  dropna\u001b[39m=\u001b[39;49mdropna, color\u001b[39m=\u001b[39;49mcolor, label\u001b[39m=\u001b[39;49mlabel)\n\u001b[1;32m    904\u001b[0m     \u001b[39mif\u001b[39;00m ax \u001b[39mis\u001b[39;00m \u001b[39mNone\u001b[39;00m:\n\u001b[1;32m    905\u001b[0m         ax \u001b[39m=\u001b[39m plt\u001b[39m.\u001b[39mgca()\n",
      "File \u001b[0;32m~/opt/anaconda3/envs/EmersonWriter/envs/master_env_temp/lib/python3.9/site-packages/seaborn/regression.py:107\u001b[0m, in \u001b[0;36m_RegressionPlotter.__init__\u001b[0;34m(self, x, y, data, x_estimator, x_bins, x_ci, scatter, fit_reg, ci, n_boot, units, seed, order, logistic, lowess, robust, logx, x_partial, y_partial, truncate, dropna, x_jitter, y_jitter, color, label)\u001b[0m\n\u001b[1;32m    104\u001b[0m     \u001b[39mraise\u001b[39;00m \u001b[39mValueError\u001b[39;00m(\u001b[39m\"\u001b[39m\u001b[39mMutually exclusive regression options.\u001b[39m\u001b[39m\"\u001b[39m)\n\u001b[1;32m    106\u001b[0m \u001b[39m# Extract the data vals from the arguments or passed dataframe\u001b[39;00m\n\u001b[0;32m--> 107\u001b[0m \u001b[39mself\u001b[39;49m\u001b[39m.\u001b[39;49mestablish_variables(data, x\u001b[39m=\u001b[39;49mx, y\u001b[39m=\u001b[39;49my, units\u001b[39m=\u001b[39;49munits,\n\u001b[1;32m    108\u001b[0m                          x_partial\u001b[39m=\u001b[39;49mx_partial, y_partial\u001b[39m=\u001b[39;49my_partial)\n\u001b[1;32m    110\u001b[0m \u001b[39m# Drop null observations\u001b[39;00m\n\u001b[1;32m    111\u001b[0m \u001b[39mif\u001b[39;00m dropna:\n",
      "File \u001b[0;32m~/opt/anaconda3/envs/EmersonWriter/envs/master_env_temp/lib/python3.9/site-packages/seaborn/regression.py:44\u001b[0m, in \u001b[0;36m_LinearPlotter.establish_variables\u001b[0;34m(self, data, **kws)\u001b[0m\n\u001b[1;32m     42\u001b[0m \u001b[39mfor\u001b[39;00m var, val \u001b[39min\u001b[39;00m kws\u001b[39m.\u001b[39mitems():\n\u001b[1;32m     43\u001b[0m     \u001b[39mif\u001b[39;00m \u001b[39misinstance\u001b[39m(val, \u001b[39mstr\u001b[39m):\n\u001b[0;32m---> 44\u001b[0m         vector \u001b[39m=\u001b[39m data[val]\n\u001b[1;32m     45\u001b[0m     \u001b[39melif\u001b[39;00m \u001b[39misinstance\u001b[39m(val, \u001b[39mlist\u001b[39m):\n\u001b[1;32m     46\u001b[0m         vector \u001b[39m=\u001b[39m np\u001b[39m.\u001b[39masarray(val)\n",
      "File \u001b[0;32m~/opt/anaconda3/envs/EmersonWriter/envs/master_env_temp/lib/python3.9/site-packages/pandas/core/frame.py:3804\u001b[0m, in \u001b[0;36mDataFrame.__getitem__\u001b[0;34m(self, key)\u001b[0m\n\u001b[1;32m   3802\u001b[0m \u001b[39mif\u001b[39;00m \u001b[39mself\u001b[39m\u001b[39m.\u001b[39mcolumns\u001b[39m.\u001b[39mnlevels \u001b[39m>\u001b[39m \u001b[39m1\u001b[39m:\n\u001b[1;32m   3803\u001b[0m     \u001b[39mreturn\u001b[39;00m \u001b[39mself\u001b[39m\u001b[39m.\u001b[39m_getitem_multilevel(key)\n\u001b[0;32m-> 3804\u001b[0m indexer \u001b[39m=\u001b[39m \u001b[39mself\u001b[39;49m\u001b[39m.\u001b[39;49mcolumns\u001b[39m.\u001b[39;49mget_loc(key)\n\u001b[1;32m   3805\u001b[0m \u001b[39mif\u001b[39;00m is_integer(indexer):\n\u001b[1;32m   3806\u001b[0m     indexer \u001b[39m=\u001b[39m [indexer]\n",
      "File \u001b[0;32m~/opt/anaconda3/envs/EmersonWriter/envs/master_env_temp/lib/python3.9/site-packages/pandas/core/indexes/base.py:3805\u001b[0m, in \u001b[0;36mIndex.get_loc\u001b[0;34m(self, key, method, tolerance)\u001b[0m\n\u001b[1;32m   3803\u001b[0m     \u001b[39mreturn\u001b[39;00m \u001b[39mself\u001b[39m\u001b[39m.\u001b[39m_engine\u001b[39m.\u001b[39mget_loc(casted_key)\n\u001b[1;32m   3804\u001b[0m \u001b[39mexcept\u001b[39;00m \u001b[39mKeyError\u001b[39;00m \u001b[39mas\u001b[39;00m err:\n\u001b[0;32m-> 3805\u001b[0m     \u001b[39mraise\u001b[39;00m \u001b[39mKeyError\u001b[39;00m(key) \u001b[39mfrom\u001b[39;00m \u001b[39merr\u001b[39;00m\n\u001b[1;32m   3806\u001b[0m \u001b[39mexcept\u001b[39;00m \u001b[39mTypeError\u001b[39;00m:\n\u001b[1;32m   3807\u001b[0m     \u001b[39m# If we have a listlike key, _check_indexing_error will raise\u001b[39;00m\n\u001b[1;32m   3808\u001b[0m     \u001b[39m#  InvalidIndexError. Otherwise we fall through and re-raise\u001b[39;00m\n\u001b[1;32m   3809\u001b[0m     \u001b[39m#  the TypeError.\u001b[39;00m\n\u001b[1;32m   3810\u001b[0m     \u001b[39mself\u001b[39m\u001b[39m.\u001b[39m_check_indexing_error(key)\n",
      "\u001b[0;31mKeyError\u001b[0m: 'y_test'"
     ]
    }
   ],
   "source": []
  }
 ],
 "metadata": {
  "kernelspec": {
   "display_name": "Python 3.9.6 ('master_env_temp')",
   "language": "python",
   "name": "python3"
  },
  "language_info": {
   "codemirror_mode": {
    "name": "ipython",
    "version": 3
   },
   "file_extension": ".py",
   "mimetype": "text/x-python",
   "name": "python",
   "nbconvert_exporter": "python",
   "pygments_lexer": "ipython3",
   "version": "3.9.6"
  },
  "orig_nbformat": 4,
  "vscode": {
   "interpreter": {
    "hash": "666dfdc1c3434f60b2f64fdb13e0b185df8f5878ddae1a39c75e1eb2af091f89"
   }
  }
 },
 "nbformat": 4,
 "nbformat_minor": 2
}
