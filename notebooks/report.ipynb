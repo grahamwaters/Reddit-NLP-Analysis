{
 "cells": [
  {
   "cell_type": "code",
   "execution_count": 16,
   "metadata": {},
   "outputs": [],
   "source": [
    "import pandas as pd\n",
    "from feature_engineering import run_feature_engineering"
   ]
  },
  {
   "cell_type": "code",
   "execution_count": 17,
   "metadata": {},
   "outputs": [],
   "source": [
    "df = pd.read_csv(\"./data/df_cleaned.csv\")\n",
    "# drop the unnamed column\n",
    "try:\n",
    "    df.drop(columns=[\"Unnamed: 0\"], inplace=True)\n",
    "except:\n",
    "    pass"
   ]
  },
  {
   "cell_type": "code",
   "execution_count": 18,
   "metadata": {},
   "outputs": [
    {
     "data": {
      "text/plain": [
       "Index(['title', 'selftext', 'subreddit', 'author', 'created_utc'], dtype='object')"
      ]
     },
     "execution_count": 18,
     "metadata": {},
     "output_type": "execute_result"
    }
   ],
   "source": [
    "df.columns"
   ]
  },
  {
   "cell_type": "markdown",
   "metadata": {},
   "source": [
    "Exploring the data in the dataframe will help us to understand our results better. We can use the `head` method to see the first few rows of the dataframe."
   ]
  },
  {
   "cell_type": "code",
   "execution_count": null,
   "metadata": {},
   "outputs": [
    {
     "data": {
      "text/html": [
       "<div>\n",
       "<style scoped>\n",
       "    .dataframe tbody tr th:only-of-type {\n",
       "        vertical-align: middle;\n",
       "    }\n",
       "\n",
       "    .dataframe tbody tr th {\n",
       "        vertical-align: top;\n",
       "    }\n",
       "\n",
       "    .dataframe thead th {\n",
       "        text-align: right;\n",
       "    }\n",
       "</style>\n",
       "<table border=\"1\" class=\"dataframe\">\n",
       "  <thead>\n",
       "    <tr style=\"text-align: right;\">\n",
       "      <th></th>\n",
       "      <th>title</th>\n",
       "      <th>selftext</th>\n",
       "      <th>subreddit</th>\n",
       "      <th>author</th>\n",
       "      <th>created_utc</th>\n",
       "    </tr>\n",
       "  </thead>\n",
       "  <tbody>\n",
       "    <tr>\n",
       "      <th>0</th>\n",
       "      <td>tipsweird things relieve anxiety</td>\n",
       "      <td>tipsweird things relieve anxiety literally sta...</td>\n",
       "      <td>OCD</td>\n",
       "      <td>anxiouscharlie</td>\n",
       "      <td>1517297338</td>\n",
       "    </tr>\n",
       "    <tr>\n",
       "      <th>1</th>\n",
       "      <td>trusting girlfriend</td>\n",
       "      <td>help trusting girlfriend hi great typer apolog...</td>\n",
       "      <td>OCD</td>\n",
       "      <td>TonyAFC32</td>\n",
       "      <td>1517308622</td>\n",
       "    </tr>\n",
       "    <tr>\n",
       "      <th>2</th>\n",
       "      <td>suicideocd something worse</td>\n",
       "      <td>suicideocd something worse hopefully suffer su...</td>\n",
       "      <td>OCD</td>\n",
       "      <td>noodiagnosis</td>\n",
       "      <td>1517322871</td>\n",
       "    </tr>\n",
       "    <tr>\n",
       "      <th>3</th>\n",
       "      <td>therapist made recording true</td>\n",
       "      <td>therapist made recording intrusive true listen...</td>\n",
       "      <td>OCD</td>\n",
       "      <td>RevolutionaryFriend</td>\n",
       "      <td>1517337430</td>\n",
       "    </tr>\n",
       "    <tr>\n",
       "      <th>4</th>\n",
       "      <td>conditional</td>\n",
       "      <td>conditional anyone else vouch conditional form...</td>\n",
       "      <td>OCD</td>\n",
       "      <td>Colossus_Bastard</td>\n",
       "      <td>1517341002</td>\n",
       "    </tr>\n",
       "  </tbody>\n",
       "</table>\n",
       "</div>"
      ],
      "text/plain": [
       "                              title  \\\n",
       "0  tipsweird things relieve anxiety   \n",
       "1               trusting girlfriend   \n",
       "2        suicideocd something worse   \n",
       "3     therapist made recording true   \n",
       "4                       conditional   \n",
       "\n",
       "                                           selftext subreddit  \\\n",
       "0  tipsweird things relieve anxiety literally sta...       OCD   \n",
       "1  help trusting girlfriend hi great typer apolog...       OCD   \n",
       "2  suicideocd something worse hopefully suffer su...       OCD   \n",
       "3  therapist made recording intrusive true listen...       OCD   \n",
       "4  conditional anyone else vouch conditional form...       OCD   \n",
       "\n",
       "                author  created_utc  \n",
       "0       anxiouscharlie   1517297338  \n",
       "1            TonyAFC32   1517308622  \n",
       "2         noodiagnosis   1517322871  \n",
       "3  RevolutionaryFriend   1517337430  \n",
       "4     Colossus_Bastard   1517341002  "
      ]
     },
     "execution_count": 8,
     "metadata": {},
     "output_type": "execute_result"
    }
   ],
   "source": [
    "df.head()"
   ]
  },
  {
   "cell_type": "code",
   "execution_count": null,
   "metadata": {},
   "outputs": [
    {
     "data": {
      "text/html": [
       "<div>\n",
       "<style scoped>\n",
       "    .dataframe tbody tr th:only-of-type {\n",
       "        vertical-align: middle;\n",
       "    }\n",
       "\n",
       "    .dataframe tbody tr th {\n",
       "        vertical-align: top;\n",
       "    }\n",
       "\n",
       "    .dataframe thead th {\n",
       "        text-align: right;\n",
       "    }\n",
       "</style>\n",
       "<table border=\"1\" class=\"dataframe\">\n",
       "  <thead>\n",
       "    <tr style=\"text-align: right;\">\n",
       "      <th></th>\n",
       "      <th>created_utc</th>\n",
       "    </tr>\n",
       "  </thead>\n",
       "  <tbody>\n",
       "    <tr>\n",
       "      <th>count</th>\n",
       "      <td>2.873800e+04</td>\n",
       "    </tr>\n",
       "    <tr>\n",
       "      <th>mean</th>\n",
       "      <td>1.576129e+09</td>\n",
       "    </tr>\n",
       "    <tr>\n",
       "      <th>std</th>\n",
       "      <td>3.125405e+07</td>\n",
       "    </tr>\n",
       "    <tr>\n",
       "      <th>min</th>\n",
       "      <td>1.517297e+09</td>\n",
       "    </tr>\n",
       "    <tr>\n",
       "      <th>25%</th>\n",
       "      <td>1.552529e+09</td>\n",
       "    </tr>\n",
       "    <tr>\n",
       "      <th>50%</th>\n",
       "      <td>1.574539e+09</td>\n",
       "    </tr>\n",
       "    <tr>\n",
       "      <th>75%</th>\n",
       "      <td>1.598549e+09</td>\n",
       "    </tr>\n",
       "    <tr>\n",
       "      <th>max</th>\n",
       "      <td>1.636070e+09</td>\n",
       "    </tr>\n",
       "  </tbody>\n",
       "</table>\n",
       "</div>"
      ],
      "text/plain": [
       "        created_utc\n",
       "count  2.873800e+04\n",
       "mean   1.576129e+09\n",
       "std    3.125405e+07\n",
       "min    1.517297e+09\n",
       "25%    1.552529e+09\n",
       "50%    1.574539e+09\n",
       "75%    1.598549e+09\n",
       "max    1.636070e+09"
      ]
     },
     "execution_count": 9,
     "metadata": {},
     "output_type": "execute_result"
    }
   ],
   "source": [
    "df.describe()"
   ]
  }
 ],
 "metadata": {
  "kernelspec": {
   "display_name": "Python 3.9.6 ('base')",
   "language": "python",
   "name": "python3"
  },
  "language_info": {
   "codemirror_mode": {
    "name": "ipython",
    "version": 3
   },
   "file_extension": ".py",
   "mimetype": "text/x-python",
   "name": "python",
   "nbconvert_exporter": "python",
   "pygments_lexer": "ipython3",
   "version": "3.9.6"
  },
  "orig_nbformat": 4,
  "vscode": {
   "interpreter": {
    "hash": "6e8cf12211551e1ecfb7b84827bd23b348fb076393a508e20e995a8149682546"
   }
  }
 },
 "nbformat": 4,
 "nbformat_minor": 2
}
